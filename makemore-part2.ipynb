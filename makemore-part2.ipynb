{
 "cells": [
  {
   "cell_type": "markdown",
   "id": "3d27883b-cf15-4d40-b0fd-c187ad265901",
   "metadata": {},
   "source": [
    "# PART 2 - MLP"
   ]
  },
  {
   "cell_type": "code",
   "execution_count": 1,
   "id": "2958a326-c0de-43eb-8fdc-813c43b42f4a",
   "metadata": {},
   "outputs": [],
   "source": [
    "import torch\n",
    "import torch.nn.functional as F\n",
    "import matplotlib.pyplot as plt\n",
    "%matplotlib inline"
   ]
  },
  {
   "cell_type": "code",
   "execution_count": 2,
   "id": "ef3ea48d-c849-4994-9ce9-58a3ab040e65",
   "metadata": {},
   "outputs": [
    {
     "data": {
      "text/plain": [
       "['emma',\n",
       " 'olivia',\n",
       " 'ava',\n",
       " 'isabella',\n",
       " 'sophia',\n",
       " 'charlotte',\n",
       " 'mia',\n",
       " 'amelia',\n",
       " 'harper',\n",
       " 'evelyn']"
      ]
     },
     "execution_count": 2,
     "metadata": {},
     "output_type": "execute_result"
    }
   ],
   "source": [
    "# read in all names\n",
    "words = open('names.txt', 'r').read().splitlines()\n",
    "words[:10]"
   ]
  },
  {
   "cell_type": "code",
   "execution_count": 3,
   "id": "f9380ce4-09a4-4f26-a7e7-830449da59f4",
   "metadata": {},
   "outputs": [
    {
     "data": {
      "text/plain": [
       "32033"
      ]
     },
     "execution_count": 3,
     "metadata": {},
     "output_type": "execute_result"
    }
   ],
   "source": [
    "len(words)"
   ]
  },
  {
   "cell_type": "code",
   "execution_count": 4,
   "id": "0d154017-68ff-4179-a83c-e2fcd4976ef9",
   "metadata": {},
   "outputs": [
    {
     "name": "stdout",
     "output_type": "stream",
     "text": [
      "{1: 'a', 2: 'b', 3: 'c', 4: 'd', 5: 'e', 6: 'f', 7: 'g', 8: 'h', 9: 'i', 10: 'j', 11: 'k', 12: 'l', 13: 'm', 14: 'n', 15: 'o', 16: 'p', 17: 'q', 18: 'r', 19: 's', 20: 't', 21: 'u', 22: 'v', 23: 'w', 24: 'x', 25: 'y', 26: 'z', 0: '.'}\n"
     ]
    }
   ],
   "source": [
    "# build vocab\n",
    "chars = sorted(\n",
    "    list( set(''.join(words) ) )\n",
    ")\n",
    "stoi = {s:i+1 for i, s in enumerate(chars) }\n",
    "stoi['.'] = 0\n",
    "itos = {i:s for s, i in stoi.items() }\n",
    "print(itos)"
   ]
  },
  {
   "cell_type": "code",
   "execution_count": 141,
   "id": "1bafc03d-1f3b-450e-9b94-f35ffa03f647",
   "metadata": {},
   "outputs": [],
   "source": [
    "# build dataset\n",
    "\n",
    "def build_dataset(words):\n",
    "    \n",
    "    block_size = 3 # context length, how many chars to take to predict next 1\n",
    "    X, Y = [], [] # inputs, targets\n",
    "    \n",
    "    for w in words:\n",
    "        # print(w)\n",
    "        context = [0] * block_size\n",
    "        for ch in w + '.':\n",
    "            ix = stoi[ch]\n",
    "            X.append(context) # context words\n",
    "            Y.append(ix)\n",
    "            # print(''.join(itos[i] for i in context), '--->', itos[ix])\n",
    "            context = context[1:] + [ix]\n",
    "    \n",
    "    X = torch.tensor(X)\n",
    "    Y = torch.tensor(Y)\n",
    "    print(X.shape, Y.shape)\n",
    "\n",
    "    return X, Y"
   ]
  },
  {
   "cell_type": "code",
   "execution_count": 142,
   "id": "3b0321b3-d794-4598-8a58-0ede3987e864",
   "metadata": {},
   "outputs": [
    {
     "name": "stdout",
     "output_type": "stream",
     "text": [
      "torch.Size([182625, 3]) torch.Size([182625])\n",
      "torch.Size([22655, 3]) torch.Size([22655])\n",
      "torch.Size([22866, 3]) torch.Size([22866])\n"
     ]
    }
   ],
   "source": [
    "import random\n",
    "random.seed(42)\n",
    "random.shuffle(words)\n",
    "n1 = int(0.8 * len(words))\n",
    "n2 = int(0.9 * len(words))\n",
    "\n",
    "# train/dev/test split\n",
    "Xtr, Ytr = build_dataset(words[:n1])\n",
    "Xdev, Ydev = build_dataset(words[n1:n2])\n",
    "Xte, Yte = build_dataset(words[n2:])"
   ]
  },
  {
   "cell_type": "code",
   "execution_count": 152,
   "id": "e93e6e28-8bd6-4557-897f-3e1af240f334",
   "metadata": {},
   "outputs": [
    {
     "data": {
      "text/plain": [
       "(torch.Size([228146, 3]), torch.int64, torch.int64)"
      ]
     },
     "execution_count": 152,
     "metadata": {},
     "output_type": "execute_result"
    }
   ],
   "source": [
    "# 5 words -> 32 samples\n",
    "X.shape, X.dtype, Y.dtype"
   ]
  },
  {
   "cell_type": "code",
   "execution_count": 7,
   "id": "5f0c2cde-5c16-4068-88d6-920ea768db9e",
   "metadata": {},
   "outputs": [
    {
     "data": {
      "text/plain": [
       "tensor([[ 0,  0,  0],\n",
       "        [ 0,  0,  5],\n",
       "        [ 0,  5, 13],\n",
       "        [ 5, 13, 13],\n",
       "        [13, 13,  1],\n",
       "        [ 0,  0,  0],\n",
       "        [ 0,  0, 15],\n",
       "        [ 0, 15, 12],\n",
       "        [15, 12,  9],\n",
       "        [12,  9, 22],\n",
       "        [ 9, 22,  9],\n",
       "        [22,  9,  1],\n",
       "        [ 0,  0,  0],\n",
       "        [ 0,  0,  1],\n",
       "        [ 0,  1, 22],\n",
       "        [ 1, 22,  1],\n",
       "        [ 0,  0,  0],\n",
       "        [ 0,  0,  9],\n",
       "        [ 0,  9, 19],\n",
       "        [ 9, 19,  1],\n",
       "        [19,  1,  2],\n",
       "        [ 1,  2,  5],\n",
       "        [ 2,  5, 12],\n",
       "        [ 5, 12, 12],\n",
       "        [12, 12,  1],\n",
       "        [ 0,  0,  0],\n",
       "        [ 0,  0, 19],\n",
       "        [ 0, 19, 15],\n",
       "        [19, 15, 16],\n",
       "        [15, 16,  8],\n",
       "        [16,  8,  9],\n",
       "        [ 8,  9,  1]])"
      ]
     },
     "execution_count": 7,
     "metadata": {},
     "output_type": "execute_result"
    }
   ],
   "source": [
    "X"
   ]
  },
  {
   "cell_type": "code",
   "execution_count": 150,
   "id": "f5c89eb5-d1eb-42bf-bfe3-8cc61d9cff35",
   "metadata": {},
   "outputs": [
    {
     "data": {
      "text/plain": [
       "tensor([ 5, 13, 13,  ..., 26, 24,  0])"
      ]
     },
     "execution_count": 150,
     "metadata": {},
     "output_type": "execute_result"
    }
   ],
   "source": [
    "Y"
   ]
  },
  {
   "attachments": {
    "9ffae813-78c2-47ca-b2ea-7e3fc60f6d5a.png": {
     "image/png": "[encoded data removed]"
    }
   },
   "cell_type": "markdown",
   "id": "8c6fe138-04ea-4269-af2d-51f99dde6f65",
   "metadata": {},
   "source": [
    "### embedding\n",
    "lets project our vocabulary (27 chars) into lower dimension space.  lets start with 2 for 2d\n",
    "\n",
    "\n",
    "![image.png](attachment:9ffae813-78c2-47ca-b2ea-7e3fc60f6d5a.png)"
   ]
  },
  {
   "cell_type": "code",
   "execution_count": 9,
   "id": "1c244626-66c9-45c8-a741-98db4f1addc2",
   "metadata": {},
   "outputs": [],
   "source": [
    "C = torch.randn((27, 2))"
   ]
  },
  {
   "cell_type": "code",
   "execution_count": 11,
   "id": "62de7d6a-55f8-45ec-be04-f35c29b28d88",
   "metadata": {},
   "outputs": [
    {
     "data": {
      "text/plain": [
       "torch.Size([32, 3, 2])"
      ]
     },
     "execution_count": 11,
     "metadata": {},
     "output_type": "execute_result"
    }
   ],
   "source": [
    "# we can index embedding C, using a multi dim tensor, in our case X=[32, 3]\n",
    "C[X].shape"
   ]
  },
  {
   "cell_type": "code",
   "execution_count": 21,
   "id": "bd78b04b-c2cc-43f8-b6a9-b4de001e53ef",
   "metadata": {},
   "outputs": [
    {
     "data": {
      "text/plain": [
       "tensor([ 0.7820, -3.0774])"
      ]
     },
     "execution_count": 21,
     "metadata": {},
     "output_type": "execute_result"
    }
   ],
   "source": [
    "C[X][7, 2]"
   ]
  },
  {
   "cell_type": "code",
   "execution_count": 22,
   "id": "5f888b42-bea7-427f-a24f-139da59fce5b",
   "metadata": {},
   "outputs": [
    {
     "data": {
      "text/plain": [
       "tensor([ 0.7820, -3.0774])"
      ]
     },
     "execution_count": 22,
     "metadata": {},
     "output_type": "execute_result"
    }
   ],
   "source": [
    "C[12]"
   ]
  },
  {
   "cell_type": "code",
   "execution_count": 23,
   "id": "bd3f984c-4d30-4d25-8fdb-907f85d14457",
   "metadata": {},
   "outputs": [
    {
     "data": {
      "text/plain": [
       "torch.Size([32, 3, 2])"
      ]
     },
     "execution_count": 23,
     "metadata": {},
     "output_type": "execute_result"
    }
   ],
   "source": [
    "# so embedding is basically C[X]\n",
    "emb = C[X]\n",
    "emb.shape"
   ]
  },
  {
   "cell_type": "code",
   "execution_count": 24,
   "id": "08c52a27-426f-498b-b7d9-8eb3ca1bd0b4",
   "metadata": {},
   "outputs": [],
   "source": [
    "# non-linear layer inputs: [block_size * emb_dim] = 3x2 = 6\n",
    "# number of neurals, lets say 100\n",
    "W1 = torch.randn((6, 100))\n",
    "b1 = torch.randn(100)"
   ]
  },
  {
   "cell_type": "code",
   "execution_count": 151,
   "id": "28ac47b1-f37a-4f5f-9725-9bbd0b47f5de",
   "metadata": {},
   "outputs": [
    {
     "ename": "RuntimeError",
     "evalue": "shape '[32, 6]' is invalid for input of size 135930",
     "output_type": "error",
     "traceback": [
      "\u001b[0;31m---------------------------------------------------------------------------\u001b[0m",
      "\u001b[0;31mRuntimeError\u001b[0m                              Traceback (most recent call last)",
      "Cell \u001b[0;32mIn[151], line 5\u001b[0m\n\u001b[1;32m      1\u001b[0m \u001b[38;5;66;03m# emb is size [32,3,2], doesnt match W1\u001b[39;00m\n\u001b[1;32m      2\u001b[0m \u001b[38;5;66;03m# we need to manipulate emb to get shape of [32, 6]\u001b[39;00m\n\u001b[1;32m      3\u001b[0m \n\u001b[1;32m      4\u001b[0m \u001b[38;5;66;03m# tensor.view() lets you change shape\u001b[39;00m\n\u001b[0;32m----> 5\u001b[0m \u001b[43memb\u001b[49m\u001b[38;5;241;43m.\u001b[39;49m\u001b[43mview\u001b[49m\u001b[43m(\u001b[49m\u001b[38;5;241;43m32\u001b[39;49m\u001b[43m,\u001b[49m\u001b[43m \u001b[49m\u001b[38;5;241;43m6\u001b[39;49m\u001b[43m)\u001b[49m\n",
      "\u001b[0;31mRuntimeError\u001b[0m: shape '[32, 6]' is invalid for input of size 135930"
     ]
    }
   ],
   "source": [
    "# emb is size [32,3,2], doesnt match W1\n",
    "# we need to manipulate emb to get shape of [32, 6]\n",
    "\n",
    "# tensor.view() lets you change shape\n",
    "emb.view(32, 6)"
   ]
  },
  {
   "cell_type": "code",
   "execution_count": 33,
   "id": "badd4ec9-64bb-44fe-ba84-48d77125c904",
   "metadata": {},
   "outputs": [
    {
     "data": {
      "text/plain": [
       "tensor([[ 0.9969, -0.5079,  0.7834,  ...,  0.4108, -0.7926,  0.2331],\n",
       "        [ 0.9801,  0.1690, -0.4326,  ...,  0.4789, -0.9741,  0.1492],\n",
       "        [ 1.0000, -0.8853,  0.9851,  ..., -0.8810,  0.7192,  0.9999],\n",
       "        ...,\n",
       "        [ 0.5677,  0.9708,  0.2511,  ...,  0.9868, -0.9940, -0.9527],\n",
       "        [ 0.9992,  0.9484, -0.8915,  ...,  0.9170, -0.9972, -0.7400],\n",
       "        [ 0.9962,  0.9918,  0.2795,  ...,  0.9975, -0.9944, -0.6472]])"
      ]
     },
     "execution_count": 33,
     "metadata": {},
     "output_type": "execute_result"
    }
   ],
   "source": [
    "# now we can do matrix mult for hidden states\n",
    "h = torch.tanh(emb.view(-1, 6) @ W1 + b1)\n",
    "h"
   ]
  },
  {
   "cell_type": "code",
   "execution_count": 34,
   "id": "82ad977b-1e03-4e65-82ee-96f58dfa6e4f",
   "metadata": {},
   "outputs": [
    {
     "data": {
      "text/plain": [
       "torch.Size([32, 100])"
      ]
     },
     "execution_count": 34,
     "metadata": {},
     "output_type": "execute_result"
    }
   ],
   "source": [
    "h.shape"
   ]
  },
  {
   "cell_type": "code",
   "execution_count": 35,
   "id": "39bf08d5-aafc-4cb8-990a-e28a04a16c26",
   "metadata": {},
   "outputs": [],
   "source": [
    "# final layer that can perform softmax\n",
    "W2 = torch.randn(100, 27)\n",
    "b2 = torch.randn(27)"
   ]
  },
  {
   "cell_type": "code",
   "execution_count": 36,
   "id": "0b0ce663-ad00-49a2-be04-32f90e9d20f1",
   "metadata": {},
   "outputs": [],
   "source": [
    "logits = h @ W2 + b2"
   ]
  },
  {
   "cell_type": "code",
   "execution_count": 37,
   "id": "b7de6383-4b1c-4eae-970d-456eb014f5f9",
   "metadata": {},
   "outputs": [
    {
     "data": {
      "text/plain": [
       "torch.Size([32, 27])"
      ]
     },
     "execution_count": 37,
     "metadata": {},
     "output_type": "execute_result"
    }
   ],
   "source": [
    "logits.shape"
   ]
  },
  {
   "cell_type": "code",
   "execution_count": 38,
   "id": "68ac36cf-b86d-4c5d-9b31-4553bd9b4609",
   "metadata": {},
   "outputs": [],
   "source": [
    "counts = logits.exp()"
   ]
  },
  {
   "cell_type": "code",
   "execution_count": 39,
   "id": "d9f04076-c0c9-4721-b2b1-9d1a32176ec2",
   "metadata": {},
   "outputs": [],
   "source": [
    "prob = counts / counts.sum(1, keepdims=True)"
   ]
  },
  {
   "cell_type": "code",
   "execution_count": 40,
   "id": "fa414b4b-8691-47c0-849a-f5c1e5ff70de",
   "metadata": {},
   "outputs": [
    {
     "data": {
      "text/plain": [
       "tensor(1.0000)"
      ]
     },
     "execution_count": 40,
     "metadata": {},
     "output_type": "execute_result"
    }
   ],
   "source": [
    "prob[0].sum()"
   ]
  },
  {
   "cell_type": "code",
   "execution_count": 42,
   "id": "8d144859-6cc8-4823-b7c2-dd49fb922860",
   "metadata": {},
   "outputs": [
    {
     "data": {
      "text/plain": [
       "tensor(18.2078)"
      ]
     },
     "execution_count": 42,
     "metadata": {},
     "output_type": "execute_result"
    }
   ],
   "source": [
    "loss = -prob[torch.arange(32), Y].log().mean()\n",
    "loss"
   ]
  },
  {
   "cell_type": "code",
   "execution_count": 43,
   "id": "a336a549-1da0-4eb6-ad0c-eacb0e6fabb6",
   "metadata": {},
   "outputs": [],
   "source": [
    "# now make things respectable"
   ]
  },
  {
   "cell_type": "code",
   "execution_count": 153,
   "id": "69878e08-21c4-450d-915a-c23070a37673",
   "metadata": {},
   "outputs": [
    {
     "data": {
      "text/plain": [
       "(torch.Size([228146, 3]), torch.Size([228146]))"
      ]
     },
     "execution_count": 153,
     "metadata": {},
     "output_type": "execute_result"
    }
   ],
   "source": [
    "X.shape, Y.shape # dataset"
   ]
  },
  {
   "cell_type": "code",
   "execution_count": 201,
   "id": "fa57177d-7bfa-4798-ac27-98881dadde8e",
   "metadata": {},
   "outputs": [],
   "source": [
    "g = torch.Generator().manual_seed(2147483647) # reproducibility\n",
    "# embedding, 2d for each vocab, 27 total\n",
    "C = torch.randn((27, 10), generator=g)\n",
    "# layer 1, [context, hidden_size]=[3 word embedding, 100]=[6, 100]\n",
    "W1 = torch.randn((30, 200), generator=g)\n",
    "b1 = torch.randn(200, generator=g)\n",
    "# layer 2, [100, 27], output softmax\n",
    "W2 = torch.randn((200, 27), generator=g)\n",
    "b2 = torch.randn(27, generator=g)\n",
    "parameters = [C, W1, b1, W2, b2]\n",
    "for p in parameters:\n",
    "    p.requires_grad = True"
   ]
  },
  {
   "cell_type": "code",
   "execution_count": 173,
   "id": "16f30458-ee37-4259-b2d6-db1c6381c479",
   "metadata": {},
   "outputs": [
    {
     "data": {
      "text/plain": [
       "11897"
      ]
     },
     "execution_count": 173,
     "metadata": {},
     "output_type": "execute_result"
    }
   ],
   "source": [
    "sum(p.nelement() for p in parameters) # total number of params in network"
   ]
  },
  {
   "cell_type": "code",
   "execution_count": 71,
   "id": "0f3f5328-9830-4bdc-ab1f-5a16b7912dc6",
   "metadata": {},
   "outputs": [
    {
     "ename": "RuntimeError",
     "evalue": "shape '[32, 6]' is invalid for input of size 1368876",
     "output_type": "error",
     "traceback": [
      "\u001b[0;31m---------------------------------------------------------------------------\u001b[0m",
      "\u001b[0;31mRuntimeError\u001b[0m                              Traceback (most recent call last)",
      "Cell \u001b[0;32mIn[71], line 2\u001b[0m\n\u001b[1;32m      1\u001b[0m emb \u001b[38;5;241m=\u001b[39m C[X] \u001b[38;5;66;03m# [32, 3, 2]\u001b[39;00m\n\u001b[0;32m----> 2\u001b[0m h \u001b[38;5;241m=\u001b[39m torch\u001b[38;5;241m.\u001b[39mtanh(\u001b[43memb\u001b[49m\u001b[38;5;241;43m.\u001b[39;49m\u001b[43mview\u001b[49m\u001b[43m(\u001b[49m\u001b[38;5;241;43m32\u001b[39;49m\u001b[43m,\u001b[49m\u001b[43m \u001b[49m\u001b[38;5;241;43m6\u001b[39;49m\u001b[43m)\u001b[49m \u001b[38;5;241m@\u001b[39m W1 \u001b[38;5;241m+\u001b[39m b1) \u001b[38;5;66;03m# [32, 100]\u001b[39;00m\n\u001b[1;32m      3\u001b[0m logits \u001b[38;5;241m=\u001b[39m h \u001b[38;5;241m@\u001b[39m W2 \u001b[38;5;241m+\u001b[39m b2 \u001b[38;5;66;03m# [32, 27]\u001b[39;00m\n\u001b[1;32m      4\u001b[0m \u001b[38;5;66;03m# this is common classification/cross_entropy loss\u001b[39;00m\n",
      "\u001b[0;31mRuntimeError\u001b[0m: shape '[32, 6]' is invalid for input of size 1368876"
     ]
    }
   ],
   "source": [
    "emb = C[X] # [32, 3, 2]\n",
    "h = torch.tanh(emb.view(-1, 6) @ W1 + b1) # [32, 100]\n",
    "logits = h @ W2 + b2 # [32, 27]\n",
    "# this is common classification/cross_entropy loss\n",
    "counts = logits.exp()\n",
    "prob = counts / counts.sum(1, keepdims=True)\n",
    "loss = -prob[ torch.arange(32), Y ].log().mean()\n",
    "loss"
   ]
  },
  {
   "cell_type": "code",
   "execution_count": 52,
   "id": "362cca02-15cd-4131-a900-56a74743df6f",
   "metadata": {},
   "outputs": [
    {
     "data": {
      "text/plain": [
       "tensor(17.7697)"
      ]
     },
     "execution_count": 52,
     "metadata": {},
     "output_type": "execute_result"
    }
   ],
   "source": [
    "# more efficient\n",
    "# - no new mem for intermediate steps\n",
    "# - numerical operation more stable\n",
    "# - faster operation because of fused operation kernels\n",
    "F.cross_entropy(logits, Y)"
   ]
  },
  {
   "cell_type": "code",
   "execution_count": 182,
   "id": "5b3f61e1-75d6-496f-b25a-791c3bcfe231",
   "metadata": {},
   "outputs": [],
   "source": [
    "# learning rate, from 0.001, 100, increment exponentially\n",
    "lre = torch.linspace(-3, 0, 1000)\n",
    "lrs = 10**lre"
   ]
  },
  {
   "cell_type": "code",
   "execution_count": 214,
   "id": "0fac5eb2-29d6-4030-a2a6-a51a2780f727",
   "metadata": {},
   "outputs": [
    {
     "name": "stdout",
     "output_type": "stream",
     "text": [
      "0: 2.164694309234619\n",
      "50: 2.0811684131622314\n",
      "100: 2.0225956439971924\n",
      "150: 2.145901679992676\n",
      "200: 2.1613564491271973\n",
      "250: 2.111445903778076\n",
      "300: 2.2098543643951416\n",
      "350: 2.2980871200561523\n",
      "400: 2.1951773166656494\n",
      "450: 2.1392312049865723\n",
      "500: 2.237290620803833\n",
      "550: 2.120211601257324\n",
      "600: 2.223379373550415\n",
      "650: 2.1967010498046875\n",
      "700: 2.3022048473358154\n",
      "750: 2.2850749492645264\n",
      "800: 2.1485822200775146\n",
      "850: 2.3820972442626953\n",
      "900: 2.0919981002807617\n",
      "950: 2.309422731399536\n",
      "1000: 2.0537147521972656\n",
      "1050: 2.460697889328003\n",
      "1100: 2.149998188018799\n",
      "1150: 2.2294867038726807\n",
      "1200: 2.5795986652374268\n",
      "1250: 2.0569212436676025\n",
      "1300: 2.224970579147339\n",
      "1350: 2.188175916671753\n",
      "1400: 2.1359002590179443\n",
      "1450: 2.3834171295166016\n",
      "1500: 2.5639936923980713\n",
      "1550: 2.265131950378418\n",
      "1600: 2.413527011871338\n",
      "1650: 2.3937034606933594\n",
      "1700: 2.2388205528259277\n",
      "1750: 2.0608468055725098\n",
      "1800: 2.236905813217163\n",
      "1850: 2.1927216053009033\n",
      "1900: 2.3211708068847656\n",
      "1950: 2.320042610168457\n",
      "2000: 2.33000111579895\n",
      "2050: 2.5012195110321045\n",
      "2100: 2.1859688758850098\n",
      "2150: 2.580116033554077\n",
      "2200: 2.0887980461120605\n",
      "2250: 1.9643503427505493\n",
      "2300: 2.030566692352295\n",
      "2350: 2.3773200511932373\n",
      "2400: 2.1394550800323486\n",
      "2450: 1.9966990947723389\n",
      "2500: 2.466864585876465\n",
      "2550: 1.9756563901901245\n",
      "2600: 2.3030271530151367\n",
      "2650: 2.2043094635009766\n",
      "2700: 2.0305445194244385\n",
      "2750: 2.0524754524230957\n",
      "2800: 2.109541893005371\n",
      "2850: 2.028681755065918\n",
      "2900: 2.2206037044525146\n",
      "2950: 2.1961100101470947\n",
      "3000: 2.183799982070923\n",
      "3050: 2.4163146018981934\n",
      "3100: 2.219637155532837\n",
      "3150: 2.134681224822998\n",
      "3200: 2.2710275650024414\n",
      "3250: 1.9582408666610718\n",
      "3300: 2.3808891773223877\n",
      "3350: 1.992518424987793\n",
      "3400: 2.2578513622283936\n",
      "3450: 2.5616066455841064\n",
      "3500: 2.1145472526550293\n",
      "3550: 2.1760997772216797\n",
      "3600: 2.2801096439361572\n",
      "3650: 2.1898655891418457\n",
      "3700: 2.5407021045684814\n",
      "3750: 2.0426485538482666\n",
      "3800: 2.314319372177124\n",
      "3850: 2.3940412998199463\n",
      "3900: 2.2073376178741455\n",
      "3950: 2.2089881896972656\n",
      "4000: 2.301222801208496\n",
      "4050: 2.1131107807159424\n",
      "4100: 2.29892897605896\n",
      "4150: 2.2231385707855225\n",
      "4200: 2.193366527557373\n",
      "4250: 2.0692031383514404\n",
      "4300: 2.5690228939056396\n",
      "4350: 2.0483558177948\n",
      "4400: 1.9619038105010986\n",
      "4450: 2.084218978881836\n",
      "4500: 2.068094491958618\n",
      "4550: 1.921004295349121\n",
      "4600: 2.133997678756714\n",
      "4650: 2.0795862674713135\n",
      "4700: 2.210671901702881\n",
      "4750: 2.3477485179901123\n",
      "4800: 2.056283950805664\n",
      "4850: 2.035005569458008\n",
      "4900: 2.224782943725586\n",
      "4950: 2.1780591011047363\n",
      "5000: 2.1333775520324707\n",
      "5050: 2.244375228881836\n",
      "5100: 2.086063861846924\n",
      "5150: 2.1791346073150635\n",
      "5200: 2.235466957092285\n",
      "5250: 2.150122880935669\n",
      "5300: 2.3547332286834717\n",
      "5350: 2.2373669147491455\n",
      "5400: 2.2265889644622803\n",
      "5450: 2.0682995319366455\n",
      "5500: 2.1122751235961914\n",
      "5550: 2.1576554775238037\n",
      "5600: 2.0265607833862305\n",
      "5650: 2.1867692470550537\n",
      "5700: 2.247612476348877\n",
      "5750: 2.0827431678771973\n",
      "5800: 1.943196415901184\n",
      "5850: 2.2527689933776855\n",
      "5900: 2.159924268722534\n",
      "5950: 2.2401485443115234\n",
      "6000: 2.0295448303222656\n",
      "6050: 1.9707598686218262\n",
      "6100: 2.070627212524414\n",
      "6150: 2.1199193000793457\n",
      "6200: 2.022353172302246\n",
      "6250: 1.9668546915054321\n",
      "6300: 2.163022518157959\n",
      "6350: 2.0172531604766846\n",
      "6400: 2.304046630859375\n",
      "6450: 2.353424310684204\n",
      "6500: 1.9368669986724854\n",
      "6550: 2.208083152770996\n",
      "6600: 2.2840187549591064\n",
      "6650: 2.0325546264648438\n",
      "6700: 2.256923198699951\n",
      "6750: 2.1073246002197266\n",
      "6800: 1.9442626237869263\n",
      "6850: 2.271639347076416\n",
      "6900: 2.4310574531555176\n",
      "6950: 2.1806249618530273\n",
      "7000: 2.133716583251953\n",
      "7050: 2.485246181488037\n",
      "7100: 1.8879274129867554\n",
      "7150: 2.065250873565674\n",
      "7200: 2.3378071784973145\n",
      "7250: 2.26694655418396\n",
      "7300: 1.7777154445648193\n",
      "7350: 2.0805540084838867\n",
      "7400: 2.2449305057525635\n",
      "7450: 1.8885165452957153\n",
      "7500: 2.2234222888946533\n",
      "7550: 2.123474359512329\n",
      "7600: 2.1600260734558105\n",
      "7650: 2.459947109222412\n",
      "7700: 2.5144011974334717\n",
      "7750: 2.2518539428710938\n",
      "7800: 2.269117593765259\n",
      "7850: 2.230025291442871\n",
      "7900: 2.084728956222534\n",
      "7950: 2.08135986328125\n",
      "8000: 2.1623146533966064\n",
      "8050: 2.0159597396850586\n",
      "8100: 2.250825881958008\n",
      "8150: 2.2236063480377197\n",
      "8200: 2.2756078243255615\n",
      "8250: 2.353076934814453\n",
      "8300: 1.7597672939300537\n",
      "8350: 1.8853596448898315\n",
      "8400: 1.888878345489502\n",
      "8450: 2.151803731918335\n",
      "8500: 2.4086666107177734\n",
      "8550: 1.9009894132614136\n",
      "8600: 2.0184826850891113\n",
      "8650: 2.1908445358276367\n",
      "8700: 2.17539644241333\n",
      "8750: 1.8827704191207886\n",
      "8800: 2.286836862564087\n",
      "8850: 1.9032131433486938\n",
      "8900: 2.0147690773010254\n",
      "8950: 2.423163652420044\n",
      "9000: 2.322413921356201\n",
      "9050: 2.4219462871551514\n",
      "9100: 2.255209445953369\n",
      "9150: 2.290396213531494\n",
      "9200: 2.2277820110321045\n",
      "9250: 2.3107542991638184\n",
      "9300: 2.3765740394592285\n",
      "9350: 2.1584465503692627\n",
      "9400: 2.2055115699768066\n",
      "9450: 2.1016666889190674\n",
      "9500: 2.1156437397003174\n",
      "9550: 2.2249231338500977\n",
      "9600: 2.228107213973999\n",
      "9650: 2.186866521835327\n",
      "9700: 2.453399181365967\n",
      "9750: 2.158604621887207\n",
      "9800: 2.1126973628997803\n",
      "9850: 2.0567455291748047\n",
      "9900: 2.154832601547241\n",
      "9950: 2.5031826496124268\n",
      "2.400141716003418\n"
     ]
    }
   ],
   "source": [
    "lri = []\n",
    "lossi = []\n",
    "stepi = []\n",
    "\n",
    "for i in range(10000):\n",
    "    # mini batch indices\n",
    "    ix = torch.randint(0, Xtr.shape[0], (64,))\n",
    "    \n",
    "    # forward pass\n",
    "    emb = C[Xtr][ix] # [32, 3, 2]\n",
    "    h = torch.tanh(emb.view(-1, 30) @ W1 + b1) # [32, 100]\n",
    "    logits = h @ W2 + b2 # [32, 27]\n",
    "    loss = F.cross_entropy(logits, Ytr[ix])\n",
    "\n",
    "    if i % 50 == 0:\n",
    "        print(f'{i}: {loss.item()}')\n",
    "    \n",
    "    # backward pass\n",
    "    for p in parameters:\n",
    "        # reset gradient\n",
    "        p.grad = None\n",
    "    loss.backward()\n",
    "    \n",
    "    # update\n",
    "    lr = 0.003162 # lrs[i]\n",
    "    for p in parameters:\n",
    "        p.data += -lr * p.grad\n",
    "\n",
    "    # track stats\n",
    "    # lri.append(lre[i])\n",
    "    lossi.append(loss.item())\n",
    "    stepi.append(i)\n",
    "\n",
    "print(loss.item())"
   ]
  },
  {
   "cell_type": "code",
   "execution_count": 193,
   "id": "8184b5cb-b47b-4760-acf7-1b14f3cb82c8",
   "metadata": {},
   "outputs": [
    {
     "data": {
      "text/plain": [
       "0.31622776601683794"
      ]
     },
     "execution_count": 193,
     "metadata": {},
     "output_type": "execute_result"
    }
   ],
   "source": [
    "10**-0.5"
   ]
  },
  {
   "cell_type": "code",
   "execution_count": 215,
   "id": "5864ef78-074d-4117-a480-5205beff7f42",
   "metadata": {},
   "outputs": [
    {
     "data": {
      "text/plain": [
       "[<matplotlib.lines.Line2D at 0x7fb151fc8820>]"
      ]
     },
     "execution_count": 215,
     "metadata": {},
     "output_type": "execute_result"
    },
    {
     "data": {
      "image/png": "[encoded data removed]",
      "text/plain": [
       "<Figure size 640x480 with 1 Axes>"
      ]
     },
     "metadata": {},
     "output_type": "display_data"
    }
   ],
   "source": [
    "plt.plot(stepi, lossi) # learning rate"
   ]
  },
  {
   "cell_type": "code",
   "execution_count": 216,
   "id": "421ad56b-89b5-4ce9-a51f-b7febd3a0a50",
   "metadata": {},
   "outputs": [
    {
     "data": {
      "text/plain": [
       "tensor(2.2136, grad_fn=<NllLossBackward0>)"
      ]
     },
     "execution_count": 216,
     "metadata": {},
     "output_type": "execute_result"
    }
   ],
   "source": [
    "# loss for the dev set\n",
    "emb = C[Xdev] # [32, 3, 2]\n",
    "h = torch.tanh(emb.view(-1, 30) @ W1 + b1) # [32, 100]\n",
    "logits = h @ W2 + b2 # [32, 27]\n",
    "loss = F.cross_entropy(logits, Ydev)\n",
    "loss"
   ]
  },
  {
   "cell_type": "code",
   "execution_count": 217,
   "id": "f5562fc9-5c26-411a-a93e-d4ee47b69384",
   "metadata": {},
   "outputs": [
    {
     "data": {
      "text/plain": [
       "tensor(2.1931, grad_fn=<NllLossBackward0>)"
      ]
     },
     "execution_count": 217,
     "metadata": {},
     "output_type": "execute_result"
    }
   ],
   "source": [
    "# loss for the train set and not batch\n",
    "emb = C[Xtr] # [32, 3, 2]\n",
    "h = torch.tanh(emb.view(-1, 30) @ W1 + b1) # [32, 100]\n",
    "logits = h @ W2 + b2 # [32, 27]\n",
    "loss = F.cross_entropy(logits, Ytr)\n",
    "loss"
   ]
  },
  {
   "cell_type": "code",
   "execution_count": 218,
   "id": "87ad09b9-ec17-4744-b89d-3d0ec13a4124",
   "metadata": {},
   "outputs": [
    {
     "data": {
      "image/png": "[encoded data removed]",
      "text/plain": [
       "<Figure size 800x800 with 1 Axes>"
      ]
     },
     "metadata": {},
     "output_type": "display_data"
    }
   ],
   "source": [
    "# plot embedding\n",
    "plt.figure(figsize=(8,8))\n",
    "plt.scatter(C[:,3].data, C[:,4].data, s=200)\n",
    "\n",
    "for i in range(C.shape[0]):\n",
    "    plt.text( C[i,3].item(), C[i,4].item(), itos[i], ha='center', va='center', color='white')\n",
    "\n",
    "plt.grid('minor')"
   ]
  },
  {
   "cell_type": "code",
   "execution_count": 221,
   "id": "5758f40a-5d40-4ce5-81f3-d965932389fb",
   "metadata": {},
   "outputs": [
    {
     "name": "stdout",
     "output_type": "stream",
     "text": [
      "carpah.\n",
      "amelle.\n",
      "khi.\n",
      "mili.\n",
      "thay.\n",
      "sacassaeja.\n",
      "hubadden.\n",
      "art.\n",
      "kaeli.\n",
      "nellara.\n",
      "chaiir.\n",
      "kaleigh.\n",
      "ham.\n",
      "jori.\n",
      "quinn.\n",
      "shorlei.\n",
      "jadii.\n",
      "wazelogiearynix.\n",
      "kaequinsley.\n",
      "daedo.\n"
     ]
    }
   ],
   "source": [
    "# sample from current model\n",
    "g = torch.Generator().manual_seed(2147483647 + 10) # reproducibility\n",
    "\n",
    "# generate 20 names\n",
    "for _ in range(20):\n",
    "    out = []\n",
    "    context = [0] * block_size\n",
    "    while True:\n",
    "        emb = C[torch.tensor([context])] # start with '...'\n",
    "        h = torch.tanh(emb.view(1, -1) @ W1 + b1)\n",
    "        logits = h @ W2 + b2\n",
    "        probs = F.softmax(logits, dim=1)\n",
    "        ix = torch.multinomial(probs, num_samples=1, generator=g).item()\n",
    "\n",
    "        context = context[1:] + [ix]\n",
    "        out.append(ix)\n",
    "        if ix == 0:\n",
    "            break\n",
    "\n",
    "    print(''.join(itos[i] for i in out))"
   ]
  },
  {
   "cell_type": "code",
   "execution_count": null,
   "id": "7cd30394-95da-424e-a296-00445e0e947e",
   "metadata": {},
   "outputs": [],
   "source": []
  }
 ],
 "metadata": {
  "kernelspec": {
   "display_name": "Python 3 (ipykernel)",
   "language": "python",
   "name": "python3"
  },
  "language_info": {
   "codemirror_mode": {
    "name": "ipython",
    "version": 3
   },
   "file_extension": ".py",
   "mimetype": "text/x-python",
   "name": "python",
   "nbconvert_exporter": "python",
   "pygments_lexer": "ipython3",
   "version": "3.9.19"
  }
 },
 "nbformat": 4,
 "nbformat_minor": 5
}
