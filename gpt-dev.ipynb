{
 "cells": [
  {
   "cell_type": "code",
   "execution_count": 1,
   "id": "22fb4303-6c36-4d1b-a1d9-1cf28111d9ba",
   "metadata": {},
   "outputs": [],
   "source": [
    "# read the tiny-shakespere.txt dataset\n",
    "with open('tiny-shakespere.txt', 'r', encoding='utf-8') as f:\n",
    "    text = f.read()"
   ]
  },
  {
   "cell_type": "code",
   "execution_count": 2,
   "id": "b848d8ec-593f-45d8-b885-f83f50060ded",
   "metadata": {},
   "outputs": [
    {
     "name": "stdout",
     "output_type": "stream",
     "text": [
      "length of dataset in chars:  1115394\n"
     ]
    }
   ],
   "source": [
    "print('length of dataset in chars: ', len(text))"
   ]
  },
  {
   "cell_type": "code",
   "execution_count": 3,
   "id": "4473b8e8-b93e-4fd3-95ed-37fa2220d889",
   "metadata": {},
   "outputs": [
    {
     "name": "stdout",
     "output_type": "stream",
     "text": [
      "First Citizen:\n",
      "Before we proceed any further, hear me speak.\n",
      "\n",
      "All:\n",
      "Speak, speak.\n",
      "\n",
      "First Citizen:\n",
      "You are all resolved rather to die than to famish?\n",
      "\n",
      "All:\n",
      "Resolved. resolved.\n",
      "\n",
      "First Citizen:\n",
      "First, you know Caius Marcius is chief enemy to the people.\n",
      "\n",
      "All:\n",
      "We know't, we know't.\n",
      "\n",
      "First Citizen:\n",
      "Let us kill him, and we'll have corn at our own price.\n",
      "Is't a verdict?\n",
      "\n",
      "All:\n",
      "No more talking on't; let it be done: away, away!\n",
      "\n",
      "Second Citizen:\n",
      "One word, good citizens.\n",
      "\n",
      "First Citizen:\n",
      "We are accounted poor citizens, the patricians good.\n",
      "What authority surfeits on would relieve us: if they\n",
      "would yield us but the superfluity, while it were\n",
      "wholesome, we might guess they relieved us humanely;\n",
      "but they think we are too dear: the leanness that\n",
      "afflicts us, the object of our misery, is as an\n",
      "inventory to particularise their abundance; our\n",
      "sufferance is a gain to them Let us revenge this with\n",
      "our pikes, ere we become rakes: for the gods know I\n",
      "speak this in hunger for bread, not in thirst for revenge.\n",
      "\n",
      "\n"
     ]
    }
   ],
   "source": [
    "# look at the 1st 1000 chars\n",
    "print(text[:1000])"
   ]
  },
  {
   "cell_type": "code",
   "execution_count": 4,
   "id": "e66a73db-0cbd-4a43-8344-c61338f07fd7",
   "metadata": {},
   "outputs": [
    {
     "name": "stdout",
     "output_type": "stream",
     "text": [
      "\n",
      "---- vocab -----\n",
      " \n",
      " !$&',-.3:;?ABCDEFGHIJKLMNOPQRSTUVWXYZabcdefghijklmnopqrstuvwxyz\n",
      "\n",
      "---- vocab size -----\n",
      " 65\n"
     ]
    }
   ],
   "source": [
    "# create vocab by looking at all the unique chars\n",
    "chars = sorted(\n",
    "    # ordered array, based on some random ordering\n",
    "    list(\n",
    "        # creat a set of unique chars in dataset\n",
    "        set(text)\n",
    "    )\n",
    ")\n",
    "# vocab size is char size\n",
    "vocab_size = len(chars)\n",
    "# print all the vocab\n",
    "print('\\n---- vocab -----\\n', ''.join(chars))\n",
    "print('\\n---- vocab size -----\\n', vocab_size)"
   ]
  },
  {
   "cell_type": "markdown",
   "id": "eee67553-b632-44ef-ac76-d1cc74f3b9fc",
   "metadata": {},
   "source": [
    "## Tokenization\n",
    "create tokens from vocabs\n",
    "- in our case, 1 char -> 1 integer\n",
    "\n",
    "we will use simple mapping for us, integers from [0, 64] for each char.\n",
    "\n",
    "more complex tokenization like [byte pair encoding](https://huggingface.co/learn/nlp-course/en/chapter6/5) uses different encoding at subword level.\n",
    "\n",
    "Bytecode pair encoding is used in practice for GPT\n",
    "\n",
    "it is a tradeoff\n",
    "- small vocab (like ours 65) -> long encoding size\n",
    "- large vocab (50k) -> short encoding size"
   ]
  },
  {
   "cell_type": "code",
   "execution_count": 5,
   "id": "bfc35215-7be6-4651-bdfa-b67cf06123f8",
   "metadata": {},
   "outputs": [],
   "source": [
    "# create tokens based on simple mapping dict\n",
    "\n",
    "# string to int map\n",
    "stoi = { ch:i for i, ch in enumerate(chars) }\n",
    "\n",
    "# int to string map\n",
    "itos = { i:ch for i, ch in enumerate(chars) }\n",
    "\n",
    "# encoder: take string s, output array of int\n",
    "encode = lambda s: [ stoi[c] for c in s ]\n",
    "\n",
    "# decoder: take list of int, output string\n",
    "decode = lambda l: ''.join([ itos[i] for i in l ])"
   ]
  },
  {
   "cell_type": "code",
   "execution_count": 6,
   "id": "53cc57c3-0972-4597-aaba-a316f94d76bd",
   "metadata": {},
   "outputs": [
    {
     "name": "stdout",
     "output_type": "stream",
     "text": [
      "[46, 47, 47, 1, 58, 46, 43, 56, 43]\n",
      "hii there\n"
     ]
    }
   ],
   "source": [
    "# encode the sentence, notice the encoded size is same size as input\n",
    "print(encode('hii there'))\n",
    "print(decode(encode('hii there')))"
   ]
  },
  {
   "cell_type": "code",
   "execution_count": 7,
   "id": "c06070eb-cc20-4a2e-9a77-aca39b83c90b",
   "metadata": {},
   "outputs": [
    {
     "name": "stderr",
     "output_type": "stream",
     "text": [
      "/Users/yoshichen/miniconda3/envs/nlp-learning/lib/python3.9/site-packages/tqdm/auto.py:21: TqdmWarning: IProgress not found. Please update jupyter and ipywidgets. See https://ipywidgets.readthedocs.io/en/stable/user_install.html\n",
      "  from .autonotebook import tqdm as notebook_tqdm\n"
     ]
    },
    {
     "name": "stdout",
     "output_type": "stream",
     "text": [
      "torch.Size([1115394]) torch.int64\n",
      "tensor([18, 47, 56, 57, 58,  1, 15, 47, 58, 47, 64, 43, 52, 10,  0, 14, 43, 44,\n",
      "        53, 56, 43,  1, 61, 43,  1, 54, 56, 53, 41, 43, 43, 42,  1, 39, 52, 63,\n",
      "         1, 44, 59, 56, 58, 46, 43, 56,  6,  1, 46, 43, 39, 56,  1, 51, 43,  1,\n",
      "        57, 54, 43, 39, 49,  8,  0,  0, 13, 50, 50, 10,  0, 31, 54, 43, 39, 49,\n",
      "         6,  1, 57, 54, 43, 39, 49,  8,  0,  0, 18, 47, 56, 57, 58,  1, 15, 47,\n",
      "        58, 47, 64, 43, 52, 10,  0, 37, 53, 59,  1, 39, 56, 43,  1, 39, 50, 50,\n",
      "         1, 56, 43, 57, 53, 50, 60, 43, 42,  1, 56, 39, 58, 46, 43, 56,  1, 58,\n",
      "        53,  1, 42, 47, 43,  1, 58, 46, 39, 52,  1, 58, 53,  1, 44, 39, 51, 47,\n",
      "        57, 46, 12,  0,  0, 13, 50, 50, 10,  0, 30, 43, 57, 53, 50, 60, 43, 42,\n",
      "         8,  1, 56, 43, 57, 53, 50, 60, 43, 42,  8,  0,  0, 18, 47, 56, 57, 58,\n",
      "         1, 15, 47, 58, 47, 64, 43, 52, 10,  0, 18, 47, 56, 57, 58,  6,  1, 63,\n",
      "        53, 59,  1, 49, 52, 53, 61,  1, 15, 39, 47, 59, 57,  1, 25, 39, 56, 41,\n",
      "        47, 59, 57,  1, 47, 57,  1, 41, 46, 47, 43, 44,  1, 43, 52, 43, 51, 63,\n",
      "         1, 58, 53,  1, 58, 46, 43,  1, 54, 43, 53, 54, 50, 43,  8,  0,  0, 13,\n",
      "        50, 50, 10,  0, 35, 43,  1, 49, 52, 53, 61,  5, 58,  6,  1, 61, 43,  1,\n",
      "        49, 52, 53, 61,  5, 58,  8,  0,  0, 18, 47, 56, 57, 58,  1, 15, 47, 58,\n",
      "        47, 64, 43, 52, 10,  0, 24, 43, 58,  1, 59, 57,  1, 49, 47, 50, 50,  1,\n",
      "        46, 47, 51,  6,  1, 39, 52, 42,  1, 61, 43,  5, 50, 50,  1, 46, 39, 60,\n",
      "        43,  1, 41, 53, 56, 52,  1, 39, 58,  1, 53, 59, 56,  1, 53, 61, 52,  1,\n",
      "        54, 56, 47, 41, 43,  8,  0, 21, 57,  5, 58,  1, 39,  1, 60, 43, 56, 42,\n",
      "        47, 41, 58, 12,  0,  0, 13, 50, 50, 10,  0, 26, 53,  1, 51, 53, 56, 43,\n",
      "         1, 58, 39, 50, 49, 47, 52, 45,  1, 53, 52,  5, 58, 11,  1, 50, 43, 58,\n",
      "         1, 47, 58,  1, 40, 43,  1, 42, 53, 52, 43, 10,  1, 39, 61, 39, 63,  6,\n",
      "         1, 39, 61, 39, 63,  2,  0,  0, 31, 43, 41, 53, 52, 42,  1, 15, 47, 58,\n",
      "        47, 64, 43, 52, 10,  0, 27, 52, 43,  1, 61, 53, 56, 42,  6,  1, 45, 53,\n",
      "        53, 42,  1, 41, 47, 58, 47, 64, 43, 52, 57,  8,  0,  0, 18, 47, 56, 57,\n",
      "        58,  1, 15, 47, 58, 47, 64, 43, 52, 10,  0, 35, 43,  1, 39, 56, 43,  1,\n",
      "        39, 41, 41, 53, 59, 52, 58, 43, 42,  1, 54, 53, 53, 56,  1, 41, 47, 58,\n",
      "        47, 64, 43, 52, 57,  6,  1, 58, 46, 43,  1, 54, 39, 58, 56, 47, 41, 47,\n",
      "        39, 52, 57,  1, 45, 53, 53, 42,  8,  0, 35, 46, 39, 58,  1, 39, 59, 58,\n",
      "        46, 53, 56, 47, 58, 63,  1, 57, 59, 56, 44, 43, 47, 58, 57,  1, 53, 52,\n",
      "         1, 61, 53, 59, 50, 42,  1, 56, 43, 50, 47, 43, 60, 43,  1, 59, 57, 10,\n",
      "         1, 47, 44,  1, 58, 46, 43, 63,  0, 61, 53, 59, 50, 42,  1, 63, 47, 43,\n",
      "        50, 42,  1, 59, 57,  1, 40, 59, 58,  1, 58, 46, 43,  1, 57, 59, 54, 43,\n",
      "        56, 44, 50, 59, 47, 58, 63,  6,  1, 61, 46, 47, 50, 43,  1, 47, 58,  1,\n",
      "        61, 43, 56, 43,  0, 61, 46, 53, 50, 43, 57, 53, 51, 43,  6,  1, 61, 43,\n",
      "         1, 51, 47, 45, 46, 58,  1, 45, 59, 43, 57, 57,  1, 58, 46, 43, 63,  1,\n",
      "        56, 43, 50, 47, 43, 60, 43, 42,  1, 59, 57,  1, 46, 59, 51, 39, 52, 43,\n",
      "        50, 63, 11,  0, 40, 59, 58,  1, 58, 46, 43, 63,  1, 58, 46, 47, 52, 49,\n",
      "         1, 61, 43,  1, 39, 56, 43,  1, 58, 53, 53,  1, 42, 43, 39, 56, 10,  1,\n",
      "        58, 46, 43,  1, 50, 43, 39, 52, 52, 43, 57, 57,  1, 58, 46, 39, 58,  0,\n",
      "        39, 44, 44, 50, 47, 41, 58, 57,  1, 59, 57,  6,  1, 58, 46, 43,  1, 53,\n",
      "        40, 48, 43, 41, 58,  1, 53, 44,  1, 53, 59, 56,  1, 51, 47, 57, 43, 56,\n",
      "        63,  6,  1, 47, 57,  1, 39, 57,  1, 39, 52,  0, 47, 52, 60, 43, 52, 58,\n",
      "        53, 56, 63,  1, 58, 53,  1, 54, 39, 56, 58, 47, 41, 59, 50, 39, 56, 47,\n",
      "        57, 43,  1, 58, 46, 43, 47, 56,  1, 39, 40, 59, 52, 42, 39, 52, 41, 43,\n",
      "        11,  1, 53, 59, 56,  0, 57, 59, 44, 44, 43, 56, 39, 52, 41, 43,  1, 47,\n",
      "        57,  1, 39,  1, 45, 39, 47, 52,  1, 58, 53,  1, 58, 46, 43, 51,  1, 24,\n",
      "        43, 58,  1, 59, 57,  1, 56, 43, 60, 43, 52, 45, 43,  1, 58, 46, 47, 57,\n",
      "         1, 61, 47, 58, 46,  0, 53, 59, 56,  1, 54, 47, 49, 43, 57,  6,  1, 43,\n",
      "        56, 43,  1, 61, 43,  1, 40, 43, 41, 53, 51, 43,  1, 56, 39, 49, 43, 57,\n",
      "        10,  1, 44, 53, 56,  1, 58, 46, 43,  1, 45, 53, 42, 57,  1, 49, 52, 53,\n",
      "        61,  1, 21,  0, 57, 54, 43, 39, 49,  1, 58, 46, 47, 57,  1, 47, 52,  1,\n",
      "        46, 59, 52, 45, 43, 56,  1, 44, 53, 56,  1, 40, 56, 43, 39, 42,  6,  1,\n",
      "        52, 53, 58,  1, 47, 52,  1, 58, 46, 47, 56, 57, 58,  1, 44, 53, 56,  1,\n",
      "        56, 43, 60, 43, 52, 45, 43,  8,  0,  0])\n"
     ]
    }
   ],
   "source": [
    "# now tokenize the entire dataset of shakespere\n",
    "# we will wrapped the encoded tokens as a pyTorch tensor\n",
    "import torch\n",
    "\n",
    "data = torch.tensor( encode(text), dtype=torch.long)\n",
    "print(data.shape, data.dtype)\n",
    "print(data[:1000]) # first 1k tokens"
   ]
  },
  {
   "cell_type": "code",
   "execution_count": 8,
   "id": "6fa226fe-0e66-4d8a-9d2d-87f180c57cae",
   "metadata": {},
   "outputs": [],
   "source": [
    "# do train/validation split, 90/10\n",
    "n = int(0.9 * len(data)) # first 90% will be used for training\n",
    "train_data = data[:n]\n",
    "val_data = data[n:]"
   ]
  },
  {
   "cell_type": "markdown",
   "id": "a3304a89-8ec3-4e52-a4b5-d39347b882b8",
   "metadata": {},
   "source": [
    "We are now ready to feed the data into a transformer to train.\n",
    "\n",
    "We need to split the data into chunks, because we cant always fit the entire dataset in memory.\n",
    "\n",
    "We will train on randomly selected chunks of data.  The chunk size is a **block**, or _context_size_, or _block_size_."
   ]
  },
  {
   "cell_type": "code",
   "execution_count": 9,
   "id": "9d9ecce7-e72b-453d-ae1f-dffb7ec105a5",
   "metadata": {},
   "outputs": [
    {
     "data": {
      "text/plain": [
       "tensor([18, 47, 56, 57, 58,  1, 15, 47, 58])"
      ]
     },
     "execution_count": 9,
     "metadata": {},
     "output_type": "execute_result"
    }
   ],
   "source": [
    "# define block size\n",
    "block_size = 8\n",
    "train_data[:block_size + 1]"
   ]
  },
  {
   "cell_type": "markdown",
   "id": "3dc72ac2-e348-4a64-aecc-a070f6dc0e12",
   "metadata": {},
   "source": [
    "the goal of the model is to predicting the next char.\n",
    "\n",
    "notice that for the training block above, we can extract 8 training samples:\n",
    "- input [18], next char [47]\n",
    "- input [18, 47], next char [56]\n",
    "- input [18, 47, 56], next chart [57]\n",
    "- ...\n",
    "\n",
    "because we are training input size is _block_size_, or **context size**\n",
    "- the transformer will never see data more than _block_size_ (or context)\n",
    "- the transformer knows how to gnereate next char\n",
    "    - if user input is size is from 1 - _block_size_\n",
    "    - transform doesnt know how to generate data if input is > _block_size_ (context)"
   ]
  },
  {
   "cell_type": "code",
   "execution_count": 10,
   "id": "4cfcb07b-d2cc-42ab-a39b-23aca611cf96",
   "metadata": {},
   "outputs": [
    {
     "name": "stdout",
     "output_type": "stream",
     "text": [
      "when input is tensor([18]), target: 47\n",
      "when input is tensor([18, 47]), target: 56\n",
      "when input is tensor([18, 47, 56]), target: 57\n",
      "when input is tensor([18, 47, 56, 57]), target: 58\n",
      "when input is tensor([18, 47, 56, 57, 58]), target: 1\n",
      "when input is tensor([18, 47, 56, 57, 58,  1]), target: 15\n",
      "when input is tensor([18, 47, 56, 57, 58,  1, 15]), target: 47\n",
      "when input is tensor([18, 47, 56, 57, 58,  1, 15, 47]), target: 58\n"
     ]
    }
   ],
   "source": [
    "# print out the 8 training samples\n",
    "\n",
    "# the input\n",
    "x = train_data[:block_size]\n",
    "# next char, shifted 1 \n",
    "y = train_data[1:block_size + 1]\n",
    "\n",
    "# for the block size\n",
    "for t in range(block_size):\n",
    "    # get the previous chars\n",
    "    context = x[:t+1]\n",
    "    # following next char\n",
    "    target = y[t]\n",
    "    print(f'when input is {context}, target: {target}')"
   ]
  },
  {
   "cell_type": "markdown",
   "id": "8738a54d-50a9-4cf4-8c02-8d7bbadac244",
   "metadata": {},
   "source": [
    "Now we need to introduce the concept of **batching**, for efficiency reasons, to keep GPU busy.\n",
    "\n",
    "Each _randomly sampled_ batch of _block_size_ is processed independenty in parallel"
   ]
  },
  {
   "cell_type": "code",
   "execution_count": 11,
   "id": "34217e68-3fb4-4d10-ab53-e99ffd94d0b1",
   "metadata": {},
   "outputs": [],
   "source": [
    "# create seed for randomness\n",
    "torch.manual_seed(1337)\n",
    "batch_size = 4 # how many independent sequence processed in parallel?\n",
    "block_size = 8 # max context size used to predict next char\n",
    "\n",
    "def get_batch(split):\n",
    "    '''\n",
    "    get random batches of `batch_size` from train/validation data\n",
    "\n",
    "    args:\n",
    "        split: `train` or `val` data\n",
    "    '''\n",
    "    # use `train` dataset if split is `train`\n",
    "    data = train_data if split == 'train' else val_data\n",
    "\n",
    "    # get 4 batch of random indices\n",
    "    ix = torch.randint(\n",
    "        len(data) - block_size, # rand range [0, data_size - block_size]\n",
    "        (batch_size, ) # shape: [batch_size, 1]\n",
    "    )\n",
    "    # stack 4 batches of 8 tokens into [4, 8] matrix\n",
    "    # this is the context matrix\n",
    "    x = torch.stack(\n",
    "        [\n",
    "            data[i:i+block_size] for i in ix\n",
    "        ]\n",
    "    )\n",
    "    # stack 4 batches of `target` chars,\n",
    "    # which is just 1 shifted over, since we are predicting next char\n",
    "    y = torch.stack(\n",
    "        [\n",
    "            data[i+1 : i+block_size+1] for i in ix\n",
    "        ]\n",
    "    )\n",
    "    return x, y"
   ]
  },
  {
   "cell_type": "code",
   "execution_count": 12,
   "id": "f5c6682a-9d82-40f9-8ac5-f4daaea54ce3",
   "metadata": {},
   "outputs": [
    {
     "name": "stdout",
     "output_type": "stream",
     "text": [
      "inputs\n",
      "torch.Size([4, 8])\n",
      "tensor([[24, 43, 58,  5, 57,  1, 46, 43],\n",
      "        [44, 53, 56,  1, 58, 46, 39, 58],\n",
      "        [52, 58,  1, 58, 46, 39, 58,  1],\n",
      "        [25, 17, 27, 10,  0, 21,  1, 54]])\n",
      "\n",
      "targets\n",
      "torch.Size([4, 8])\n",
      "tensor([[43, 58,  5, 57,  1, 46, 43, 39],\n",
      "        [53, 56,  1, 58, 46, 39, 58,  1],\n",
      "        [58,  1, 58, 46, 39, 58,  1, 46],\n",
      "        [17, 27, 10,  0, 21,  1, 54, 39]])\n"
     ]
    }
   ],
   "source": [
    "xb, yb = get_batch('train')\n",
    "print('inputs')\n",
    "print(xb.shape)\n",
    "print(xb)\n",
    "print()\n",
    "print('targets')\n",
    "print(yb.shape)\n",
    "print(yb)"
   ]
  },
  {
   "cell_type": "code",
   "execution_count": 13,
   "id": "0304791a-4a54-4119-a2b4-3f3e281c5d85",
   "metadata": {},
   "outputs": [
    {
     "name": "stdout",
     "output_type": "stream",
     "text": [
      "-----\n",
      "\n",
      "----- batch 0 -----\n",
      "\n",
      "when input is [24], the target is 43\n",
      "when input is [24, 43], the target is 58\n",
      "when input is [24, 43, 58], the target is 5\n",
      "when input is [24, 43, 58, 5], the target is 57\n",
      "when input is [24, 43, 58, 5, 57], the target is 1\n",
      "when input is [24, 43, 58, 5, 57, 1], the target is 46\n",
      "when input is [24, 43, 58, 5, 57, 1, 46], the target is 43\n",
      "when input is [24, 43, 58, 5, 57, 1, 46, 43], the target is 39\n",
      "\n",
      "----- batch 1 -----\n",
      "\n",
      "when input is [44], the target is 53\n",
      "when input is [44, 53], the target is 56\n",
      "when input is [44, 53, 56], the target is 1\n",
      "when input is [44, 53, 56, 1], the target is 58\n",
      "when input is [44, 53, 56, 1, 58], the target is 46\n",
      "when input is [44, 53, 56, 1, 58, 46], the target is 39\n",
      "when input is [44, 53, 56, 1, 58, 46, 39], the target is 58\n",
      "when input is [44, 53, 56, 1, 58, 46, 39, 58], the target is 1\n",
      "\n",
      "----- batch 2 -----\n",
      "\n",
      "when input is [52], the target is 58\n",
      "when input is [52, 58], the target is 1\n",
      "when input is [52, 58, 1], the target is 58\n",
      "when input is [52, 58, 1, 58], the target is 46\n",
      "when input is [52, 58, 1, 58, 46], the target is 39\n",
      "when input is [52, 58, 1, 58, 46, 39], the target is 58\n",
      "when input is [52, 58, 1, 58, 46, 39, 58], the target is 1\n",
      "when input is [52, 58, 1, 58, 46, 39, 58, 1], the target is 46\n",
      "\n",
      "----- batch 3 -----\n",
      "\n",
      "when input is [25], the target is 17\n",
      "when input is [25, 17], the target is 27\n",
      "when input is [25, 17, 27], the target is 10\n",
      "when input is [25, 17, 27, 10], the target is 0\n",
      "when input is [25, 17, 27, 10, 0], the target is 21\n",
      "when input is [25, 17, 27, 10, 0, 21], the target is 1\n",
      "when input is [25, 17, 27, 10, 0, 21, 1], the target is 54\n",
      "when input is [25, 17, 27, 10, 0, 21, 1, 54], the target is 39\n"
     ]
    }
   ],
   "source": [
    "# pretty print of each `context` and `target`\n",
    "print('-----')\n",
    "\n",
    "for b in range(batch_size): # batch dimension\n",
    "    print(f'\\n----- batch {b} -----\\n')\n",
    "    for t in range(block_size): # time dimension\n",
    "        context = xb[b, :t+1] # batch b, [0, t]\n",
    "        target = yb[b, t] # batch b, t_th token\n",
    "        print(f'when input is {context.tolist()}, the target is {target}')"
   ]
  },
  {
   "cell_type": "code",
   "execution_count": 14,
   "id": "c1c84628-fa61-4336-8280-3cec64d4c9f5",
   "metadata": {},
   "outputs": [
    {
     "data": {
      "text/plain": [
       "<torch._C.Generator at 0x7fecb8464930>"
      ]
     },
     "execution_count": 14,
     "metadata": {},
     "output_type": "execute_result"
    }
   ],
   "source": [
    "# create the simplest NN language model, the bigram model\n",
    "import torch\n",
    "import torch.nn as nn\n",
    "from torch.nn import functional as F\n",
    "\n",
    "torch.manual_seed(1337)"
   ]
  },
  {
   "cell_type": "markdown",
   "id": "c8017bcd-472c-49d5-9861-27f5a87b1f68",
   "metadata": {},
   "source": [
    "# Bigram Model (Embedding from bigram)"
   ]
  },
  {
   "cell_type": "code",
   "execution_count": 44,
   "id": "4d334d3f-06cf-478b-852b-b6fc28eaa2df",
   "metadata": {},
   "outputs": [],
   "source": [
    "class BigramLanguageModel(nn.Module):\n",
    "    def __init__(self, vocab_size):\n",
    "        super().__init__()\n",
    "        \n",
    "        # each token directly reads of logit for the next token from lookup table\n",
    "        # nn.Embedding is a thin wrappr of tensor size [vocab_size, vocab_size]\n",
    "        # or square matrix.\n",
    "        # the weights/values for each Embedding dimension will be `learned`.\n",
    "        # the learned values can be interpret as the probability of a char following the prev\n",
    "        # \n",
    "        self.token_embedding_table = nn.Embedding(vocab_size, vocab_size)\n",
    "\n",
    "    def forward(self, idx, targets=None):\n",
    "        # B = batch size\n",
    "        # T = time dimension (each batch has blockSize/context size=8 words)\n",
    "        # C=channel=vocab size (1 hot encoding?)\n",
    "        \n",
    "        # idx and targets are both [batch, time] tensor of int\n",
    "        # idx = inputs of size [batch, time], same as `xb` above\n",
    "        # target = targe of size [batch, time], same as `yb` above \n",
    "        logits = self.token_embedding_table(idx) # (B,T,C)\n",
    "\n",
    "        if targets is None:\n",
    "            loss = None\n",
    "        else: \n",
    "            B, T, C = logits.shape\n",
    "            # we need to change the shape of the logits to match pytorch's cross_entropy method\n",
    "            logits = logits.view(B*T, C)\n",
    "            targets = targets.view(B*T)\n",
    "            loss = F.cross_entropy(logits, targets)\n",
    "        return logits, loss\n",
    "\n",
    "\n",
    "    def generate(self, idx, max_new_tokens):\n",
    "        # idx is (B, T) array of indices in the current vocab\n",
    "        for _ in range(max_new_tokens):\n",
    "            # get the predictions, notice we dont pass in targets, loss=None in this case\n",
    "            # prediction shape (B, T, C)\n",
    "            logits, loss = self(idx)\n",
    "            # look at the last timestep only\n",
    "            logits = logits[:, -1, :] # becoms (B,C)\n",
    "            # apply softmax to get probabilities\n",
    "            probs = F.softmax(logits, dim=-1) # (B,C)\n",
    "            # sample from distribution\n",
    "            idx_next = torch.multinomial(probs, num_samples=1) # (B, 1)\n",
    "            # append sampled index to running sequence\n",
    "            '''\n",
    "            notice that we pass in the entire idx to the next `generate` call\n",
    "            - this doesnt makes sense cuz it s a bigram model, which only looks at the prev char (hist size=1)\n",
    "            - but this method is written in a generic manner, so we can expand to look back at longer history\n",
    "            '''\n",
    "            idx = torch.cat( (idx, idx_next), dim=1) # (B, T+1)\n",
    "\n",
    "        return idx"
   ]
  },
  {
   "attachments": {
    "9416f6a9-939d-4ff9-8a3d-82bd9a3f3886.png": {
     "image/png": "[encoded data removed]"
    }
   },
   "cell_type": "markdown",
   "id": "4694e737-7c73-4c26-abf1-f56b6d2af36b",
   "metadata": {},
   "source": [
    "![image.png](attachment:9416f6a9-939d-4ff9-8a3d-82bd9a3f3886.png)\n",
    "\n",
    "`generate()`: given the previes _idx_ (non-blue), predict the next time slice (blue)\n",
    "\n",
    "the `BigramLanguageModel` initialize embedding of _[vocab_size, vocab_size]_.\n",
    "\n",
    "a forward pass of 1 batch"
   ]
  },
  {
   "cell_type": "code",
   "execution_count": 23,
   "id": "6b61a4ef-e0af-4894-b1b5-3dd6943c9678",
   "metadata": {},
   "outputs": [
    {
     "name": "stdout",
     "output_type": "stream",
     "text": [
      "torch.Size([32, 65])\n",
      "tensor(4.9095, grad_fn=<NllLossBackward0>)\n"
     ]
    }
   ],
   "source": [
    "m = BigramLanguageModel(vocab_size)\n",
    "logits, loss = m(xb, yb)\n",
    "print(logits.shape)\n",
    "print(loss)"
   ]
  },
  {
   "cell_type": "code",
   "execution_count": 26,
   "id": "7330920f-6bfa-4efa-91cd-4f389cc186bb",
   "metadata": {},
   "outputs": [
    {
     "name": "stdout",
     "output_type": "stream",
     "text": [
      "0.015384615384615385\n",
      "4.174387269895637\n"
     ]
    }
   ],
   "source": [
    "# logits is probability of next character\n",
    "# we have 65 char, assume equal likely, the probability is\n",
    "print(1.0/65)\n",
    "\n",
    "import numpy as np\n",
    "# we expect the baseline (the model doesnt know anything) loss for  negative log likelihood is\n",
    "print(-np.log(1.0/65))"
   ]
  },
  {
   "cell_type": "code",
   "execution_count": 27,
   "id": "8c724a77-b131-4bbf-95c4-2fca46da188c",
   "metadata": {},
   "outputs": [],
   "source": [
    "# 4.17 < 4.9, which means our prediction is not completely random, due to possibly initial noise"
   ]
  },
  {
   "cell_type": "code",
   "execution_count": 36,
   "id": "a2b413ea-ded8-4052-ae86-4298f462f47e",
   "metadata": {},
   "outputs": [
    {
     "name": "stdout",
     "output_type": "stream",
     "text": [
      "torch.Size([32, 65])\n",
      "tensor(4.4399, grad_fn=<NllLossBackward0>)\n",
      "\n",
      "aEnF-G-3Nysg;Fr\n",
      "3O$smz!R!b:AC$P;vXaDuhnn:wqL3hZR$x b-IgpYb,EIKcOro?MdOUmzHvM?FVEuTkk;iiB$a'.pzMBaVC.\n"
     ]
    }
   ],
   "source": [
    "m = BigramLanguageModel(vocab_size)\n",
    "logits, loss = m(xb, yb)\n",
    "print(logits.shape)\n",
    "print(loss)\n",
    "\n",
    "# 1x1 tensor of 0, which is the char '.', to start generate\n",
    "idx = torch.zeros( (1,1), dtype=torch.long)\n",
    "print(\n",
    "    decode(\n",
    "        # generate 100 tokens, start with '.', (B=1,T=1), 1 batch of 1 char='.'\n",
    "        # returns (1, 101)\n",
    "        m.generate(idx, max_new_tokens=100)[0].tolist()\n",
    "    )\n",
    ")"
   ]
  },
  {
   "cell_type": "code",
   "execution_count": 46,
   "id": "ee66f320-74bd-4755-9e75-614f588c4ac7",
   "metadata": {},
   "outputs": [],
   "source": [
    "# we see random garbage generated because the model is not trained\n",
    "# lets train now\n",
    "\n",
    "# create pytorch optimizer\n",
    "# remember in `makemore` we use only stochostic gradient descent (SGD)\n",
    "# here we will use ADAM, typical typical learning rate is 1e-4\n",
    "# for small network like this we can use higher 1e-3\n",
    "optimizer = torch.optim.AdamW(m.parameters(), lr=1e-3)"
   ]
  },
  {
   "cell_type": "code",
   "execution_count": 51,
   "id": "1fa1f1fc-2205-4f35-94bf-75e4b68c8c26",
   "metadata": {},
   "outputs": [
    {
     "name": "stdout",
     "output_type": "stream",
     "text": [
      "2.6583077907562256\n"
     ]
    }
   ],
   "source": [
    "# repeat until we have converging loss\n",
    "batch_size = 32\n",
    "for steps in range(10000):\n",
    "    # sample a batch of data\n",
    "    xb, yb = get_batch('train')\n",
    "\n",
    "    # forward pass, evaluate the loss\n",
    "    logits, loss = m(xb, yb)\n",
    "    # reset all the gradients\n",
    "    optimizer.zero_grad(set_to_none=True)\n",
    "    # backward pass\n",
    "    loss.backward()\n",
    "    # update\n",
    "    optimizer.step()\n",
    "\n",
    "print(loss.item())\n",
    "    "
   ]
  },
  {
   "cell_type": "code",
   "execution_count": 54,
   "id": "8bcba1f6-46af-460f-a5c7-808763af7d5b",
   "metadata": {},
   "outputs": [
    {
     "name": "stdout",
     "output_type": "stream",
     "text": [
      "\n",
      "AREOLLA sur inst, meatomyo nord I t adstof higoe! woue thy myom k'secthanind!'Purg mese?\n",
      "Vowindssind stlostthou halverenozakierasheforcharoud iery t blleayoundors\n",
      "He wony we'd, lyorfimigt thedsg un\n",
      "Shouns whunklll lounoklpou d:\n",
      "Bungute igost m pords\n",
      "VIshad tan. hef nomathoucaild\n",
      "Ane:\n",
      "\n",
      "IELANTI marano RI'll ss h'da INThomor heile IOrte prof s yshe un w:\n",
      "h OUTo d\n",
      "\n",
      "\n",
      "Ingay ckeyout uay ad ton wander sthere han.\n",
      "N: f beedsicl inare kn?\n",
      "NGAnd, beamisow, t nthar:\n",
      "Matthanod rid p g f inge!\n",
      "Bupales fard t \n"
     ]
    }
   ],
   "source": [
    "# now sample from the trained bigram model (embedding)\n",
    "idx = torch.zeros( (1,1), dtype=torch.long)\n",
    "print(\n",
    "    decode(\n",
    "        # generate 100 tokens, start with '.', (B=1,T=1), 1 batch of 1 char='.'\n",
    "        # returns (1, 101)\n",
    "        m.generate(idx, max_new_tokens=500)[0].tolist()\n",
    "    )\n",
    ")"
   ]
  },
  {
   "cell_type": "markdown",
   "id": "04f963da-99e5-44e0-94a2-d45ff849be0f",
   "metadata": {},
   "source": [
    "# The mathematical trick in self attention\n",
    "we have 8 tokens, each has 2 channels of info, and there are 4 independent batches of tokens.\n",
    "\n",
    "### example \n",
    "given 1st 5 tokens, predict the 6th token\n",
    "- we need to look at the 5 tokens, gather info/features in some way\n",
    "  - one lossy way to do this is just to avg all the token channels, up to the 5th token\n",
    "  - it s lossy because we dont take into account of sequencing/positioning info, and other possible features\n",
    " \n",
    "- we **cannot** look at data at 6th to 8th tokens, because those are future tokens, we are trying to predict the future"
   ]
  },
  {
   "cell_type": "code",
   "execution_count": 67,
   "id": "bfe5cc42-3b44-4595-958b-8842948459e4",
   "metadata": {},
   "outputs": [
    {
     "data": {
      "text/plain": [
       "torch.Size([4, 8, 2])"
      ]
     },
     "execution_count": 67,
     "metadata": {},
     "output_type": "execute_result"
    }
   ],
   "source": [
    "# consider the following toy example\n",
    "torch.manual_seed(1337)\n",
    "B, T, C = 4, 8, 2 # batch, time, channels\n",
    "x = torch.randn(B,T,C)\n",
    "x.shape"
   ]
  },
  {
   "cell_type": "markdown",
   "id": "7ab640a9-cff4-4b73-915d-01a24f25df89",
   "metadata": {},
   "source": [
    "### version 1"
   ]
  },
  {
   "cell_type": "code",
   "execution_count": 68,
   "id": "2ea7e901-6d64-4880-889f-5f27f74fc83f",
   "metadata": {},
   "outputs": [],
   "source": [
    "# we want x[b,t] = mean_{i<=t} x[b,i]\n",
    "# _bow is short for 'bag of words'\n",
    "# a term for 'avg a bunch of words', since a bag of stuff doesnt care bout position info\n",
    "xbow = torch.zeros( (B,T,C) )\n",
    "for b in range(B):\n",
    "    for t in range(T):\n",
    "        # slice the data\n",
    "        # at this batch, take the [0,t] tokens inclusive, so we have 't' tokens\n",
    "        # each token has C channel, so the slice is shape (t,C)\n",
    "        xprev = x[b,:t+1] # (t,C)\n",
    "        # avg all tokens, so avg on dim 0, we have shape (1,C)\n",
    "        xbow[b,t] = torch.mean(xprev,0)"
   ]
  },
  {
   "cell_type": "code",
   "execution_count": 69,
   "id": "ed82487c-2740-47cc-a34c-baffd63ce528",
   "metadata": {},
   "outputs": [
    {
     "data": {
      "text/plain": [
       "tensor([[ 0.1808, -0.0700],\n",
       "        [-0.3596, -0.9152],\n",
       "        [ 0.6258,  0.0255],\n",
       "        [ 0.9545,  0.0643],\n",
       "        [ 0.3612,  1.1679],\n",
       "        [-1.3499, -0.5102],\n",
       "        [ 0.2360, -0.2398],\n",
       "        [-0.9211,  1.5433]])"
      ]
     },
     "execution_count": 69,
     "metadata": {},
     "output_type": "execute_result"
    }
   ],
   "source": [
    "# 1st batch of 8 tokens\n",
    "x[0]"
   ]
  },
  {
   "cell_type": "code",
   "execution_count": 70,
   "id": "90be5dd5-6c43-4380-9218-501d44068832",
   "metadata": {},
   "outputs": [
    {
     "data": {
      "text/plain": [
       "tensor([[ 0.1808, -0.0700],\n",
       "        [-0.0894, -0.4926],\n",
       "        [ 0.1490, -0.3199],\n",
       "        [ 0.3504, -0.2238],\n",
       "        [ 0.3525,  0.0545],\n",
       "        [ 0.0688, -0.0396],\n",
       "        [ 0.0927, -0.0682],\n",
       "        [-0.0341,  0.1332]])"
      ]
     },
     "execution_count": 70,
     "metadata": {},
     "output_type": "execute_result"
    }
   ],
   "source": [
    "xbow[0]"
   ]
  },
  {
   "cell_type": "code",
   "execution_count": 64,
   "id": "2f3d2930-4344-476c-aa93-84b8e8172b3a",
   "metadata": {},
   "outputs": [
    {
     "data": {
      "text/plain": [
       "tensor([True, True])"
      ]
     },
     "execution_count": 64,
     "metadata": {},
     "output_type": "execute_result"
    }
   ],
   "source": [
    "# the 1st token is the same\n",
    "x[0][0] == xbow[0][0]"
   ]
  },
  {
   "cell_type": "code",
   "execution_count": 65,
   "id": "74a08e13-b73f-48cb-b5c4-f5e0c11bf7ff",
   "metadata": {},
   "outputs": [
    {
     "data": {
      "text/plain": [
       "[tensor(0.5729), tensor(-0.5003)]"
      ]
     },
     "execution_count": 65,
     "metadata": {},
     "output_type": "execute_result"
    }
   ],
   "source": [
    "# the bow term is the avg of the 1st 2 tokens with respect to each channel\n",
    "[ (x[0][0][0] + x[0][1][0])/2, (x[0][0][1] + x[0][1][1])/2 ]"
   ]
  },
  {
   "cell_type": "code",
   "execution_count": 71,
   "id": "0073f17a-0af9-4665-b377-11800534ee9c",
   "metadata": {},
   "outputs": [
    {
     "name": "stdout",
     "output_type": "stream",
     "text": [
      "a=\n",
      "tensor([[1., 1., 1.],\n",
      "        [1., 1., 1.],\n",
      "        [1., 1., 1.]])\n",
      "---\n",
      "b=\n",
      "tensor([[2., 7.],\n",
      "        [6., 4.],\n",
      "        [6., 5.]])\n",
      "---\n",
      "c=\n",
      "tensor([[14., 16.],\n",
      "        [14., 16.],\n",
      "        [14., 16.]])\n"
     ]
    }
   ],
   "source": [
    "# and so on\n",
    "# but the above for loop is inefficient, we need to use matrix mult\n",
    "# we need to build a 'mask'\n",
    "torch.manual_seed(42)\n",
    "# 3x3 of 1s\n",
    "a = torch.ones(3,3)\n",
    "# rand int of [3x2] from 0-10\n",
    "b = torch.randint(0, 10, (3,2)).float()\n",
    "# matrix mult\n",
    "c = a @ b\n",
    "print('a=')\n",
    "print(a)\n",
    "print('---')\n",
    "print('b=')\n",
    "print(b)\n",
    "print('---')\n",
    "print('c=')\n",
    "print(c)"
   ]
  },
  {
   "cell_type": "code",
   "execution_count": 72,
   "id": "d6d5d485-5f15-4e52-8e20-7129d2475b3f",
   "metadata": {},
   "outputs": [
    {
     "data": {
      "text/plain": [
       "tensor([[1., 0., 0.],\n",
       "        [1., 1., 0.],\n",
       "        [1., 1., 1.]])"
      ]
     },
     "execution_count": 72,
     "metadata": {},
     "output_type": "execute_result"
    }
   ],
   "source": [
    "# torch has tril to build lower triangle of 1s\n",
    "a = torch.tril( torch.ones(3,3) )\n",
    "a"
   ]
  },
  {
   "cell_type": "code",
   "execution_count": 73,
   "id": "16aa2694-e45f-4485-a140-42da18fb5826",
   "metadata": {},
   "outputs": [
    {
     "name": "stdout",
     "output_type": "stream",
     "text": [
      "a=\n",
      "tensor([[1., 0., 0.],\n",
      "        [1., 1., 0.],\n",
      "        [1., 1., 1.]])\n",
      "---\n",
      "b=\n",
      "tensor([[2., 7.],\n",
      "        [6., 4.],\n",
      "        [6., 5.]])\n",
      "---\n",
      "c=\n",
      "tensor([[ 2.,  7.],\n",
      "        [ 8., 11.],\n",
      "        [14., 16.]])\n"
     ]
    }
   ],
   "source": [
    "c = a @ b\n",
    "print('a=')\n",
    "print(a)\n",
    "print('---')\n",
    "print('b=')\n",
    "print(b)\n",
    "print('---')\n",
    "print('c=')\n",
    "print(c)"
   ]
  },
  {
   "cell_type": "code",
   "execution_count": 74,
   "id": "aa6f8928-340a-4466-9bcf-abe7604959ff",
   "metadata": {},
   "outputs": [
    {
     "data": {
      "text/plain": [
       "tensor([[1.0000, 0.0000, 0.0000],\n",
       "        [0.5000, 0.5000, 0.0000],\n",
       "        [0.3333, 0.3333, 0.3333]])"
      ]
     },
     "execution_count": 74,
     "metadata": {},
     "output_type": "execute_result"
    }
   ],
   "source": [
    "# notice each row in 'c' is partial sum of the previous rows\n",
    "# because `a` is list of 1s we are summing\n",
    "# we can do avg by normalizing row of `a`, so row sum is 1\n",
    "# torch has tril to build lower triangle of 1s\n",
    "a = torch.tril( torch.ones(3,3) )\n",
    "a = a / torch.sum(a, 1, keepdim=True)\n",
    "a"
   ]
  },
  {
   "cell_type": "code",
   "execution_count": 75,
   "id": "9725d300-f5d4-4aa3-82c8-8d664e606ad3",
   "metadata": {},
   "outputs": [
    {
     "name": "stdout",
     "output_type": "stream",
     "text": [
      "a=\n",
      "tensor([[1.0000, 0.0000, 0.0000],\n",
      "        [0.5000, 0.5000, 0.0000],\n",
      "        [0.3333, 0.3333, 0.3333]])\n",
      "---\n",
      "b=\n",
      "tensor([[2., 7.],\n",
      "        [6., 4.],\n",
      "        [6., 5.]])\n",
      "---\n",
      "c=\n",
      "tensor([[2.0000, 7.0000],\n",
      "        [4.0000, 5.5000],\n",
      "        [4.6667, 5.3333]])\n"
     ]
    }
   ],
   "source": [
    "# now the row sum of 'a' is 1\n",
    "# doing the same operation for c\n",
    "c = a @ b\n",
    "print('a=')\n",
    "print(a)\n",
    "print('---')\n",
    "print('b=')\n",
    "print(b)\n",
    "print('---')\n",
    "print('c=')\n",
    "print(c)"
   ]
  },
  {
   "cell_type": "code",
   "execution_count": 76,
   "id": "c0b78d36-47be-4a3a-b4d4-c5f2a3fbd4d8",
   "metadata": {},
   "outputs": [
    {
     "data": {
      "text/plain": [
       "tensor([[1.0000, 0.0000, 0.0000, 0.0000, 0.0000, 0.0000, 0.0000, 0.0000],\n",
       "        [0.5000, 0.5000, 0.0000, 0.0000, 0.0000, 0.0000, 0.0000, 0.0000],\n",
       "        [0.3333, 0.3333, 0.3333, 0.0000, 0.0000, 0.0000, 0.0000, 0.0000],\n",
       "        [0.2500, 0.2500, 0.2500, 0.2500, 0.0000, 0.0000, 0.0000, 0.0000],\n",
       "        [0.2000, 0.2000, 0.2000, 0.2000, 0.2000, 0.0000, 0.0000, 0.0000],\n",
       "        [0.1667, 0.1667, 0.1667, 0.1667, 0.1667, 0.1667, 0.0000, 0.0000],\n",
       "        [0.1429, 0.1429, 0.1429, 0.1429, 0.1429, 0.1429, 0.1429, 0.0000],\n",
       "        [0.1250, 0.1250, 0.1250, 0.1250, 0.1250, 0.1250, 0.1250, 0.1250]])"
      ]
     },
     "execution_count": 76,
     "metadata": {},
     "output_type": "execute_result"
    }
   ],
   "source": [
    "# now we can vectorize the 'bow' calculation to be more efficient using matrix mult\n",
    "\n",
    "# lets construct 'a', in this case the weight mask\n",
    "wei = torch.tril(torch.ones(T,T))\n",
    "wei = wei / wei.sum(1, keepdim=True)\n",
    "wei"
   ]
  },
  {
   "cell_type": "markdown",
   "id": "b394269a-4e61-4953-9519-adc80414a95b",
   "metadata": {},
   "source": [
    "### version 2"
   ]
  },
  {
   "cell_type": "code",
   "execution_count": 77,
   "id": "f906ee25-6305-4775-99c0-25a0b43178b7",
   "metadata": {},
   "outputs": [
    {
     "data": {
      "text/plain": [
       "True"
      ]
     },
     "execution_count": 77,
     "metadata": {},
     "output_type": "execute_result"
    }
   ],
   "source": [
    "# (T,T) @ (B,T,C) --> 1st dim is not 1/missing/or same, so will broadcast\n",
    "# add batch dim B --> (B,T,T) @ (B,T,C)\n",
    "# so for each B, do (T,T) @ (T,C) --> (T,C), so we have result shape (B,T,C), same as xbow\n",
    "xbow2 = wei @ x \n",
    "# assert they are the same\n",
    "torch.allclose(xbow, xbow2)"
   ]
  },
  {
   "cell_type": "markdown",
   "id": "cf705d44-2bc6-47b6-8109-18d4b83a1578",
   "metadata": {},
   "source": [
    "### version 3: use softmax"
   ]
  },
  {
   "cell_type": "code",
   "execution_count": 81,
   "id": "c06c6232-3729-48c5-8fb4-ecb0f765eced",
   "metadata": {},
   "outputs": [
    {
     "data": {
      "text/plain": [
       "tensor([[1., 0., 0., 0., 0., 0., 0., 0.],\n",
       "        [1., 1., 0., 0., 0., 0., 0., 0.],\n",
       "        [1., 1., 1., 0., 0., 0., 0., 0.],\n",
       "        [1., 1., 1., 1., 0., 0., 0., 0.],\n",
       "        [1., 1., 1., 1., 1., 0., 0., 0.],\n",
       "        [1., 1., 1., 1., 1., 1., 0., 0.],\n",
       "        [1., 1., 1., 1., 1., 1., 1., 0.],\n",
       "        [1., 1., 1., 1., 1., 1., 1., 1.]])"
      ]
     },
     "execution_count": 81,
     "metadata": {},
     "output_type": "execute_result"
    }
   ],
   "source": [
    "# build the mask\n",
    "tril = torch.tril(torch.ones(T,T))\n",
    "tril # just triangular matrix"
   ]
  },
  {
   "cell_type": "code",
   "execution_count": 83,
   "id": "90d775de-3bb9-45ab-a157-13be48f0ef15",
   "metadata": {},
   "outputs": [
    {
     "data": {
      "text/plain": [
       "tensor([[0., 0., 0., 0., 0., 0., 0., 0.],\n",
       "        [0., 0., 0., 0., 0., 0., 0., 0.],\n",
       "        [0., 0., 0., 0., 0., 0., 0., 0.],\n",
       "        [0., 0., 0., 0., 0., 0., 0., 0.],\n",
       "        [0., 0., 0., 0., 0., 0., 0., 0.],\n",
       "        [0., 0., 0., 0., 0., 0., 0., 0.],\n",
       "        [0., 0., 0., 0., 0., 0., 0., 0.],\n",
       "        [0., 0., 0., 0., 0., 0., 0., 0.]])"
      ]
     },
     "execution_count": 83,
     "metadata": {},
     "output_type": "execute_result"
    }
   ],
   "source": [
    "# initialize wei to be all 0\n",
    "wei = torch.zeros((T,T))\n",
    "wei"
   ]
  },
  {
   "cell_type": "code",
   "execution_count": 84,
   "id": "ee807b8f-2f05-4608-879b-c722eecd5535",
   "metadata": {},
   "outputs": [
    {
     "data": {
      "text/plain": [
       "tensor([[0., -inf, -inf, -inf, -inf, -inf, -inf, -inf],\n",
       "        [0., 0., -inf, -inf, -inf, -inf, -inf, -inf],\n",
       "        [0., 0., 0., -inf, -inf, -inf, -inf, -inf],\n",
       "        [0., 0., 0., 0., -inf, -inf, -inf, -inf],\n",
       "        [0., 0., 0., 0., 0., -inf, -inf, -inf],\n",
       "        [0., 0., 0., 0., 0., 0., -inf, -inf],\n",
       "        [0., 0., 0., 0., 0., 0., 0., -inf],\n",
       "        [0., 0., 0., 0., 0., 0., 0., 0.]])"
      ]
     },
     "execution_count": 84,
     "metadata": {},
     "output_type": "execute_result"
    }
   ],
   "source": [
    "# set 0 element in tril to -inf in wei matrix\n",
    "wei = wei.masked_fill(tril == 0, float('-inf'))\n",
    "wei"
   ]
  },
  {
   "cell_type": "code",
   "execution_count": 85,
   "id": "d3a3496a-8c22-4e8f-b0cc-454d37ededed",
   "metadata": {},
   "outputs": [
    {
     "data": {
      "text/plain": [
       "tensor([[1.0000, 0.0000, 0.0000, 0.0000, 0.0000, 0.0000, 0.0000, 0.0000],\n",
       "        [0.5000, 0.5000, 0.0000, 0.0000, 0.0000, 0.0000, 0.0000, 0.0000],\n",
       "        [0.3333, 0.3333, 0.3333, 0.0000, 0.0000, 0.0000, 0.0000, 0.0000],\n",
       "        [0.2500, 0.2500, 0.2500, 0.2500, 0.0000, 0.0000, 0.0000, 0.0000],\n",
       "        [0.2000, 0.2000, 0.2000, 0.2000, 0.2000, 0.0000, 0.0000, 0.0000],\n",
       "        [0.1667, 0.1667, 0.1667, 0.1667, 0.1667, 0.1667, 0.0000, 0.0000],\n",
       "        [0.1429, 0.1429, 0.1429, 0.1429, 0.1429, 0.1429, 0.1429, 0.0000],\n",
       "        [0.1250, 0.1250, 0.1250, 0.1250, 0.1250, 0.1250, 0.1250, 0.1250]])"
      ]
     },
     "execution_count": 85,
     "metadata": {},
     "output_type": "execute_result"
    }
   ],
   "source": [
    "# now apply softmax\n",
    "# softmax changes values to probabilities useing e^x, so -inf -> 0, 0 -> 1\n",
    "# because softmax converts to probabilities, it is same as avg\n",
    "wei = F.softmax(wei, dim=-1)\n",
    "wei"
   ]
  },
  {
   "cell_type": "code",
   "execution_count": 80,
   "id": "ad012eba-6cf2-4edb-b95f-83e7903cf8e0",
   "metadata": {},
   "outputs": [
    {
     "data": {
      "text/plain": [
       "True"
      ]
     },
     "execution_count": 80,
     "metadata": {},
     "output_type": "execute_result"
    }
   ],
   "source": [
    "# build the mask\n",
    "tril = torch.tril(torch.ones(T,T))\n",
    "# initialize wei to be all 0\n",
    "wei = torch.zeros((T,T))\n",
    "# set 0 element in tril to -inf in wei matrix\n",
    "wei = wei.masked_fill(tril == 0, float('-inf'))\n",
    "# use softmax as normalization op\n",
    "wei = F.softmax(wei, dim=-1)\n",
    "# matrix mult = aggregation\n",
    "xbow3 = wei @ x\n",
    "torch.allclose(xbow, xbow3)"
   ]
  },
  {
   "cell_type": "markdown",
   "id": "297ce5ef-5449-40e7-a5f4-aa3381e77f34",
   "metadata": {},
   "source": [
    "### version 4: self-attention"
   ]
  },
  {
   "cell_type": "code",
   "execution_count": 86,
   "id": "be01e435-92bf-4a67-953f-2f0e822784e6",
   "metadata": {},
   "outputs": [
    {
     "data": {
      "text/plain": [
       "torch.Size([4, 8, 32])"
      ]
     },
     "execution_count": 86,
     "metadata": {},
     "output_type": "execute_result"
    }
   ],
   "source": [
    "torch.manual_seed(1337)\n",
    "# input shape\n",
    "# 8 tokens, each token info is 32 dim\n",
    "# 4 batches of 8 tokens\n",
    "B,T,C = 4,8,32 # batch, time, channels\n",
    "x = torch.randn(B,T,C)\n",
    "\n",
    "# ----- simple avg of info for past token and current token\n",
    "\n",
    "# build the mask\n",
    "tril = torch.tril(torch.ones(T,T))\n",
    "\n",
    "# initialize wei to be all 0\n",
    "# this weights can be interpreted as affinity matrix between all tokens, how related each tokens are in the batch\n",
    "wei = torch.zeros((T,T))\n",
    "# set 0 element in tril to -inf in wei matrix\n",
    "wei = wei.masked_fill(tril == 0, float('-inf'))\n",
    "# use softmax as normalization op\n",
    "wei = F.softmax(wei, dim=-1)\n",
    "# matrix mult = aggregation\n",
    "out = wei @ x\n",
    "\n",
    "out.shape"
   ]
  },
  {
   "cell_type": "code",
   "execution_count": 87,
   "id": "e238caa3-edea-4450-81d8-c09f87adcb46",
   "metadata": {},
   "outputs": [
    {
     "data": {
      "text/plain": [
       "tensor([[1., 0., 0., 0., 0., 0., 0., 0.],\n",
       "        [1., 1., 0., 0., 0., 0., 0., 0.],\n",
       "        [1., 1., 1., 0., 0., 0., 0., 0.],\n",
       "        [1., 1., 1., 1., 0., 0., 0., 0.],\n",
       "        [1., 1., 1., 1., 1., 0., 0., 0.],\n",
       "        [1., 1., 1., 1., 1., 1., 0., 0.],\n",
       "        [1., 1., 1., 1., 1., 1., 1., 0.],\n",
       "        [1., 1., 1., 1., 1., 1., 1., 1.]])"
      ]
     },
     "execution_count": 87,
     "metadata": {},
     "output_type": "execute_result"
    }
   ],
   "source": [
    "# the mask\n",
    "tril"
   ]
  },
  {
   "cell_type": "code",
   "execution_count": 88,
   "id": "ebcf34ff-d46f-4bc0-ad92-f1df878b3a01",
   "metadata": {},
   "outputs": [
    {
     "data": {
      "text/plain": [
       "tensor([[1.0000, 0.0000, 0.0000, 0.0000, 0.0000, 0.0000, 0.0000, 0.0000],\n",
       "        [0.5000, 0.5000, 0.0000, 0.0000, 0.0000, 0.0000, 0.0000, 0.0000],\n",
       "        [0.3333, 0.3333, 0.3333, 0.0000, 0.0000, 0.0000, 0.0000, 0.0000],\n",
       "        [0.2500, 0.2500, 0.2500, 0.2500, 0.0000, 0.0000, 0.0000, 0.0000],\n",
       "        [0.2000, 0.2000, 0.2000, 0.2000, 0.2000, 0.0000, 0.0000, 0.0000],\n",
       "        [0.1667, 0.1667, 0.1667, 0.1667, 0.1667, 0.1667, 0.0000, 0.0000],\n",
       "        [0.1429, 0.1429, 0.1429, 0.1429, 0.1429, 0.1429, 0.1429, 0.0000],\n",
       "        [0.1250, 0.1250, 0.1250, 0.1250, 0.1250, 0.1250, 0.1250, 0.1250]])"
      ]
     },
     "execution_count": 88,
     "metadata": {},
     "output_type": "execute_result"
    }
   ],
   "source": [
    "# the affinity matrix, weights of each token, simple avg now on past tokens\n",
    "wei"
   ]
  },
  {
   "cell_type": "markdown",
   "id": "e28d8ce0-6982-42f6-9828-e407b27e8927",
   "metadata": {},
   "source": [
    "currently the `wei` matrix initialized to 0, and applies _uniform_ weights to all past tokens.\n",
    "\n",
    "this is not correct in natural language.  some words will find only certain previous words interesting.\n",
    "- example: current word is a verb, it should relate to a subject (noun) in previous token the most\n",
    "  - the weight matrix should allow for the subject token info to flow to current token, the verb, the most\n",
    "- this means `wei` is data dependent\n",
    "- this is **self-attention**\n",
    "\n",
    "the way **self-attention** solves this is\n",
    "- every token\n",
    "  - emits _2 vectors_: query (Q), and key (K)\n",
    "  - (Q) query vector: what should the current token pay attention to, what is it interest in\n",
    "  - (K) key vector: what info current token contains\n",
    "  - (V) value vector: what info to propagate/flow through when Q,K are similar, instead of raw embedding of token x\n",
    " \n",
    "- to get affinity (relation) between tokens\n",
    "  - dot product Q and K vectors\n",
    "  - the result is a matrix of weights\n",
    "    - remember dot product is how close/similar 2 vector is\n",
    "    - if the K vector of 1 token and the Q vector of another token is large, they are similar\n",
    "      - this means that the info token looking/interested for (Q), is similar to the K vector of another token, what it contains\n",
    "\n",
    "\n",
    "the dot product is `wei`, this weight mask will allow specific info from 1 past token to flow to the current token"
   ]
  },
  {
   "cell_type": "code",
   "execution_count": 91,
   "id": "84f4b18d-7dbe-4efe-b393-cd3db419d5fc",
   "metadata": {},
   "outputs": [
    {
     "data": {
      "text/plain": [
       "torch.Size([4, 8, 16])"
      ]
     },
     "execution_count": 91,
     "metadata": {},
     "output_type": "execute_result"
    }
   ],
   "source": [
    "# implent a single Head to perform self-attention\n",
    "head_size = 16 # hyper param\n",
    "key = nn.Linear(C, head_size, bias=False)\n",
    "query = nn.Linear(C, head_size, bias=False)\n",
    "value = nn.Linear(C, head_size, bias=False)\n",
    "k = key(x) # (B,T,16)\n",
    "q = query(x) # (B,T,16)\n",
    "# head_size**-0.5 is the normalizing scaling factor, explained below\n",
    "wei = q @ k.transpose(-2, -1) * head_size**-0.5 # (B,T,16) @ (B, 16, T) --> (B,T,T)\n",
    "\n",
    "# ------- mask to prevent future token influence\n",
    "# build the mask\n",
    "tril = torch.tril(torch.ones(T,T))\n",
    "# set 0 element in tril to -inf in wei matrix\n",
    "wei = wei.masked_fill(tril == 0, float('-inf'))\n",
    "# use softmax as normalization operatoion\n",
    "wei = F.softmax(wei, dim=-1)\n",
    "# matrix mult = aggregation\n",
    "# value, values that represents embedding of x\n",
    "# think of embedding is private info, and pick a representation V for propagation\n",
    "v = value(x)\n",
    "# matrix mult = aggregation, over value V\n",
    "out = wei @ v # (B,T,16)\n",
    "\n",
    "out.shape"
   ]
  },
  {
   "cell_type": "code",
   "execution_count": 92,
   "id": "baa874c8-75a9-40a0-8f26-320133a3294b",
   "metadata": {},
   "outputs": [
    {
     "data": {
      "text/plain": [
       "tensor([[[1.0000, 0.0000, 0.0000, 0.0000, 0.0000, 0.0000, 0.0000, 0.0000],\n",
       "         [0.9456, 0.0544, 0.0000, 0.0000, 0.0000, 0.0000, 0.0000, 0.0000],\n",
       "         [0.8952, 0.0486, 0.0562, 0.0000, 0.0000, 0.0000, 0.0000, 0.0000],\n",
       "         [0.0223, 0.0651, 0.1234, 0.7892, 0.0000, 0.0000, 0.0000, 0.0000],\n",
       "         [0.0711, 0.0019, 0.0034, 0.0080, 0.9155, 0.0000, 0.0000, 0.0000],\n",
       "         [0.0069, 0.1353, 0.2752, 0.0972, 0.4712, 0.0141, 0.0000, 0.0000],\n",
       "         [0.1561, 0.1033, 0.1465, 0.0880, 0.0698, 0.3634, 0.0728, 0.0000],\n",
       "         [0.4031, 0.0104, 0.0134, 0.0060, 0.5049, 0.0365, 0.0194, 0.0064]],\n",
       "\n",
       "        [[1.0000, 0.0000, 0.0000, 0.0000, 0.0000, 0.0000, 0.0000, 0.0000],\n",
       "         [0.0180, 0.9820, 0.0000, 0.0000, 0.0000, 0.0000, 0.0000, 0.0000],\n",
       "         [0.3105, 0.2458, 0.4437, 0.0000, 0.0000, 0.0000, 0.0000, 0.0000],\n",
       "         [0.0730, 0.3275, 0.2227, 0.3769, 0.0000, 0.0000, 0.0000, 0.0000],\n",
       "         [0.1411, 0.5030, 0.0321, 0.2000, 0.1238, 0.0000, 0.0000, 0.0000],\n",
       "         [0.0613, 0.5558, 0.0628, 0.2372, 0.0036, 0.0792, 0.0000, 0.0000],\n",
       "         [0.1382, 0.0249, 0.0869, 0.3543, 0.3057, 0.0477, 0.0422, 0.0000],\n",
       "         [0.0325, 0.1243, 0.2556, 0.3944, 0.0374, 0.0160, 0.1121, 0.0277]],\n",
       "\n",
       "        [[1.0000, 0.0000, 0.0000, 0.0000, 0.0000, 0.0000, 0.0000, 0.0000],\n",
       "         [0.7713, 0.2287, 0.0000, 0.0000, 0.0000, 0.0000, 0.0000, 0.0000],\n",
       "         [0.3325, 0.5330, 0.1345, 0.0000, 0.0000, 0.0000, 0.0000, 0.0000],\n",
       "         [0.0565, 0.4092, 0.5132, 0.0210, 0.0000, 0.0000, 0.0000, 0.0000],\n",
       "         [0.5608, 0.0088, 0.0167, 0.0827, 0.3309, 0.0000, 0.0000, 0.0000],\n",
       "         [0.4997, 0.2308, 0.0601, 0.1110, 0.0079, 0.0907, 0.0000, 0.0000],\n",
       "         [0.0098, 0.1964, 0.1426, 0.3822, 0.0275, 0.0472, 0.1942, 0.0000],\n",
       "         [0.0443, 0.1419, 0.1491, 0.0331, 0.3913, 0.0647, 0.0413, 0.1343]],\n",
       "\n",
       "        [[1.0000, 0.0000, 0.0000, 0.0000, 0.0000, 0.0000, 0.0000, 0.0000],\n",
       "         [0.7558, 0.2442, 0.0000, 0.0000, 0.0000, 0.0000, 0.0000, 0.0000],\n",
       "         [0.9079, 0.0135, 0.0786, 0.0000, 0.0000, 0.0000, 0.0000, 0.0000],\n",
       "         [0.4163, 0.0873, 0.3233, 0.1730, 0.0000, 0.0000, 0.0000, 0.0000],\n",
       "         [0.0320, 0.0222, 0.1247, 0.6382, 0.1829, 0.0000, 0.0000, 0.0000],\n",
       "         [0.1075, 0.0722, 0.1816, 0.5429, 0.0394, 0.0563, 0.0000, 0.0000],\n",
       "         [0.2617, 0.0524, 0.2288, 0.0301, 0.1793, 0.1964, 0.0512, 0.0000],\n",
       "         [0.1406, 0.0203, 0.3022, 0.0705, 0.0257, 0.1814, 0.0141, 0.2453]]],\n",
       "       grad_fn=<SoftmaxBackward0>)"
      ]
     },
     "execution_count": 92,
     "metadata": {},
     "output_type": "execute_result"
    }
   ],
   "source": [
    "# now each token (T) has its own weight value, before it was constant for all\n",
    "wei"
   ]
  },
  {
   "attachments": {
    "21c7e6de-33e8-418e-9956-abc4257a9602.png": {
     "image/png": "[encoded data removed]"
    },
    "71352802-bb9a-48e5-8945-dea32a04e1a8.png": {
     "image/png": "[encoded data removed]"
    },
    "928bcc85-2f38-428b-bc90-dc376b82ca9a.png": {
     "image/png": "[encoded data removed]"
    }
   },
   "cell_type": "markdown",
   "id": "07d24e73-2db7-4a25-ae14-d3acfec37ab5",
   "metadata": {},
   "source": [
    "some notes:\n",
    "- _Attention_ is a **communication mechanism**.\n",
    "  - each token is a _node_ in a directed graph\n",
    " \n",
    "![image.png](attachment:21c7e6de-33e8-418e-9956-abc4257a9602.png)\n",
    "\n",
    "![image.png](attachment:928bcc85-2f38-428b-bc90-dc376b82ca9a.png)\n",
    "\n",
    "- the directed graph doesnt have positional info, there for we need to add in _positional embedding_ info, without it the attention mechanism doesnt take into account of positioning\n",
    "  - this is different from convolution network, like images, which contains positional info in the kernel\n",
    " \n",
    "- without the weight mask, the architecture is called an `encoder`.\n",
    "  - for sentiment anlysis, machine translation, we want all token/nodes to talk to each other, so we dont need the mask\n",
    "  - with the mask, the current setup, is called a `decoder`, we are learning to predict the next token\n",
    "  - attention mechanism doesnt care about the mask, it supports arbitarary connection between nodes\n",
    " \n",
    "- **self attention** vs **cross attention**\n",
    "  - _self attention_: all K,Q,V comes from the same input x, like our case\n",
    "  - _cross attention_: Q is from input x, K,V comes from another source of input y, like another language.  this is useful for machine translation\n",
    " \n",
    "1 final step is implment the scaling factor $\\sqrt{d_k}$ for the following:\n",
    "\n",
    "![image.png](attachment:71352802-bb9a-48e5-8945-dea32a04e1a8.png)\n",
    "\n",
    "the $\\sqrt{d_k}$ is a normalization factor to make sure the product $QK^T$ is normal distribution"
   ]
  },
  {
   "cell_type": "code",
   "execution_count": 93,
   "id": "9de42279-0dfc-4a58-8148-9537c35822eb",
   "metadata": {},
   "outputs": [],
   "source": [
    "# unit guassian attributes k,q\n",
    "k = torch.randn(B,T,head_size)\n",
    "q = torch.randn(B,T,head_size)\n",
    "wei = q @ k.transpose(-2, -1)"
   ]
  },
  {
   "cell_type": "code",
   "execution_count": 94,
   "id": "5469f7f0-8d21-413c-8a1d-8f1b619c1d20",
   "metadata": {},
   "outputs": [
    {
     "data": {
      "text/plain": [
       "tensor(0.9006)"
      ]
     },
     "execution_count": 94,
     "metadata": {},
     "output_type": "execute_result"
    }
   ],
   "source": [
    "k.var()"
   ]
  },
  {
   "cell_type": "code",
   "execution_count": 95,
   "id": "1146dc4f-1df1-4394-a616-b7a0a5306864",
   "metadata": {},
   "outputs": [
    {
     "data": {
      "text/plain": [
       "tensor(1.0037)"
      ]
     },
     "execution_count": 95,
     "metadata": {},
     "output_type": "execute_result"
    }
   ],
   "source": [
    "q.var()"
   ]
  },
  {
   "cell_type": "code",
   "execution_count": 96,
   "id": "33e2a0fd-b2ff-4a09-8ced-53c9a1667a9b",
   "metadata": {},
   "outputs": [
    {
     "data": {
      "text/plain": [
       "tensor(15.9317)"
      ]
     },
     "execution_count": 96,
     "metadata": {},
     "output_type": "execute_result"
    }
   ],
   "source": [
    "# the variance is close to head size, no longer unit variance\n",
    "wei.var()"
   ]
  },
  {
   "cell_type": "code",
   "execution_count": 97,
   "id": "987fbdbf-b931-4d79-a5e3-26d866496c81",
   "metadata": {},
   "outputs": [
    {
     "data": {
      "text/plain": [
       "tensor(0.9957)"
      ]
     },
     "execution_count": 97,
     "metadata": {},
     "output_type": "execute_result"
    }
   ],
   "source": [
    "# now multiply the scale factor\n",
    "wei = q @ k.transpose(-2, -1) * head_size**-0.5\n",
    "\n",
    "# variance is close to 1 again\n",
    "wei.var()"
   ]
  },
  {
   "cell_type": "code",
   "execution_count": 98,
   "id": "bf08c1da-78b5-4289-913e-adc166740122",
   "metadata": {},
   "outputs": [
    {
     "data": {
      "text/plain": [
       "tensor([0.1925, 0.1426, 0.2351, 0.1426, 0.2872])"
      ]
     },
     "execution_count": 98,
     "metadata": {},
     "output_type": "execute_result"
    }
   ],
   "source": [
    "# we want variance of wei to be uniform because softmax becomes 1 hot vector when values have extremes\n",
    "torch.softmax(torch.tensor([0.1, -0.2, 0.3, -0.2, 0.5]), dim=-1)"
   ]
  },
  {
   "cell_type": "code",
   "execution_count": 99,
   "id": "208dc110-81bf-40d0-866f-4451415f35dc",
   "metadata": {},
   "outputs": [
    {
     "data": {
      "text/plain": [
       "tensor([0.0376, 0.0034, 0.0376, 0.9215])"
      ]
     },
     "execution_count": 99,
     "metadata": {},
     "output_type": "execute_result"
    }
   ],
   "source": [
    "# slightly higher initial value will cause the result to be similar to 1 hot vector\n",
    "# then anything after we will be just aggregating the highest index value\n",
    "torch.softmax(torch.tensor([0.1, -0.2, 0.3 -0.2, 0.5])*8, dim=-1)"
   ]
  },
  {
   "cell_type": "code",
   "execution_count": null,
   "id": "470d17af-58d7-4e7e-b61a-36930589fc7f",
   "metadata": {},
   "outputs": [],
   "source": []
  }
 ],
 "metadata": {
  "kernelspec": {
   "display_name": "Python 3 (ipykernel)",
   "language": "python",
   "name": "python3"
  },
  "language_info": {
   "codemirror_mode": {
    "name": "ipython",
    "version": 3
   },
   "file_extension": ".py",
   "mimetype": "text/x-python",
   "name": "python",
   "nbconvert_exporter": "python",
   "pygments_lexer": "ipython3",
   "version": "3.9.19"
  }
 },
 "nbformat": 4,
 "nbformat_minor": 5
}
