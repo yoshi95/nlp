{
 "cells": [
  {
   "cell_type": "markdown",
   "id": "f03d5771-1b9b-46b5-9c0a-cb061581bee4",
   "metadata": {},
   "source": [
    "# PART 4 - Backpropagation"
   ]
  },
  {
   "cell_type": "code",
   "execution_count": 307,
   "id": "d6b009cd-3346-4f2f-b5f3-55fedfe1c699",
   "metadata": {},
   "outputs": [],
   "source": [
    "import torch\n",
    "import torch.nn.functional as F\n",
    "import matplotlib.pyplot as plt\n",
    "%matplotlib inline"
   ]
  },
  {
   "cell_type": "code",
   "execution_count": 308,
   "id": "561e8d58-6922-4423-9768-1c616d935bec",
   "metadata": {},
   "outputs": [
    {
     "name": "stdout",
     "output_type": "stream",
     "text": [
      "first 10 words:\n",
      "\n",
      "['emma', 'olivia', 'ava', 'isabella', 'sophia', 'charlotte', 'mia', 'amelia', 'harper', 'evelyn']\n",
      "\n",
      "len of words:  32033\n"
     ]
    }
   ],
   "source": [
    "# read in all names\n",
    "words = open('names.txt', 'r').read().splitlines()\n",
    "print('first 10 words:\\n')\n",
    "print(words[:10])\n",
    "print('\\nlen of words: ', len(words))"
   ]
  },
  {
   "cell_type": "code",
   "execution_count": 309,
   "id": "f48735c1-5a26-48d0-bed8-40ac8fb97cd3",
   "metadata": {},
   "outputs": [
    {
     "name": "stdout",
     "output_type": "stream",
     "text": [
      "{1: 'a', 2: 'b', 3: 'c', 4: 'd', 5: 'e', 6: 'f', 7: 'g', 8: 'h', 9: 'i', 10: 'j', 11: 'k', 12: 'l', 13: 'm', 14: 'n', 15: 'o', 16: 'p', 17: 'q', 18: 'r', 19: 's', 20: 't', 21: 'u', 22: 'v', 23: 'w', 24: 'x', 25: 'y', 26: 'z', 0: '.'}\n",
      "vocab size:  27\n"
     ]
    }
   ],
   "source": [
    "# build vocab\n",
    "chars = sorted(\n",
    "    list( set(''.join(words) ) )\n",
    ")\n",
    "stoi = {s:i+1 for i, s in enumerate(chars) }\n",
    "stoi['.'] = 0\n",
    "itos = {i:s for s, i in stoi.items() }\n",
    "print(itos)\n",
    "\n",
    "vocab_size = len(itos)\n",
    "print('vocab size: ', vocab_size)"
   ]
  },
  {
   "cell_type": "code",
   "execution_count": 310,
   "id": "e75a2750-18ae-41fb-be1c-044eac138bf2",
   "metadata": {},
   "outputs": [
    {
     "name": "stdout",
     "output_type": "stream",
     "text": [
      "torch.Size([182625, 3]) torch.Size([182625])\n",
      "torch.Size([22655, 3]) torch.Size([22655])\n",
      "torch.Size([22866, 3]) torch.Size([22866])\n"
     ]
    }
   ],
   "source": [
    "block_size = 3\n",
    "\n",
    "def build_dataset(words):\n",
    "    \n",
    "    X, Y = [], [] # inputs, targets\n",
    "    \n",
    "    for w in words:\n",
    "        # print(w)\n",
    "        context = [0] * block_size\n",
    "        for ch in w + '.':\n",
    "            ix = stoi[ch]\n",
    "            X.append(context) # context words\n",
    "            Y.append(ix)\n",
    "            # print(''.join(itos[i] for i in context), '--->', itos[ix])\n",
    "            context = context[1:] + [ix]\n",
    "    \n",
    "    X = torch.tensor(X)\n",
    "    Y = torch.tensor(Y)\n",
    "    print(X.shape, Y.shape)\n",
    "\n",
    "    return X, Y\n",
    "\n",
    "import random\n",
    "random.seed(42)\n",
    "random.shuffle(words)\n",
    "n1 = int(0.8 * len(words))\n",
    "n2 = int(0.9 * len(words))\n",
    "\n",
    "# train/dev/test split\n",
    "Xtr, Ytr = build_dataset(words[:n1])\n",
    "Xdev, Ydev = build_dataset(words[n1:n2])\n",
    "Xte, Yte = build_dataset(words[n2:])"
   ]
  },
  {
   "cell_type": "code",
   "execution_count": 311,
   "id": "f9f85120-1fe0-46e4-ba6a-e00ed25555cd",
   "metadata": {},
   "outputs": [],
   "source": [
    "# util function for comparing handcraft gradient vs autograd from torch\n",
    "def cmp(s, dt, t):\n",
    "    ex = torch.all(dt == t.grad).item()\n",
    "    app = torch.allclose(dt, t.grad)\n",
    "    maxdiff = (dt - t.grad).abs().max().item()\n",
    "    print(f'{s:15s} | exact: {str(ex):5s} | approx: {str(app):5s} | maxdiff: {maxdiff}')"
   ]
  },
  {
   "cell_type": "code",
   "execution_count": 6,
   "id": "cfaa69d8-9213-4b54-8b72-b62937fdb8ab",
   "metadata": {},
   "outputs": [
    {
     "name": "stdout",
     "output_type": "stream",
     "text": [
      "\n",
      "params count:  4137\n"
     ]
    }
   ],
   "source": [
    "n_embd = 10 # embedding dimension\n",
    "n_hidden = 64 # neuron size\n",
    "\n",
    "g = torch.Generator().manual_seed(2147483647) # reproducibility\n",
    "# embedding, 2d for each vocab, 27 total\n",
    "C = torch.randn((vocab_size, n_embd), generator=g)\n",
    "# layer 1, [context, hidden_size]=[3 word embedding, 100]=[6, 100]\n",
    "W1 = torch.randn((n_embd * block_size, n_hidden), generator=g) * (5/3)*((n_embd * block_size)**-0.5)\n",
    "b1 = torch.randn(n_hidden, generator=g) * 0.1 # keep bias, not needed but good to test gradient\n",
    "# layer 2, [100, 27], output softmax\n",
    "W2 = torch.randn((n_hidden, vocab_size), generator=g) * 0.1\n",
    "b2 = torch.randn(vocab_size, generator=g) * 0.1 # 0 init value in bias could mask errors in gradient\n",
    "\n",
    "bngain = torch.ones((1, n_hidden)) * 0.1 + 1.0\n",
    "bnbias = torch.zeros((1, n_hidden)) * 0.1\n",
    "\n",
    "bnmean_running = torch.zeros((1, n_hidden))\n",
    "bnstd_running = torch.ones((1, n_hidden))\n",
    "\n",
    "parameters = [C, W1, b1, W2, b2, bngain, bnbias]\n",
    "for p in parameters:\n",
    "    p.requires_grad = True\n",
    "\n",
    "print('\\nparams count: ', sum(p.nelement() for p in parameters) ) # total number of params in network"
   ]
  },
  {
   "cell_type": "code",
   "execution_count": 7,
   "id": "715f9604-d29f-4bea-8b11-9d8f2fc5f658",
   "metadata": {},
   "outputs": [],
   "source": [
    "batch_size = 32\n",
    "n = batch_size # shorter name for convenience\n",
    "\n",
    "# mini batch\n",
    "ix = torch.randint(0, Xtr.shape[0], (batch_size,), generator=g)\n",
    "Xb, Yb = Xtr[ix], Ytr[ix]"
   ]
  },
  {
   "cell_type": "code",
   "execution_count": 8,
   "id": "5cf7dde0-8e67-49d8-b2f7-a277809af0bf",
   "metadata": {},
   "outputs": [
    {
     "data": {
      "text/plain": [
       "tensor(3.3482, grad_fn=<NegBackward0>)"
      ]
     },
     "execution_count": 8,
     "metadata": {},
     "output_type": "execute_result"
    }
   ],
   "source": [
    "# expanded FOWARD PASS\n",
    "# the expansion steps in chunks helps manual gradient calculation\n",
    "emb = C[Xb] # embed the chars into vectors\n",
    "embcat = emb.view(emb.shape[0], -1) # concat to 1 embedding size of context\n",
    "\n",
    "# linear layer 1\n",
    "hprebn = embcat @ W1 + b1 # hidden layer pre-activation\n",
    "# batch norm layer, keep hidden state dist normal\n",
    "bnmeani = 1/n * hprebn.sum(0, keepdim=True) # batch avg of layer 1\n",
    "bndiff = hprebn - bnmeani\n",
    "bndiff2 = bndiff**2 # diff squared\n",
    "bnvar = 1/(n-1) * (bndiff2).sum(0, keepdim=True) # avg variance, note: Bessels'correction, use n-1, not n\n",
    "bnvar_inv = (bnvar + 1e-5)**-0.5 # sqr root + epsilon to avoid divide by 0\n",
    "bnraw = bndiff * bnvar_inv\n",
    "hpreact = bngain * bnraw + bnbias # normalize\n",
    "\n",
    "# non-linearity activation\n",
    "h = torch.tanh(hpreact) # hidden state\n",
    "\n",
    "# linear layer 2\n",
    "logits = h @ W2 + b2 # output layer\n",
    "# cross entropy loss, same as F.cross_entroy(logits, Yb)\n",
    "logit_maxes = logits.max(1, keepdim=True).values\n",
    "norm_logits = logits - logit_maxes # subtract max for numerical stability\n",
    "counts = norm_logits.exp() # logits=log counts, exponentiate to get count, (32x27)\n",
    "counts_sum = counts.sum(1, keepdim=True) # sum across rows, total counts for the batch sample (32x1)\n",
    "counts_sum_inv = counts_sum ** -1 # if use (1.0/count_sum) then cant get backprop to be exact (32x1)\n",
    "probs = counts * counts_sum_inv # we want element wise mult, not matrix mult to get (32x27)\n",
    "logprobs = probs.log()\n",
    "loss = -logprobs[range(n), Yb].mean()\n",
    "\n",
    "# pytorch backward pass\n",
    "for p in parameters:\n",
    "    p.grad = None\n",
    "\n",
    "for t in [logprobs, probs, counts, counts_sum, counts_sum_inv,\n",
    "          norm_logits, logit_maxes, logits, h, hpreact, bnraw,\n",
    "          bnvar_inv, bnvar, bndiff2, bndiff, hprebn, bnmeani,\n",
    "          embcat, emb]:\n",
    "    t.retain_grad()\n",
    "\n",
    "loss.backward()\n",
    "loss\n"
   ]
  },
  {
   "cell_type": "code",
   "execution_count": 9,
   "id": "9e427006-e316-4f1d-a7b0-47f7b1e3cac9",
   "metadata": {},
   "outputs": [
    {
     "name": "stdout",
     "output_type": "stream",
     "text": [
      "torch.Size([32, 27])\n"
     ]
    }
   ],
   "source": [
    "# excercise 1: back prop through the whole thing manually\n",
    "# all the variable defined in forward pass above 1 by 1\n",
    "\n",
    "# logprobs\n",
    "# logprobs shape [32, 27]\n",
    "print(logprobs.shape)\n",
    "\n",
    "# dlogprobs = dloss/dlogprobs = loss change due to all probs = same shape as logprobs"
   ]
  },
  {
   "cell_type": "code",
   "execution_count": 10,
   "id": "4a46b2b2-9769-4315-b404-88733d9a2a04",
   "metadata": {
    "scrolled": true
   },
   "outputs": [
    {
     "name": "stdout",
     "output_type": "stream",
     "text": [
      "labeles (indices):\n",
      " tensor([ 8, 14, 15, 22,  0, 19,  9, 14,  5,  1, 20,  3,  8, 14, 12,  0, 11,  0,\n",
      "        26,  9, 25,  0,  1,  1,  7, 18,  9,  3,  5,  9,  0, 18]) \n",
      "\n",
      "logprobs:\n",
      " tensor([[-2.6153, -2.4396, -4.0066, -2.9607, -3.9532, -2.4704, -3.7684, -3.3390,\n",
      "         -4.0580, -3.4449, -3.3145, -3.2976, -3.2953, -3.5589, -3.3670, -4.3238,\n",
      "         -4.7673, -3.9655, -4.2126, -2.9093, -2.9708, -3.8661, -3.7024, -2.6296,\n",
      "         -2.8401, -3.6538, -3.8384],\n",
      "        [-2.9221, -2.8495, -2.3383, -2.9125, -3.3366, -3.4310, -3.9924, -3.0359,\n",
      "         -3.9580, -3.7286, -2.9552, -3.0985, -3.0474, -3.5557, -3.0728, -3.2784,\n",
      "         -3.6525, -4.1385, -3.8847, -3.2946, -4.0144, -3.8155, -4.2485, -2.7364,\n",
      "         -3.7662, -3.3131, -3.7084],\n",
      "        [-3.9722, -3.7847, -4.2938, -4.4023, -3.8066, -3.1617, -2.8325, -2.7736,\n",
      "         -2.7888, -3.4810, -3.9044, -3.3975, -3.1220, -3.0080, -3.7930, -3.6750,\n",
      "         -4.3177, -3.3865, -3.5933, -2.1774, -2.6969, -3.2878, -3.1831, -3.2233,\n",
      "         -3.2701, -3.9411, -3.5760],\n",
      "        [-3.4586, -3.6900, -3.1528, -2.8812, -2.7921, -3.5659, -3.0457, -3.2006,\n",
      "         -3.0194, -4.0178, -3.2672, -3.7093, -3.4050, -3.1610, -2.7828, -2.7137,\n",
      "         -3.6929, -3.6994, -4.1183, -2.9949, -4.0569, -3.7733, -3.2631, -3.8793,\n",
      "         -3.6464, -3.0500, -3.0989],\n",
      "        [-4.1653, -4.1368, -3.7396, -3.7693, -4.0774, -3.1906, -3.3162, -4.0802,\n",
      "         -2.8917, -3.2581, -3.4086, -4.2249, -3.2622, -3.7623, -3.0687, -1.7315,\n",
      "         -3.9906, -2.9661, -3.0184, -2.7743, -3.2088, -4.2124, -3.8465, -4.2367,\n",
      "         -3.1057, -3.8011, -3.1177],\n",
      "        [-3.3400, -3.3528, -2.8934, -2.6933, -2.6983, -3.6532, -3.4935, -2.9022,\n",
      "         -3.6498, -4.2013, -3.1024, -4.0684, -3.6150, -3.1263, -2.7064, -3.0149,\n",
      "         -4.1074, -3.9069, -4.6539, -3.5406, -3.4960, -3.5197, -3.1468, -4.0663,\n",
      "         -4.0980, -2.4939, -3.1227],\n",
      "        [-2.8894, -4.5469, -2.7002, -4.2473, -3.5190, -3.9310, -2.7294, -2.9048,\n",
      "         -2.9916, -3.1162, -4.0579, -3.3615, -3.6266, -4.0391, -4.1852, -2.6461,\n",
      "         -2.4914, -3.1314, -4.6475, -3.4134, -3.6464, -2.9770, -3.0896, -3.8717,\n",
      "         -3.2234, -3.7332, -3.5037],\n",
      "        [-3.1397, -3.4680, -3.7365, -2.1020, -3.6191, -2.9386, -3.5140, -2.4777,\n",
      "         -3.2683, -4.7931, -3.5994, -4.2486, -3.9596, -2.8824, -4.0795, -4.2543,\n",
      "         -4.3108, -4.3083, -4.2234, -2.4052, -3.3707, -2.9906, -3.6701, -3.3700,\n",
      "         -3.7610, -2.8663, -3.3404],\n",
      "        [-3.0437, -3.5268, -4.0665, -3.2888, -4.6022, -3.2095, -2.8798, -2.4165,\n",
      "         -3.5842, -3.9227, -3.5406, -3.4601, -3.2603, -3.7474, -4.4791, -3.9758,\n",
      "         -3.9358, -3.2468, -3.8359, -2.3906, -3.3269, -2.4692, -3.1607, -3.0788,\n",
      "         -3.1344, -4.2067, -3.3899],\n",
      "        [-3.6245, -4.3294, -3.5559, -4.0465, -3.4589, -3.2918, -3.4001, -3.5175,\n",
      "         -2.3480, -2.7794, -4.3472, -3.3329, -3.2464, -3.1581, -3.7506, -3.5890,\n",
      "         -2.7394, -3.0638, -3.1447, -3.7134, -2.6596, -3.7077, -2.7357, -3.9507,\n",
      "         -3.4576, -3.3065, -4.0136],\n",
      "        [-4.2317, -4.9923, -3.2683, -3.1551, -3.4359, -3.3501, -4.0173, -5.1586,\n",
      "         -3.2931, -3.0787, -3.7029, -4.0267, -2.8367, -3.5357, -3.2202, -1.8833,\n",
      "         -2.9596, -2.8488, -2.5216, -3.3594, -3.1081, -4.6197, -4.4716, -3.7877,\n",
      "         -3.2823, -3.5963, -3.7686],\n",
      "        [-3.8279, -3.5232, -3.8435, -1.6111, -4.5076, -2.8583, -2.6581, -3.0990,\n",
      "         -3.2167, -3.5015, -4.2483, -3.9784, -3.8710, -3.6431, -5.0680, -5.0162,\n",
      "         -3.9006, -3.3205, -4.1781, -2.8662, -2.9498, -3.2659, -4.0160, -3.3195,\n",
      "         -3.0616, -3.1008, -4.1490],\n",
      "        [-4.0375, -4.3805, -3.0230, -4.2870, -3.6153, -4.1723, -2.4790, -3.2542,\n",
      "         -2.8121, -2.9648, -4.0954, -3.2790, -3.2434, -3.5395, -4.2454, -3.1778,\n",
      "         -2.5864, -3.0815, -3.1943, -3.7785, -3.0520, -3.2479, -2.3290, -4.6079,\n",
      "         -3.8497, -3.6873, -3.5830],\n",
      "        [-3.8394, -3.5996, -2.8968, -3.9277, -4.1479, -2.5945, -3.5780, -4.2586,\n",
      "         -3.5770, -3.0424, -3.5342, -3.3935, -2.6710, -3.3361, -2.9719, -3.0624,\n",
      "         -3.5568, -3.3860, -2.4685, -4.3126, -2.7636, -4.2043, -4.1164, -3.3275,\n",
      "         -3.3250, -3.2571, -3.2865],\n",
      "        [-3.0928, -3.6968, -3.5820, -2.9135, -4.0878, -3.3766, -3.4702, -2.8016,\n",
      "         -2.9284, -2.9935, -3.4562, -3.1344, -2.9798, -3.2342, -3.6157, -3.7550,\n",
      "         -3.8710, -2.8882, -3.5329, -2.9916, -2.9318, -2.9869, -3.6677, -3.3335,\n",
      "         -3.8147, -3.9003, -3.7888],\n",
      "        [-3.1644, -2.8126, -3.4317, -4.0569, -3.8999, -2.4552, -3.5515, -3.7733,\n",
      "         -3.5935, -2.9343, -3.3665, -3.0491, -2.7861, -4.1351, -3.5573, -4.1091,\n",
      "         -3.2037, -3.9835, -2.8324, -4.0704, -3.2776, -3.6813, -3.4209, -2.6853,\n",
      "         -2.8565, -3.5625, -3.8944],\n",
      "        [-3.5966, -3.7449, -2.4479, -3.0988, -2.7645, -2.9666, -4.1173, -3.6474,\n",
      "         -3.9653, -3.9839, -2.9749, -3.8541, -3.2307, -2.8807, -2.6702, -2.7434,\n",
      "         -4.2342, -4.0794, -3.7753, -3.1098, -3.6401, -4.1319, -4.7579, -3.0639,\n",
      "         -3.7714, -3.1090, -2.8596],\n",
      "        [-3.0233, -2.5311, -3.0094, -2.9242, -3.2220, -3.4066, -3.8076, -2.5661,\n",
      "         -3.6802, -4.1106, -2.6365, -4.3024, -3.7307, -3.9905, -3.1793, -3.5599,\n",
      "         -4.2588, -3.5254, -4.1142, -2.9226, -3.8886, -3.0479, -3.6356, -3.9774,\n",
      "         -3.7422, -3.1670, -2.7361],\n",
      "        [-4.0375, -4.3805, -3.0230, -4.2870, -3.6153, -4.1723, -2.4790, -3.2542,\n",
      "         -2.8121, -2.9648, -4.0954, -3.2790, -3.2434, -3.5395, -4.2454, -3.1778,\n",
      "         -2.5864, -3.0815, -3.1943, -3.7785, -3.0520, -3.2479, -2.3290, -4.6079,\n",
      "         -3.8497, -3.6873, -3.5830],\n",
      "        [-3.7599, -3.8569, -3.3867, -4.1412, -3.3124, -3.4137, -2.6593, -2.9647,\n",
      "         -3.3697, -3.3694, -3.5024, -3.0957, -2.7967, -2.9021, -4.3036, -3.7563,\n",
      "         -3.5692, -3.9615, -3.5158, -2.4128, -2.9951, -3.4239, -3.1897, -3.0123,\n",
      "         -3.4649, -3.8140, -3.6832],\n",
      "        [-2.9024, -4.3334, -4.0995, -3.2169, -3.4900, -3.3006, -3.5565, -3.2553,\n",
      "         -2.9176, -3.8602, -2.6779, -3.3212, -2.8031, -3.8551, -3.1305, -2.5758,\n",
      "         -4.1257, -3.8556, -3.2935, -2.9350, -3.9662, -3.5157, -3.7456, -3.7006,\n",
      "         -3.2914, -2.8526, -3.2222],\n",
      "        [-2.9453, -2.6139, -2.9423, -3.0337, -3.6974, -2.7900, -3.5017, -3.1339,\n",
      "         -3.7643, -4.1291, -2.9489, -3.6200, -3.7380, -3.4627, -3.1937, -3.1108,\n",
      "         -3.9747, -3.3193, -3.9541, -2.3774, -4.3915, -3.4402, -4.2809, -3.5018,\n",
      "         -3.3688, -3.5362, -3.3440],\n",
      "        [-4.0375, -4.3805, -3.0230, -4.2870, -3.6153, -4.1723, -2.4790, -3.2542,\n",
      "         -2.8121, -2.9648, -4.0954, -3.2790, -3.2434, -3.5395, -4.2454, -3.1778,\n",
      "         -2.5864, -3.0815, -3.1943, -3.7785, -3.0520, -3.2479, -2.3290, -4.6079,\n",
      "         -3.8497, -3.6873, -3.5830],\n",
      "        [-3.0537, -4.0618, -3.7106, -4.4573, -2.8276, -3.6659, -2.7130, -3.4849,\n",
      "         -3.7261, -3.1734, -3.4396, -3.2573, -3.3761, -3.4125, -3.2643, -3.0568,\n",
      "         -2.5733, -3.8332, -3.3125, -4.1898, -4.0642, -3.8584, -2.1325, -4.0254,\n",
      "         -2.8486, -3.4848, -4.1274],\n",
      "        [-3.4261, -2.5065, -3.8327, -3.0552, -3.6467, -2.7358, -3.7813, -3.5177,\n",
      "         -3.6483, -3.5845, -2.2766, -4.1252, -3.5355, -4.4792, -3.2658, -4.0266,\n",
      "         -4.1095, -4.2421, -4.4202, -3.6139, -4.3717, -3.8055, -4.5445, -1.8126,\n",
      "         -2.9907, -3.6979, -2.9724],\n",
      "        [-2.7135, -3.6067, -4.3058, -3.9891, -3.4646, -2.4747, -3.2353, -3.4548,\n",
      "         -3.6091, -3.3422, -3.4867, -2.9350, -2.8988, -3.3942, -3.9069, -4.3700,\n",
      "         -3.4295, -3.8747, -2.8368, -4.3619, -3.6743, -3.8817, -2.6495, -2.8865,\n",
      "         -2.6492, -3.1572, -4.5731],\n",
      "        [-3.1771, -3.7345, -3.9325, -4.6547, -3.0527, -3.8692, -2.4152, -3.2290,\n",
      "         -3.5646, -2.9712, -4.0888, -3.0416, -2.8191, -3.4918, -3.6859, -4.0587,\n",
      "         -2.8342, -3.6832, -3.5050, -3.3991, -3.8624, -3.3781, -1.9987, -3.9979,\n",
      "         -3.2194, -3.6363, -4.7052],\n",
      "        [-3.6644, -3.5946, -3.0056, -3.9312, -3.3576, -3.7945, -3.2643, -3.5525,\n",
      "         -3.2416, -2.9248, -3.9073, -3.5602, -3.2662, -3.3583, -3.1097, -2.7377,\n",
      "         -3.0604, -3.0487, -2.9974, -4.1470, -2.3037, -4.2206, -3.0837, -4.4919,\n",
      "         -4.0943, -3.3633, -3.0549],\n",
      "        [-2.7767, -3.2309, -4.1825, -3.9291, -3.4111, -2.7585, -3.1348, -3.2801,\n",
      "         -4.6437, -3.6630, -3.1490, -3.5354, -3.7027, -3.8950, -3.6139, -3.4439,\n",
      "         -2.5701, -3.6935, -2.7328, -3.6898, -3.4056, -3.4741, -3.1385, -2.7866,\n",
      "         -2.4789, -4.4729, -3.9758],\n",
      "        [-3.8850, -4.1342, -3.4507, -3.4476, -2.9537, -3.8261, -2.6553, -3.4380,\n",
      "         -2.6159, -3.4454, -3.5301, -3.3532, -3.4990, -3.2951, -3.4080, -2.7048,\n",
      "         -3.4987, -3.6298, -3.2871, -3.5601, -3.1595, -3.6371, -2.8575, -4.3186,\n",
      "         -3.4282, -2.9063, -3.2754],\n",
      "        [-3.3162, -2.9720, -3.7294, -2.7321, -3.1078, -2.9838, -3.3090, -3.4696,\n",
      "         -3.6438, -3.9808, -3.3153, -3.8523, -4.1025, -3.6529, -4.5366, -3.4251,\n",
      "         -3.3932, -3.5576, -3.1335, -2.8980, -2.8843, -3.6028, -3.8920, -2.6003,\n",
      "         -2.4477, -3.8836, -3.6234],\n",
      "        [-3.0720, -3.7913, -2.7013, -4.0373, -2.5587, -3.5756, -4.1382, -3.7421,\n",
      "         -4.1970, -2.8742, -3.5949, -3.4964, -3.4230, -2.4888, -3.1944, -3.2695,\n",
      "         -2.9726, -3.1618, -3.1384, -4.3680, -2.8891, -4.6429, -2.7726, -3.7896,\n",
      "         -3.9548, -3.2261, -3.9857]], grad_fn=<LogBackward0>) \n",
      "\n",
      "prob for each char in batch:\n",
      " tensor([-4.0580, -3.0728, -3.6750, -3.2631, -4.1653, -3.5406, -3.1162, -4.0795,\n",
      "        -3.2095, -4.3294, -3.1081, -1.6111, -2.8121, -2.9719, -2.9798, -3.1644,\n",
      "        -3.8541, -3.0233, -3.5830, -3.3694, -2.8526, -2.9453, -4.3805, -4.0618,\n",
      "        -3.5177, -2.8368, -2.9712, -3.9312, -2.7585, -3.4454, -3.3162, -3.1384],\n",
      "       grad_fn=<IndexBackward0>) \n",
      "\n"
     ]
    }
   ],
   "source": [
    "print('labeles (indices):\\n', Yb, '\\n') # labels\n",
    "print('logprobs:\\n', logprobs, '\\n') # [batch_size, vocabsize], prob for each word in batch\n",
    "print('prob for each char in batch:\\n', logprobs[range(n), Yb], '\\n')"
   ]
  },
  {
   "cell_type": "code",
   "execution_count": 11,
   "id": "4ade61a5-9c43-4ea4-bc15-3dd8efbd983e",
   "metadata": {},
   "outputs": [
    {
     "name": "stdout",
     "output_type": "stream",
     "text": [
      "logprobs        | exact: True  | approx: True  | maxdiff: 0.0\n"
     ]
    }
   ],
   "source": [
    "# loss = -(a + b + c) / 3 (for 3 numbers, or 32 in our batch)\n",
    "# = -a/3 + -b/3 + -c/3\n",
    "\n",
    "# dloss/da = -1/3, or -1/n, where n=batch size\n",
    "# dloss/d(other numbers) = 0, since the others dont participate in loss with respect to 'a'\n",
    "\n",
    "# init dlogprobs to 0\n",
    "dlogprobs = torch.zeros_like(logprobs)\n",
    "# for each label position, set derivative\n",
    "dlogprobs[range(n), Yb] = -1.0/n\n",
    "\n",
    "# check with autograd\n",
    "cmp('logprobs', dlogprobs, logprobs)"
   ]
  },
  {
   "cell_type": "code",
   "execution_count": 31,
   "id": "f69f8b0a-a441-453f-b1c3-094c5e41ad4d",
   "metadata": {},
   "outputs": [
    {
     "name": "stdout",
     "output_type": "stream",
     "text": [
      "probs           | exact: True  | approx: True  | maxdiff: 0.0\n"
     ]
    }
   ],
   "source": [
    "# probs = [log(a), log(b), log(c)\n",
    "# dloss/dprobs = dloss/dlogprobs * dlogprobs/dprobs = dlogprobs * [1/a, 0, 0]\n",
    "dprobs = dlogprobs * 1.0/probs\n",
    "\n",
    "cmp('probs', dprobs, probs)"
   ]
  },
  {
   "cell_type": "code",
   "execution_count": 32,
   "id": "a36e838f-cfdb-4c08-8314-98c0ce109485",
   "metadata": {},
   "outputs": [
    {
     "name": "stdout",
     "output_type": "stream",
     "text": [
      "count_sum_inv   | exact: True  | approx: True  | maxdiff: 0.0\n"
     ]
    }
   ],
   "source": [
    "# probs = counts * counts_sum_inv\n",
    "# probs = a * b\n",
    "# dprobs/db = a = counts\n",
    "# dloss/dcounts_sum_inv = dloss/dprobs * dprobs/dcounts_sum_inv \n",
    "\n",
    "# count_sum_inv.shape = (32, 1)\n",
    "# counts.shape = (32, 7)\n",
    "\n",
    "'''\n",
    "couns * counst_sum_inv\n",
    "- `count_sum_inv` broadcast to (32, 27), which means the var is dup 27 times\n",
    "- the gradient is element wise mult\n",
    "\n",
    "so we need to backprob both steps: dup + mult\n",
    "\n",
    "c = a * b\n",
    "a[3x3] * b[3x1] ->\n",
    "\n",
    "a11*b1 a12*b1 a13*b1\n",
    "a21*b2 a22*b2 a23*b2\n",
    "a31*b3 a32*b3 a33*b3\n",
    "\n",
    "dc/db1 ->\n",
    "a11 a12 a13\n",
    "0   0   0\n",
    "0   0   0\n",
    "\n",
    "dc/db2 ->\n",
    "0   0   0\n",
    "a21 a22 a23\n",
    "0   0   0\n",
    "\n",
    "dc/db3 ->\n",
    "0   0   0\n",
    "0   0   0\n",
    "a31 a32 a33\n",
    "\n",
    "dc/db ->\n",
    "a11 a12 a13\n",
    "a21 a22 a23\n",
    "a31 a32 a33\n",
    "-> a\n",
    "\n",
    "dc/db = a # for all uses of b (3 uses), each col represents 1 use\n",
    "\n",
    "so we should do row sum for the total gradient of b across all uses\n",
    "'''\n",
    "dcounts_sum_inv = (counts * dprobs).sum(1, keepdim=True)\n",
    "cmp('count_sum_inv', dcounts_sum_inv, counts_sum_inv)"
   ]
  },
  {
   "cell_type": "code",
   "execution_count": 27,
   "id": "adf413ad-8037-4040-b193-a15cb7b49977",
   "metadata": {},
   "outputs": [],
   "source": [
    "# probs = counts * counts_sum_inv\n",
    "# probs = a * b\n",
    "# dprobs/da = b = counts_sum_inv\n",
    "# dloss/dcounts = dloss/dprobs * dprobs/dcounts\n",
    "\n",
    "# count_sum_inv.shape = (32, 1)\n",
    "# counts.shape = (32, 7)\n",
    "# no broadcast for counts\n",
    "\n",
    "# but `counts` var is used multiple times\n",
    "dcounts = counts_sum_inv * dprobs"
   ]
  },
  {
   "cell_type": "code",
   "execution_count": 35,
   "id": "6c3f5992-944a-438b-851a-5781ca078281",
   "metadata": {},
   "outputs": [
    {
     "name": "stdout",
     "output_type": "stream",
     "text": [
      "counts_sum      | exact: True  | approx: True  | maxdiff: 0.0\n"
     ]
    }
   ],
   "source": [
    "# counts_sum_inv = counts_sum**-1\n",
    "# a = b**-1\n",
    "# da/db = -b**-2\n",
    "dcounts_sum = (-counts_sum**-2) * dcounts_sum_inv\n",
    "cmp('counts_sum', dcounts_sum, counts_sum)"
   ]
  },
  {
   "cell_type": "code",
   "execution_count": 37,
   "id": "50f60f7b-e4be-4804-bdcd-1c271214097d",
   "metadata": {},
   "outputs": [
    {
     "name": "stdout",
     "output_type": "stream",
     "text": [
      "counts          | exact: True  | approx: True  | maxdiff: 0.0\n"
     ]
    }
   ],
   "source": [
    "# counts_sum = counts.sum(1, keepdim=True)\n",
    "# counts = (32, 27)\n",
    "'''\n",
    "c[3x3] ->\n",
    "c11 c12 c13\n",
    "c21 c22 c23\n",
    "c31 c32 c33\n",
    "\n",
    "sum(c) = [3x1] ->\n",
    "c11+c12+c13\n",
    "c21+c22+c23\n",
    "c31+c32+c33\n",
    "\n",
    "dsum(c)/dc11 = [3x1] ->\n",
    "1\n",
    "0\n",
    "0\n",
    "\n",
    "dsum(c)/dc12 = [3x1] ->\n",
    "1\n",
    "0\n",
    "0\n",
    "\n",
    "dsum(c)/dc = 1 of [3x3]\n",
    "\n",
    "dloss/dc = dloss/dsum(c) * dsum(c)/dc\n",
    "'''\n",
    "# add `dcounts` contribution from above\n",
    "# 1.0 is broadcasted to match shape\n",
    "dcounts += 1.0 * dcounts_sum\n",
    "cmp('counts', dcounts, counts)"
   ]
  },
  {
   "cell_type": "code",
   "execution_count": 67,
   "id": "df703203-4d0c-449e-bf2b-48ca6064e7a8",
   "metadata": {},
   "outputs": [
    {
     "name": "stdout",
     "output_type": "stream",
     "text": [
      "norm_logits     | exact: True  | approx: True  | maxdiff: 0.0\n"
     ]
    }
   ],
   "source": [
    "'''\n",
    "counts = norm_logits.exp()\n",
    "\n",
    "dcounts/dnorm_logits = norm_logits.exp()\n",
    "\n",
    "dloss/dnorm_logits = dloss/dcounts * dcounts/dnorm_logits\n",
    "'''\n",
    "dnorm_logits = counts * dcounts\n",
    "cmp('norm_logits', dnorm_logits, norm_logits)"
   ]
  },
  {
   "cell_type": "code",
   "execution_count": 99,
   "id": "38985c8b-4888-4272-a25f-b070b636045b",
   "metadata": {},
   "outputs": [
    {
     "name": "stdout",
     "output_type": "stream",
     "text": [
      "logit_maxes     | exact: True  | approx: True  | maxdiff: 0.0\n"
     ]
    }
   ],
   "source": [
    "'''\n",
    "norm_logits = logits - logit_maxes\n",
    "\n",
    "dloss/dlogit_maxes = dloss/dnorm_logits * dnorm_logits/dlogit_maxes\n",
    "\n",
    "c[3x3] = a[3x3] - b[3x1]\n",
    "c11 c12 c13   a11 a12 a13   b1   a11-b1 a12-b1 a13-b1\n",
    "c21 c22 c23 = a21 a22 a23 - b2 = a21-b2 a22-b2 a23-b2\n",
    "c31 c32 c33   a31 a32 a33   b3   a31-b3 a32-b3 a33-b3\n",
    "\n",
    "dc/db1 = \n",
    "-1 -1 -1\n",
    " 0  0  0\n",
    " 0  0  0\n",
    "\n",
    "dc/db2 = \n",
    " 0  0  0\n",
    "-1 -1 -1\n",
    " 0  0  0\n",
    "\n",
    "...\n",
    "dc/db = -1\n",
    " \n",
    "note: need to sum because b (logit_maxes) is broadcasted\n",
    "'''\n",
    "dlogit_maxes = (-1.0 * dnorm_logits).sum(1, keepdim=True)\n",
    "cmp('logit_maxes', dlogit_maxes, logit_maxes)"
   ]
  },
  {
   "cell_type": "code",
   "execution_count": 105,
   "id": "03ca66bd-aa83-4544-9142-df10039c7556",
   "metadata": {},
   "outputs": [],
   "source": [
    "'''\n",
    "norm_logits = logits - logit_maxes\n",
    "\n",
    "dloss/dlogits = dloss/dnorm_logits * dnorm_logits/dlogits\n",
    "\n",
    "c[3x3] = a[3x3] - b[3x1]\n",
    "c11 c12 c13   a11 a12 a13   b1   a11-b1 a12-b1 a13-b1\n",
    "c21 c22 c23 = a21 a22 a23 - b2 = a21-b2 a22-b2 a23-b2\n",
    "c31 c32 c33   a31 a32 a33   b3   a31-b3 a32-b3 a33-b3\n",
    "\n",
    "dc/da = 1\n",
    "\n",
    "note: used in multiple places, wait for another branch\n",
    "'''\n",
    "dlogits = 1.0 * dnorm_logits"
   ]
  },
  {
   "cell_type": "code",
   "execution_count": 106,
   "id": "c01c90de-79b8-4775-8331-887b4f6d02ef",
   "metadata": {},
   "outputs": [
    {
     "name": "stdout",
     "output_type": "stream",
     "text": [
      "logits          | exact: True  | approx: True  | maxdiff: 0.0\n"
     ]
    }
   ],
   "source": [
    "'''\n",
    "logit_maxes = logits.max(1, keepdim=True).values\n",
    "\n",
    "b[3x1] = max(a [3x3]) \n",
    "b1       a11 a12 a13\n",
    "b2 = max a21 a22 a23\n",
    "b3       a31 a32 a33\n",
    "\n",
    "db/dmax(a) = 1 at the indices of max [3x3]\n",
    "'''\n",
    "ddlogits = torch.zeros_like(logits)\n",
    "# for each label position, set derivative\n",
    "ddlogits[range(n), logits.max(1).indices] = 1\n",
    "dlogits += ddlogits * dlogit_maxes\n",
    "cmp('logits', dlogits, logits)"
   ]
  },
  {
   "cell_type": "code",
   "execution_count": 100,
   "id": "f88e8141-b0aa-4681-bd29-ca1f3b6178a1",
   "metadata": {},
   "outputs": [
    {
     "data": {
      "text/plain": [
       "(torch.Size([32, 27]), torch.Size([32, 1]))"
      ]
     },
     "execution_count": 100,
     "metadata": {},
     "output_type": "execute_result"
    },
    {
     "data": {
      "image/png": "[encoded data removed]",
      "text/plain": [
       "<Figure size 640x480 with 1 Axes>"
      ]
     },
     "metadata": {},
     "output_type": "display_data"
    }
   ],
   "source": [
    "ddlogits = torch.zeros_like(logits)\n",
    "# for each label position, set derivative\n",
    "ddlogits[range(n), logits.max(1).indices] = 1\n",
    "plt.imshow(ddlogits)\n",
    "ddlogits.shape, dlogit_maxes.shape"
   ]
  },
  {
   "cell_type": "markdown",
   "id": "dcad8562-b61b-4e82-bf18-b70d00588054",
   "metadata": {},
   "source": [
    "logits = h @ W2 + b2\n",
    "\n",
    "\n",
    "\n",
    "d[2x2] = a[2x2] @ b[2x2] + c[2x1]\n",
    "\n",
    "\n",
    "\n",
    "$\\displaystyle  \\begin{array}{{>{\\displaystyle}l}}\n",
    "\\begin{bmatrix}\n",
    "d_{11} & d_{12}\\\\\n",
    "d_{21} & d_{22}\n",
    "\\end{bmatrix} =\\begin{bmatrix}\n",
    "a_{11} & a_{12}\\\\\n",
    "a_{21} & a_{22}\n",
    "\\end{bmatrix} \\times \\begin{bmatrix}\n",
    "b_{11} & b_{12}\\\\\n",
    "b_{21} & b_{22}\n",
    "\\end{bmatrix} +\\begin{bmatrix}\n",
    "c_{1}\\\\\n",
    "c_{2}\n",
    "\\end{bmatrix}\\\\\n",
    "=\\begin{bmatrix}\n",
    "a_{11} b_{11} +a_{12} b_{21} +c_{1} & a_{11} b_{12} +a_{12} b_{22} +c_{1}\\\\\n",
    "a_{21} b_{11} +a_{22} b_{21} +c_{2} & a_{21} b_{12} +a_{22} b_{22} +c_{2}\n",
    "\\end{bmatrix}\n",
    "\\end{array}$\n",
    "\n",
    "\n",
    "\n",
    "so\n",
    "\n",
    "\n",
    "\n",
    "$\\displaystyle  \\begin{array}{{>{\\displaystyle}l}}\n",
    "d_{11} =a_{11} b_{11} +a_{12} b_{21} +c_{1}\\\\\n",
    "d_{12} =a_{11} b_{12} +a_{12} b_{22} +c_{1}\\\\\n",
    "d_{21} =a_{21} b_{11} +a_{22} b_{21} +c_{2}\\\\\n",
    "d_{22} =a_{21} b_{12} +a_{22} b_{22} +c_{2}\n",
    "\\end{array}$\n",
    "\n",
    "\n",
    "\n",
    "loss $\\displaystyle L$ with respect to $\\displaystyle a_{11}$\n",
    "\n",
    "$\\displaystyle \\frac{\\partial L}{\\partial a_{11}} =\\frac{\\partial L}{\\partial d} \\cdotp \\frac{\\partial d}{\\partial a_{11}}$\n",
    "\n",
    "\n",
    "\n",
    "only $\\displaystyle d_{11}$ and $\\displaystyle d_{12}$ has $\\displaystyle a_{11}$, so\n",
    "\n",
    "$\\displaystyle  \\begin{array}{{>{\\displaystyle}l}}\n",
    "\\frac{\\partial L}{\\partial a_{11}} =\\frac{\\partial L}{\\partial d_{11}} \\cdotp \\frac{\\partial d_{11}}{\\partial a_{11}} +\\frac{\\partial L}{\\partial d_{12}} \\cdotp \\frac{\\partial d_{12}}{\\partial a_{11}} =\\frac{\\partial L}{\\partial d_{11}} b_{11} +\\frac{\\partial L}{\\partial d_{12}} b_{12}\\\\\n",
    "\\\\\n",
    "\\frac{\\partial L}{\\partial a_{12}} =\\frac{\\partial L}{\\partial d_{11}} \\cdotp \\frac{\\partial d_{11}}{\\partial a_{12}} +\\frac{\\partial L}{\\partial d_{12}} \\cdotp \\frac{\\partial d_{12}}{\\partial a_{12}} =\\frac{\\partial L}{\\partial d_{11}} b_{21} +\\frac{\\partial L}{\\partial d_{12}} b_{22}\\\\\n",
    "\\\\\n",
    "\\frac{\\partial L}{\\partial a_{21}} =\\frac{\\partial L}{\\partial d_{21}} \\cdotp \\frac{\\partial d_{21}}{\\partial a_{21}} +\\frac{\\partial L}{\\partial d_{22}} \\cdotp \\frac{\\partial d_{22}}{\\partial a_{21}} =\\frac{\\partial L}{\\partial d_{21}} b_{11} +\\frac{\\partial L}{\\partial d_{22}} b_{12}\\\\\n",
    "\\\\\n",
    "\\frac{\\partial L}{\\partial a_{22}} =\\frac{\\partial L}{\\partial d_{21}} \\cdotp \\frac{\\partial d_{21}}{\\partial a_{22}} +\\frac{\\partial L}{\\partial d_{22}} \\cdotp \\frac{\\partial d_{22}}{\\partial a_{22}} =\\frac{\\partial L}{\\partial d_{21}} b_{21} +\\frac{\\partial L}{\\partial d_{22}} b_{22}\n",
    "\\end{array}$\n",
    "\n",
    "\n",
    "\n",
    "combine terms\n",
    "\n",
    "$\n",
    "\\\\\n",
    "\\boxed{\\displaystyle \\frac{\\partial L}{\\partial a} =\\begin{bmatrix}\n",
    "\\frac{\\partial L}{\\partial d_{11}} & \\frac{\\partial L}{\\partial d_{12}}\\\\\n",
    "\\frac{\\partial L}{\\partial d_{21}} & \\frac{\\partial L}{\\partial d_{22}}\n",
    "\\end{bmatrix} \\times \\begin{bmatrix}\n",
    "b_{11} & b_{21}\\\\\n",
    "b_{12} & b_{22}\n",
    "\\end{bmatrix} =\\frac{\\partial L}{\\partial d} \\cdotp b^{T}}\n",
    "\\\\\n",
    "$\n",
    "\n",
    "\n",
    "\n",
    "$\\displaystyle  \\begin{array}{{>{\\displaystyle}l}}\n",
    "\\frac{\\partial L}{\\partial b_{11}} =\\frac{\\partial L}{\\partial d} \\cdotp \\frac{\\partial d}{\\partial b_{11}} =\\frac{\\partial L}{\\partial d_{11}} \\cdotp \\frac{\\partial d_{11}}{\\partial b_{11}} +\\frac{\\partial L}{\\partial d_{21}} \\cdotp \\frac{\\partial d_{21}}{\\partial b_{11}} =\\frac{\\partial L}{\\partial d_{11}} a_{11} +\\frac{\\partial L}{\\partial d_{21}} a_{21}\\\\\n",
    "\\\\\n",
    "\\boxed{\\frac{\\partial L}{\\partial b} =\\begin{bmatrix}\n",
    "\\frac{\\partial L}{\\partial d_{11}} & \\frac{\\partial L}{\\partial d_{21}}\\\\\n",
    "\\frac{\\partial L}{\\partial d_{12}} & \\frac{\\partial L}{\\partial d_{22}}\n",
    "\\end{bmatrix} \\times \\begin{bmatrix}\n",
    "a_{11} & a_{12}\\\\\n",
    "a_{21} & b_{22}\n",
    "\\end{bmatrix} =\\frac{\\partial L}{\\partial d}^{T} \\cdotp a=a^{T} \\cdotp \\frac{\\partial L}{\\partial d}}\\\\\n",
    "\\\\\n",
    "\\frac{\\partial L}{\\partial c_{1}} =\\frac{\\partial L}{\\partial d} \\cdotp \\frac{\\partial d}{\\partial c_{1}} =\\frac{\\partial L}{\\partial d_{11}} \\cdotp \\frac{\\partial d_{11}}{\\partial c_{1}} +\\frac{\\partial L}{\\partial d_{12}} \\cdotp \\frac{\\partial d_{12}}{\\partial c_{1}} =\\frac{\\partial L}{\\partial d_{11}} +\\frac{\\partial L}{\\partial d_{12}}\\\\\n",
    "\\\\\n",
    "\\frac{\\partial L}{\\partial c_{2}} =\\frac{\\partial L}{\\partial d} \\cdotp \\frac{\\partial d}{\\partial c_{2}} =\\frac{\\partial L}{\\partial d_{21}} \\cdotp \\frac{\\partial d_{21}}{\\partial c_{2}} +\\frac{\\partial L}{\\partial d_{22}} \\cdotp \\frac{\\partial d_{22}}{\\partial c_{2}} =\\frac{\\partial L}{\\partial d_{21}} +\\frac{\\partial L}{\\partial d_{22}}\\\\\n",
    "\\\\\n",
    "\\boxed{\\frac{\\partial L}{\\partial c} =\\begin{bmatrix}\n",
    "\\frac{\\partial L}{\\partial d_{11}} +\\frac{\\partial L}{\\partial d_{12}}\\\\\n",
    "\\frac{\\partial L}{\\partial d_{21}} +\\frac{\\partial L}{\\partial d_{22}}\n",
    "\\end{bmatrix} =\\text{sum\\_col}\\left(\\frac{\\partial L}{\\partial d}\\right)}\n",
    "\\end{array}$"
   ]
  },
  {
   "cell_type": "code",
   "execution_count": 107,
   "id": "d57dd7b8-70ea-46f6-91b5-f371c3000134",
   "metadata": {},
   "outputs": [
    {
     "name": "stdout",
     "output_type": "stream",
     "text": [
      "dh              | exact: True  | approx: True  | maxdiff: 0.0\n"
     ]
    }
   ],
   "source": [
    "dh = dlogits @ W2.T\n",
    "cmp('dh', dh, h)"
   ]
  },
  {
   "cell_type": "code",
   "execution_count": 109,
   "id": "9443b611-d6cb-4240-abaf-edf441e1bff8",
   "metadata": {},
   "outputs": [
    {
     "name": "stdout",
     "output_type": "stream",
     "text": [
      "dW2             | exact: True  | approx: True  | maxdiff: 0.0\n"
     ]
    }
   ],
   "source": [
    "dW2 = h.T @ dlogits\n",
    "cmp('dW2', dW2, W2)"
   ]
  },
  {
   "cell_type": "code",
   "execution_count": 117,
   "id": "7138402f-ff68-4538-af2e-287ba9395f4c",
   "metadata": {},
   "outputs": [
    {
     "name": "stdout",
     "output_type": "stream",
     "text": [
      "db2             | exact: True  | approx: True  | maxdiff: 0.0\n"
     ]
    }
   ],
   "source": [
    "db2 = dlogits.sum(0, keepdim=True)\n",
    "cmp('db2', db2, b2)"
   ]
  },
  {
   "cell_type": "code",
   "execution_count": 124,
   "id": "063ca125-fd34-43fb-b804-af89991bd841",
   "metadata": {},
   "outputs": [
    {
     "name": "stdout",
     "output_type": "stream",
     "text": [
      "dhpreact        | exact: True  | approx: True  | maxdiff: 0.0\n"
     ]
    }
   ],
   "source": [
    "'''\n",
    "h = torch.tanh(hpreact) # hidden state\n",
    "\n",
    "dloss/dhpreact = dloss/dh * dh/dhpreact\n",
    "\n",
    "a = tanh(z)\n",
    "da/dz = 1 - a^2\n",
    "\n",
    "'''\n",
    "dhpreact = dh * (1 - h**2)\n",
    "cmp('dhpreact', dhpreact, hpreact)"
   ]
  },
  {
   "cell_type": "code",
   "execution_count": 118,
   "id": "2bac5639-6aca-4ec2-a3ae-0d5c31f82a8f",
   "metadata": {},
   "outputs": [
    {
     "data": {
      "text/plain": [
       "(torch.Size([32, 64]), torch.Size([32, 64]))"
      ]
     },
     "execution_count": 118,
     "metadata": {},
     "output_type": "execute_result"
    }
   ],
   "source": [
    "dh.shape, hpreact.shape"
   ]
  },
  {
   "cell_type": "code",
   "execution_count": 126,
   "id": "79b43763-6e60-405e-b52d-cb82a77d689e",
   "metadata": {},
   "outputs": [
    {
     "name": "stdout",
     "output_type": "stream",
     "text": [
      "dngain          | exact: True  | approx: True  | maxdiff: 0.0\n"
     ]
    }
   ],
   "source": [
    "'''\n",
    "hpreact = bngain * bnraw + bnbias\n",
    "\n",
    "dloss/dbngain = dloss/dhpreact * dhpreact/dbngain\n",
    "'''\n",
    "dbngain = (bnraw * dhpreact).sum(0, keepdim=True)\n",
    "cmp('dngain', dbngain, bngain)"
   ]
  },
  {
   "cell_type": "code",
   "execution_count": 127,
   "id": "9a1ca030-1d48-4a48-a102-7c5cc0c9fe97",
   "metadata": {},
   "outputs": [
    {
     "name": "stdout",
     "output_type": "stream",
     "text": [
      "dbnraw          | exact: True  | approx: True  | maxdiff: 0.0\n"
     ]
    }
   ],
   "source": [
    "dbnraw = dhpreact * bngain\n",
    "cmp('dbnraw', dbnraw, bnraw)"
   ]
  },
  {
   "cell_type": "code",
   "execution_count": 128,
   "id": "d1df33be-915c-4c32-a20e-a4d170b0fb76",
   "metadata": {},
   "outputs": [
    {
     "name": "stdout",
     "output_type": "stream",
     "text": [
      "dbnbias         | exact: True  | approx: True  | maxdiff: 0.0\n"
     ]
    }
   ],
   "source": [
    "dbnbias = dhpreact.sum(0, keepdim=True)\n",
    "cmp('dbnbias', dbnbias, bnbias)"
   ]
  },
  {
   "cell_type": "code",
   "execution_count": 150,
   "id": "633d2735-87c0-4507-b294-96926385b19e",
   "metadata": {},
   "outputs": [
    {
     "name": "stdout",
     "output_type": "stream",
     "text": [
      "dbnvar_inv      | exact: True  | approx: True  | maxdiff: 0.0\n"
     ]
    }
   ],
   "source": [
    "'''\n",
    "\n",
    "bnraw = bndiff * bnvar_inv\n",
    "\n",
    "dloss/dbndiff = dloss/dbnraw * dbnraw/dbndiff\n",
    "'''\n",
    "dbndiff = dbnraw * bnvar_inv\n",
    "# bndiff has another branch so dont compare here\n",
    "\n",
    "dbnvar_inv = (dbnraw * bndiff).sum(0, keepdim=True)\n",
    "cmp('dbnvar_inv', dbnvar_inv, bnvar_inv)"
   ]
  },
  {
   "cell_type": "code",
   "execution_count": 146,
   "id": "8e04e1a9-0671-4e0b-a4cf-dea7273db21c",
   "metadata": {},
   "outputs": [
    {
     "name": "stdout",
     "output_type": "stream",
     "text": [
      "dbnvar          | exact: True  | approx: True  | maxdiff: 0.0\n"
     ]
    }
   ],
   "source": [
    "'''\n",
    "bnvar_inv = (bnvar + 1e-5)**-0.5\n",
    "\n",
    "'''\n",
    "dbnvar = dbnvar_inv * -0.5 * ((bnvar + 1e-5)**-1.5)\n",
    "cmp('dbnvar', dbnvar, bnvar)"
   ]
  },
  {
   "cell_type": "code",
   "execution_count": 149,
   "id": "eabd518d-4b0e-43b0-9bc3-9236111f46dd",
   "metadata": {},
   "outputs": [
    {
     "data": {
      "text/plain": [
       "(tensor([[-4.5687e-05, -5.1706e-05, -7.1177e-05,  ..., -2.6126e-05,\n",
       "          -4.1939e-05, -4.1685e-05],\n",
       "         [-4.5687e-05, -5.1706e-05, -7.1177e-05,  ..., -2.6126e-05,\n",
       "          -4.1939e-05, -4.1685e-05],\n",
       "         [-4.5687e-05, -5.1706e-05, -7.1177e-05,  ..., -2.6126e-05,\n",
       "          -4.1939e-05, -4.1685e-05],\n",
       "         ...,\n",
       "         [-4.5687e-05, -5.1706e-05, -7.1177e-05,  ..., -2.6126e-05,\n",
       "          -4.1939e-05, -4.1685e-05],\n",
       "         [-4.5687e-05, -5.1706e-05, -7.1177e-05,  ..., -2.6126e-05,\n",
       "          -4.1939e-05, -4.1685e-05],\n",
       "         [-4.5687e-05, -5.1706e-05, -7.1177e-05,  ..., -2.6126e-05,\n",
       "          -4.1939e-05, -4.1685e-05]], grad_fn=<MulBackward0>),\n",
       " tensor([[-4.5687e-05, -5.1706e-05, -7.1177e-05,  ..., -2.6126e-05,\n",
       "          -4.1939e-05, -4.1685e-05],\n",
       "         [-4.5687e-05, -5.1706e-05, -7.1177e-05,  ..., -2.6126e-05,\n",
       "          -4.1939e-05, -4.1685e-05],\n",
       "         [-4.5687e-05, -5.1706e-05, -7.1177e-05,  ..., -2.6126e-05,\n",
       "          -4.1939e-05, -4.1685e-05],\n",
       "         ...,\n",
       "         [-4.5687e-05, -5.1706e-05, -7.1177e-05,  ..., -2.6126e-05,\n",
       "          -4.1939e-05, -4.1685e-05],\n",
       "         [-4.5687e-05, -5.1706e-05, -7.1177e-05,  ..., -2.6126e-05,\n",
       "          -4.1939e-05, -4.1685e-05],\n",
       "         [-4.5687e-05, -5.1706e-05, -7.1177e-05,  ..., -2.6126e-05,\n",
       "          -4.1939e-05, -4.1685e-05]]))"
      ]
     },
     "execution_count": 149,
     "metadata": {},
     "output_type": "execute_result"
    }
   ],
   "source": [
    "dbndiff2, bndiff2.grad"
   ]
  },
  {
   "cell_type": "code",
   "execution_count": 147,
   "id": "63c3df77-57b5-4d71-adf5-66875b5d0aaf",
   "metadata": {},
   "outputs": [
    {
     "name": "stdout",
     "output_type": "stream",
     "text": [
      "dbndiff2        | exact: False | approx: True  | maxdiff: 1.4551915228366852e-11\n"
     ]
    }
   ],
   "source": [
    "'''\n",
    "bnvar = 1/(n-1) * (bndiff2).sum(0, keepdim=True)\n",
    "\n",
    "a[1x2] = 1/(n-1) * b[2x2].sum(0)\n",
    "b11 b12\n",
    "b21 b22 * 1/(n-1)\n",
    "\n",
    "1/(n-1) * (b11+b21)\n",
    "1/(n-1) * (b12+b22)\n",
    "\n",
    "da/db = 1/(n-1)\n",
    "\n",
    "dloss/dbnvar = dloss/dbnvar * dbnvar/dbndiff2\n",
    "'''\n",
    "dbndiff2 = dbnvar * 1.0/(n-1) * torch.ones_like(bndiff2)\n",
    "cmp('dbndiff2', dbndiff2, bndiff2)"
   ]
  },
  {
   "cell_type": "code",
   "execution_count": 151,
   "id": "b5b908b1-12d2-4ca1-a3d6-249757e1755c",
   "metadata": {},
   "outputs": [
    {
     "name": "stdout",
     "output_type": "stream",
     "text": [
      "dbndiff         | exact: False | approx: True  | maxdiff: 2.3283064365386963e-10\n"
     ]
    }
   ],
   "source": [
    "'''\n",
    "bndiff2 = bndiff**2\n",
    "\n",
    "dloss/dbndiff = dbndiff2 * 2 *bndiff\n",
    "'''\n",
    "dbndiff += dbndiff2 * 2 * bndiff\n",
    "cmp('dbndiff', dbndiff, bndiff)"
   ]
  },
  {
   "cell_type": "code",
   "execution_count": 161,
   "id": "9cd89050-e176-4531-a972-09ebf6888a0a",
   "metadata": {},
   "outputs": [],
   "source": [
    "'''\n",
    "hprebn = embcat @ W1 + b1\n",
    "bnmeani = 1/n * hprebn.sum(0, keepdim=True) \n",
    "\n",
    "bndiff = hprebn - bnmeani\n",
    "\n",
    "dloss/dhprebn = dloss/dbndiff * dbndiff/hprebn\n",
    "'''\n",
    "dhprebn = dbndiff * 1\n",
    "# we have other branches for dhprebn"
   ]
  },
  {
   "cell_type": "code",
   "execution_count": 158,
   "id": "d90cd4f4-0ac3-4c3f-a0ea-ba18684f3c5d",
   "metadata": {},
   "outputs": [
    {
     "name": "stdout",
     "output_type": "stream",
     "text": [
      "bnmeani         | exact: False | approx: True  | maxdiff: 2.7939677238464355e-09\n"
     ]
    }
   ],
   "source": [
    "'''\n",
    "bnmeani[1x64]\n",
    "bndiff[32x64]\n",
    "hprebn[32x64]\n",
    "hprebn - bnmeani broadcast happens duplicating rows\n",
    "-> collapse rows -> sum rows -> dim 0\n",
    "'''\n",
    "dbnmeani = (dbndiff * -1.0 ).sum(0, keepdim=True)\n",
    "cmp('bnmeani', dbnmeani, bnmeani)"
   ]
  },
  {
   "cell_type": "code",
   "execution_count": 162,
   "id": "b3939818-3cbd-4622-bc4f-014853a64250",
   "metadata": {},
   "outputs": [
    {
     "name": "stdout",
     "output_type": "stream",
     "text": [
      "hprebn          | exact: False | approx: True  | maxdiff: 2.3283064365386963e-10\n"
     ]
    }
   ],
   "source": [
    "'''\n",
    "bnmeani = 1/n * hprebn.sum(0, keepdim=True)\n",
    "\n",
    "d\n",
    "'''\n",
    "dhprebn += 1.0/n * torch.ones_like(bnmeani) * dbnmeani\n",
    "cmp('hprebn', dhprebn, hprebn)"
   ]
  },
  {
   "cell_type": "code",
   "execution_count": 164,
   "id": "73f3d30e-3b6b-4d45-9f7b-47402f0efba2",
   "metadata": {},
   "outputs": [
    {
     "data": {
      "text/plain": [
       "(torch.Size([32, 30]), torch.Size([30, 64]), torch.Size([64]))"
      ]
     },
     "execution_count": 164,
     "metadata": {},
     "output_type": "execute_result"
    }
   ],
   "source": [
    "embcat.shape, W1.shape, b1.shape"
   ]
  },
  {
   "cell_type": "code",
   "execution_count": 165,
   "id": "7b625861-3db9-4064-85c1-005c291cc4ea",
   "metadata": {},
   "outputs": [
    {
     "name": "stdout",
     "output_type": "stream",
     "text": [
      "embcat          | exact: False | approx: True  | maxdiff: 9.313225746154785e-10\n"
     ]
    }
   ],
   "source": [
    "'''\n",
    "hprebn = embcat @ W1 + b1\n",
    "\n",
    "dloss/dembcat = dloss/dhprebn * dhprebn/dembcat\n",
    "\n",
    "'''\n",
    "dembcat = dhprebn @ W1.T\n",
    "cmp('embcat', dembcat, embcat)"
   ]
  },
  {
   "cell_type": "code",
   "execution_count": 166,
   "id": "4c139a88-a158-4537-b580-33924d84a72c",
   "metadata": {},
   "outputs": [
    {
     "name": "stdout",
     "output_type": "stream",
     "text": [
      "W1              | exact: False | approx: True  | maxdiff: 3.725290298461914e-09\n"
     ]
    }
   ],
   "source": [
    "dW1 = embcat.T @ dhprebn\n",
    "cmp('W1', dW1, W1)"
   ]
  },
  {
   "cell_type": "code",
   "execution_count": 167,
   "id": "bc9093ec-055f-4b23-be9d-0c0efe4479aa",
   "metadata": {},
   "outputs": [
    {
     "name": "stdout",
     "output_type": "stream",
     "text": [
      "b1              | exact: False | approx: True  | maxdiff: 4.6566128730773926e-09\n"
     ]
    }
   ],
   "source": [
    "db1 = dhprebn.sum(0)\n",
    "cmp('b1', db1, b1)"
   ]
  },
  {
   "cell_type": "code",
   "execution_count": 168,
   "id": "4f77e19a-5d15-499a-ac6c-de9a0b32487b",
   "metadata": {},
   "outputs": [
    {
     "name": "stdout",
     "output_type": "stream",
     "text": [
      "emb             | exact: False | approx: True  | maxdiff: 9.313225746154785e-10\n"
     ]
    }
   ],
   "source": [
    "'''\n",
    "emb = C[Xb] # embed the chars into vectors\n",
    "embcat = emb.view(emb.shape[0], -1)\n",
    "\n",
    "dloss/demb = dloss/dembcat * dembcat/demb\n",
    "\n",
    "dloss/demb is just a different view (shape) of the same derivative of dloss/dembcat\n",
    "we can just reshape the view\n",
    "'''\n",
    "demb = dembcat.view(emb.shape)\n",
    "cmp('emb', demb, emb)"
   ]
  },
  {
   "cell_type": "code",
   "execution_count": 175,
   "id": "46434361-114a-469c-b42e-7765c0da3188",
   "metadata": {},
   "outputs": [
    {
     "name": "stdout",
     "output_type": "stream",
     "text": [
      "C               | exact: False | approx: True  | maxdiff: 1.862645149230957e-09\n"
     ]
    }
   ],
   "source": [
    "'''\n",
    "emb = C[Xb]\n",
    "\n",
    "dloss/dC = dloss/demb * demb/dC\n",
    "\n",
    "C[Xb] is just picking entries from Xb, which means 1s at index of Xb, 0 everywhere else\n",
    "\n",
    "Xb[:5]\n",
    "tensor([[ 1,  1,  4],\n",
    "        [18, 14,  1],\n",
    "        [11,  5,  9],\n",
    "        [ 0,  0,  1],\n",
    "        [12, 15, 14]])\n",
    "\n",
    "notice that Xb has duplicated values, these means duplicated indices to C, which means the entry in C is used multiple times.\n",
    "we need to sum those duplicate entries\n",
    "'''\n",
    "dC = torch.zeros_like(C)\n",
    "for k in range(Xb.shape[0]):\n",
    "    for j in range(Xb.shape[1]):\n",
    "        # index of C\n",
    "        ix = Xb[k, j]\n",
    "        dC[ix] += demb[k,j]\n",
    "\n",
    "cmp('C', dC, C)"
   ]
  },
  {
   "cell_type": "code",
   "execution_count": 169,
   "id": "636a4d5a-db4a-4f2c-9270-009b3bc66657",
   "metadata": {},
   "outputs": [
    {
     "data": {
      "text/plain": [
       "(torch.Size([32, 3, 10]), torch.Size([27, 10]))"
      ]
     },
     "execution_count": 169,
     "metadata": {},
     "output_type": "execute_result"
    }
   ],
   "source": [
    "emb.shape, C.shape"
   ]
  },
  {
   "cell_type": "code",
   "execution_count": 171,
   "id": "39b42572-0070-44b3-b8a4-91fecfe8274c",
   "metadata": {},
   "outputs": [
    {
     "data": {
      "text/plain": [
       "tensor([[ 1,  1,  4],\n",
       "        [18, 14,  1],\n",
       "        [11,  5,  9],\n",
       "        [ 0,  0,  1],\n",
       "        [12, 15, 14]])"
      ]
     },
     "execution_count": 171,
     "metadata": {},
     "output_type": "execute_result"
    }
   ],
   "source": [
    "Xb[:5]"
   ]
  },
  {
   "cell_type": "code",
   "execution_count": 176,
   "id": "ea3eb2f9-196d-4f15-ba05-fc7a0ada2186",
   "metadata": {},
   "outputs": [
    {
     "name": "stdout",
     "output_type": "stream",
     "text": [
      "3.348198175430298 diff: 0.0\n"
     ]
    }
   ],
   "source": [
    "# combine cross_entropy and compare backprop\n",
    "loss_fast = F.cross_entropy(logits, Yb)\n",
    "print(loss_fast.item(), 'diff:', (loss_fast-loss).item())"
   ]
  },
  {
   "attachments": {
    "f08dae15-0903-4947-a26f-913e7191c84e.png": {
     "image/png": "[encoded data removed]"
    }
   },
   "cell_type": "markdown",
   "id": "b09a39af-451d-413e-a397-372120112d28",
   "metadata": {},
   "source": [
    "![image.png](attachment:f08dae15-0903-4947-a26f-913e7191c84e.png)\n",
    "\n",
    " \\begin{array}{l}\n",
    "\\text{loss} =-\\log p_{y} ,\\ p_{y} =C[ Y_{b}] =\\text{softmax}\\left(\\text{logit}\\right)[ Y_{b}] =\\frac{e^{l_{j}}}{\\sum _{j} e^{l_{j}}}[ Y_{b}]\\\\\n",
    "\\text{loss} =-\\log\\frac{e^{l_{j}}}{\\sum _{j} e^{l_{j}}}[ Y_{b}]\\\\\n",
    "\\frac{\\partial \\text{loss}}{\\partial l_{i}} =-\\frac{\\partial }{\\partial l_{i}}\\left[\\log\\frac{e^{l_{j}}}{\\sum _{j} e^{l_{j}}}\\right][ Y_{b}] =\\\\\n",
    "-\\frac{\\partial }{\\partial l_{i}}\\left[\\log\\frac{e^{l_{j}}}{\\sum _{j} e^{l_{j}}}\\right] =-\\frac{1}{\\frac{e^{l_{j}}}{\\sum _{j} e^{l_{j}}}}\\frac{\\partial }{\\partial l_{i}}\\left[\\frac{e^{l_{j}}}{\\sum _{j} e^{l_{j}}}\\right] =-\\frac{\\sum _{j} e^{l_{j}}}{e^{l_{j}}}\\frac{\\partial }{\\partial l_{i}}\\left(\\frac{e^{l_{j}}}{\\sum _{j} e^{l_{j}}}\\right)\\\\\n",
    "l=[ l_{1} ,l_{2} ,l_{3}]\\\\\n",
    "\\frac{\\partial }{\\partial l_{1}}\\left(\\frac{e^{l_{j}}}{\\sum _{j} e^{l_{j}}}\\right) =\\left[\\frac{e^{l_{1}}}{e^{l_{1}} +e^{l_{2}} +e^{l_{3}}} ,\\frac{e^{l_{2}}}{e^{l_{1}} +e^{l_{2}} +e^{l_{3}}} ,\\frac{e^{l_{3}}}{e^{l_{1}} +e^{l_{2}} +e^{l_{3}}}\\right]\\\\\n",
    "=\\left[ e^{l_{1}} \\cdotp \\left( e^{l_{1}} +e^{l_{2}} +e^{l_{3}}\\right)^{-1} ,e^{l_{2}} \\cdotp \\left( e^{l_{1}} +e^{l_{2}} +e^{l_{3}}\\right)^{-1} ,e^{l_{3}} \\cdotp \\left( e^{l_{1}} +e^{l_{2}} +e^{l_{3}}\\right)^{-1}\\right]\\\\\n",
    "\\frac{d}{dx} a( x) \\cdotp b( x) =a'( x) \\cdotp b( x) +a( x) \\cdotp b'( x)\\\\\n",
    "\\\\\n",
    "\\frac{e^{l_{j}}}{\\sum _{j} e^{l_{j}}} =\\left[ e^{l_{1}} \\cdotp \\left( e^{l_{1}} +e^{l_{2}} +e^{l_{3}}\\right)^{-1} ,e^{l_{2}} \\cdotp \\left( e^{l_{1}} +e^{l_{2}} +e^{l_{3}}\\right)^{-1} ,e^{l_{3}} \\cdotp \\left( e^{l_{1}} +e^{l_{2}} +e^{l_{3}}\\right)^{-1}\\right]\\\\\n",
    "\\frac{\\partial }{\\partial l_{1}}\\frac{e^{l_{j}}}{\\sum _{j} e^{l_{j}}}\\\\\n",
    "=\\left[ e^{l_{1}} \\cdotp \\left( e^{l_{1}} +e^{l_{2}} +e^{l_{3}}\\right)^{-1} -e^{l_{1}} \\cdotp \\left( e^{l_{1}} +e^{l_{2}} +e^{l_{3}}\\right)^{-2} e^{l_{1}} ,-e^{l_{2}} \\cdotp \\left( e^{l_{1}} +e^{l_{2}} +e^{l_{3}}\\right)^{-2} ,-e^{l_{3}} \\cdotp \\left( e^{l_{1}} +e^{l_{2}} +e^{l_{3}}\\right)^{-2}\\right]\\\\\n",
    "\\\\\n",
    "\\\\\n",
    "-\\frac{\\sum _{j} e^{l_{j}}}{e^{l_{j}}}\\frac{\\partial }{\\partial l_{i}}\\left(\\frac{e^{l_{j}}}{\\sum _{j} e^{l_{j}}}\\right)\\\\\n",
    "=\\begin{cases}\n",
    "i=j & -\\frac{\\sum _{j} e^{l_{j}}}{e^{l_{j}}}\\left[\\frac{e^{l_{j}}}{\\sum _{j} e^{l_{j}}} +\\left( -\\frac{e^{l_{j}}}{\\left(\\sum _{j} e^{l_{j}}\\right)^{2}}\\right) e^{l_{i}}\\right] =-\\frac{\\sum _{j} e^{l_{j}}}{e^{l_{j}}}\\left[\\frac{e^{l_{j}}}{\\sum _{j} e^{l_{j}}} -\\frac{e^{l_{j}} e^{l_{i}}}{\\left(\\sum _{j} e^{l_{j}}\\right)^{2}}\\right] =\\frac{e^{l_{i}}}{\\sum _{j} e^{l_{j}}} -1=p_{i} -1\\\\\n",
    "i\\neq j & -\\frac{\\sum _{j} e^{l_{j}}}{e^{l_{j}}}\\left[ -\\frac{e^{l_{j}} e^{l_{i}}}{\\left(\\sum _{j} e^{l_{j}}\\right)^{2}}\\right] =\\frac{e^{li}}{\\sum _{j} e^{l_{j}}} =p_{i}\n",
    "\\end{cases}\\\\\n",
    "\\\\\n",
    "\\boxed{\\frac{\\partial \\text{loss}}{\\partial l_{i}} =\\begin{cases}\n",
    "i=j & p_{i} -1\\\\\n",
    "i\\neq j & p_{i}\n",
    "\\end{cases}}\\\\\n",
    "i=Y_{b} ,\\ p_{i} =\\frac{e^{l_{i}}}{\\sum _{j} e^{l_{j}}} =\\text{softmax}\\left(\\text{logits}\\right)\n",
    "\\end{array}"
   ]
  },
  {
   "cell_type": "code",
   "execution_count": 177,
   "id": "0291ea90-9794-427c-a3dd-6a2a785c0301",
   "metadata": {},
   "outputs": [
    {
     "name": "stdout",
     "output_type": "stream",
     "text": [
      "logits          | exact: False | approx: True  | maxdiff: 8.847564458847046e-09\n"
     ]
    }
   ],
   "source": [
    "'''\n",
    "loss = -log(softmax(logits))\n",
    "\n",
    "dloss/dlogits = pi-1 if i=j, pi if i != j\n",
    "'''\n",
    "dlogits = F.softmax(logits, 1) # p_i\n",
    "# i == j, p_i-1\n",
    "dlogits[range(n), Yb] -= 1\n",
    "# loss is per batch_size=n, so we need to get avg loss per sample, so divide by n\n",
    "dlogits /= n\n",
    "cmp('logits', dlogits, logits)"
   ]
  },
  {
   "cell_type": "code",
   "execution_count": 178,
   "id": "a0063059-bd54-469c-adcd-e7835d5cedb2",
   "metadata": {},
   "outputs": [
    {
     "data": {
      "text/plain": [
       "torch.Size([32, 27])"
      ]
     },
     "execution_count": 178,
     "metadata": {},
     "output_type": "execute_result"
    }
   ],
   "source": [
    "dlogits.shape"
   ]
  },
  {
   "cell_type": "code",
   "execution_count": 179,
   "id": "db9897e6-e38a-4e8e-9f11-da95ca1ba97e",
   "metadata": {},
   "outputs": [
    {
     "data": {
      "text/plain": [
       "tensor([ 0.0023,  0.0027,  0.0006,  0.0016,  0.0006,  0.0026,  0.0007,  0.0011,\n",
       "        -0.0307,  0.0010,  0.0011,  0.0012,  0.0012,  0.0009,  0.0011,  0.0004,\n",
       "         0.0003,  0.0006,  0.0005,  0.0017,  0.0016,  0.0007,  0.0008,  0.0023,\n",
       "         0.0018,  0.0008,  0.0007], grad_fn=<SelectBackward0>)"
      ]
     },
     "execution_count": 179,
     "metadata": {},
     "output_type": "execute_result"
    }
   ],
   "source": [
    "# look at gradient dlogits of the 1st sample\n",
    "dlogits[0]"
   ]
  },
  {
   "cell_type": "code",
   "execution_count": 180,
   "id": "4da9943c-b305-479e-ac1b-0a8691361c7d",
   "metadata": {},
   "outputs": [
    {
     "data": {
      "text/plain": [
       "tensor([ 0.0731,  0.0872,  0.0182,  0.0518,  0.0192,  0.0845,  0.0231,  0.0355,\n",
       "        -0.9827,  0.0319,  0.0364,  0.0370,  0.0371,  0.0285,  0.0345,  0.0132,\n",
       "         0.0085,  0.0190,  0.0148,  0.0545,  0.0513,  0.0209,  0.0247,  0.0721,\n",
       "         0.0584,  0.0259,  0.0215], grad_fn=<MulBackward0>)"
      ]
     },
     "execution_count": 180,
     "metadata": {},
     "output_type": "execute_result"
    }
   ],
   "source": [
    "# multiply n to get the original loss for the batch\n",
    "dlogits[0] * n"
   ]
  },
  {
   "cell_type": "code",
   "execution_count": 181,
   "id": "4d14e517-2510-4f3c-9b81-4c39073102b0",
   "metadata": {},
   "outputs": [
    {
     "data": {
      "text/plain": [
       "<matplotlib.image.AxesImage at 0x144ed9fc0>"
      ]
     },
     "execution_count": 181,
     "metadata": {},
     "output_type": "execute_result"
    },
    {
     "data": {
      "image/png": "[encoded data removed]",
      "text/plain": [
       "<Figure size 800x800 with 1 Axes>"
      ]
     },
     "metadata": {},
     "output_type": "display_data"
    }
   ],
   "source": [
    "plt.figure(figsize=(8,8))\n",
    "plt.imshow(dlogits.detach(), cmap='gray')"
   ]
  },
  {
   "cell_type": "code",
   "execution_count": 183,
   "id": "fbae453f-4ebd-4400-9905-b7aea2b427f0",
   "metadata": {},
   "outputs": [
    {
     "data": {
      "text/plain": [
       "tensor(3.4925e-09, grad_fn=<SumBackward0>)"
      ]
     },
     "execution_count": 183,
     "metadata": {},
     "output_type": "execute_result"
    }
   ],
   "source": [
    "dlogits[0].sum()"
   ]
  },
  {
   "cell_type": "markdown",
   "id": "fdd6b00d-7edd-4149-b414-05f0d7071bb0",
   "metadata": {},
   "source": [
    "we see from the above gradient of logit loss.\n",
    "\n",
    "if we see it as a force field, at the $Y_b$ location is most negative (pulling weights down).  but the total force is 0."
   ]
  },
  {
   "cell_type": "code",
   "execution_count": 184,
   "id": "c7bb19a8-cb84-4aca-b336-42cdc0dea97d",
   "metadata": {},
   "outputs": [
    {
     "name": "stdout",
     "output_type": "stream",
     "text": [
      "max diff: tensor(3.6001e-05, grad_fn=<MaxBackward1>)\n"
     ]
    }
   ],
   "source": [
    "'''\n",
    "now backprop batch norm\n",
    "\n",
    "bnmeani = 1/n *   # batch avg of layer 1\n",
    "bndiff = hprebn - bnmeani\n",
    "bndiff2 = bndiff**2 # diff squared\n",
    "bnvar = 1/(n-1) * (bndiff2).sum(0, keepdim=True) # avg variance, note: Bessels'correction, use n-1, not n\n",
    "bnvar_inv = (bnvar + 1e-5)**-0.5 # sqr root + epsilon to avoid divide by 0\n",
    "bnraw = bndiff * bnvar_inv\n",
    "hpreact = bngain * bnraw + bnbias # normalize\n",
    "\n",
    "combine the above into 1 single steps\n",
    "'''\n",
    "hpreact_fast = bngain * (hprebn - hprebn.mean(0, keepdim=True)) / torch.sqrt(hprebn.var(0, keepdim=True, unbiased=True))\n",
    "print('max diff:', (hpreact_fast - hpreact).abs().max())"
   ]
  },
  {
   "attachments": {
    "1f0402a9-0728-4406-9be1-4c3f0f319d2e.png": {
     "image/png": "[encoded data removed]"
    }
   },
   "cell_type": "markdown",
   "id": "6eda7410-c658-4bf9-a82e-2d3dab30f361",
   "metadata": {},
   "source": [
    " \\begin{array}{l}\n",
    "\\mu =\\frac{1}{n}\\sum x_{i}\\\\\n",
    "\\sigma ^{2} =\\frac{1}{n-1}\\sum ( x_{i} -\\mu )^{2}\\\\\n",
    "\\\\\n",
    "\\text{batch normalization}\\\\\n",
    "\\widehat{x_{i}} =\\frac{x_{i} -\\mu }{\\sqrt{\\sigma ^{2} +\\epsilon }} ,\\text{make} \\ x_{i} \\ \\text{standard normal distributed}\\\\\n",
    "y_{i} =\\gamma \\cdotp \\widehat{x_{i}} +\\beta ,\\ \\text{use} \\ \\gamma \\ \\text{and} \\ \\beta \\ \\text{to shift the distribution}\n",
    "\\end{array}\n",
    "\n",
    "![image.png](attachment:1f0402a9-0728-4406-9be1-4c3f0f319d2e.png)\n",
    "\n",
    "$\n",
    "\\text{dlogits} =\\frac{\\partial \\text{loss}}{\\partial \\text{logits}} =\\frac{\\partial \\text{loss}}{\\partial y_{i}}\n",
    "$"
   ]
  },
  {
   "cell_type": "markdown",
   "id": "e295ec89-d49e-4bbd-acc2-5121860004fa",
   "metadata": {},
   "source": [
    " \\begin{array}{l}\n",
    "1) \\ \\frac{\\partial l}{\\partial \\widehat{x_{i}}} =\\frac{\\partial l}{\\partial y_{i}} \\cdotp \\frac{\\partial y_{i}}{\\partial \\widehat{x_{i}}} =\\frac{\\partial l}{\\partial y_{i}} \\cdotp \\gamma \\\\\n",
    "\\\\\n",
    "\\\\\n",
    "2) \\ \\frac{\\partial l}{\\partial \\sigma ^{2}} =\\sum _{i}\\frac{\\partial l}{\\partial \\widehat{x_{i}}}\\frac{\\partial \\widehat{x_{i}}}{\\partial \\sigma ^{2}}\\\\\n",
    "\\\\\n",
    "\\frac{\\partial \\widehat{x_{i}}}{\\partial \\sigma ^{2}} =\\frac{\\partial }{\\partial \\sigma ^{2}}( x_{i} -\\mu ) \\cdotp \\left( \\sigma ^{2} +\\epsilon \\right)^{-1/2} =( x_{i} -\\mu )\\left( -\\frac{1}{2}\\right)\\left( \\sigma ^{2} +\\epsilon \\right)^{-3/2}\\\\\n",
    "\\\\\n",
    "\\frac{\\partial l}{\\partial \\sigma ^{2}} =-\\frac{1}{2} \\gamma \\sum _{i}\\frac{\\partial l}{\\partial y_{i}}( x_{i} -\\mu )\\left( \\sigma ^{2} +\\epsilon \\right)^{-3/2}\\\\\n",
    "\\\\\n",
    "\\\\\n",
    "\\\\\n",
    "3) \\ \\frac{\\partial l}{\\partial \\mu } =\\sum _{i}\\frac{\\partial l}{\\partial \\widehat{x_{i}}}\\frac{\\partial \\widehat{x_{i}}}{\\partial \\mu } +\\frac{\\partial l}{\\partial \\sigma ^{2}}\\frac{\\partial \\sigma ^{2}}{\\partial \\mu }\\\\\n",
    "\\\\\n",
    "\\sigma ^{2} =\\frac{1}{n-1}\\sum ( x_{i} -\\mu )^{2}\\\\\n",
    "\\frac{\\partial \\sigma ^{2}}{\\partial \\mu } =\\frac{1}{n-1}\\sum \\frac{\\partial }{\\partial \\mu }( x_{i} -\\mu )^{2} =-\\frac{2}{n-1}\\sum ( x_{i} -\\mu ) =-\\frac{2}{n-1}\\left(\\sum x_{i} -\\sum \\mu \\right)\\\\\n",
    "\\text{if we assume the mean} \\ \\mu =\\frac{1}{n}\\sum x_{i}\\\\\n",
    "\\frac{\\partial \\sigma ^{2}}{\\partial \\mu } =-\\frac{2}{n-1}\\left(\\sum x_{i} -\\sum \\mu \\right) =-\\frac{2}{n-1}\\left(\\sum x_{i} -n\\frac{1}{n}\\sum x_{i}\\right) =0\\\\\n",
    "\\\\\n",
    "\\widehat{x_{i}} =\\frac{x_{i} -\\mu }{\\sqrt{\\sigma ^{2} +\\epsilon }} =( x_{i} -\\mu ) \\cdotp \\left( \\sigma ^{2} +\\epsilon \\right)^{-1/2}\\\\\n",
    "\\frac{\\partial \\widehat{x_{i}}}{\\partial \\mu } =\\left( \\sigma ^{2} +\\epsilon \\right)^{-1/2} \\cdotp ( -1)\\\\\n",
    "\\\\\n",
    "\\sum _{i}\\frac{\\partial l}{\\partial \\widehat{x_{i}}}\\frac{\\partial \\widehat{x_{i}}}{\\partial \\mu } =\\sum _{i}\\frac{\\partial l}{\\partial y_{i}} \\cdotp \\gamma \\cdotp \\left( \\sigma ^{2} +\\epsilon \\right)^{-1/2} \\cdotp ( -1)\\\\\n",
    "\\\\\n",
    "\\frac{\\partial l}{\\partial \\mu } =\\sum _{i}\\frac{\\partial l}{\\partial \\widehat{x_{i}}}\\frac{\\partial \\widehat{x_{i}}}{\\partial \\mu } +\\cancel{\\frac{\\partial l}{\\partial \\sigma ^{2}}\\frac{\\partial \\sigma ^{2}}{\\partial \\mu }} =-\\sum _{i}\\frac{\\partial l}{\\partial y_{i}} \\cdotp \\gamma \\cdotp \\left( \\sigma ^{2} +\\epsilon \\right)^{-1/2}\\\\\n",
    "\\\\\n",
    "\\\\\n",
    "\\frac{\\partial \\mu }{\\partial x_{i}} =\\frac{1}{n}\\\\\n",
    "\\\\\n",
    "4) \\ \\frac{\\partial l}{\\partial x_{i}} =\\frac{\\partial l}{\\partial \\widehat{x_{i}}} \\cdotp \\frac{\\partial \\widehat{x_{i}}}{\\partial x_{i}} +\\frac{\\partial l}{\\partial \\sigma ^{2}} \\cdotp \\frac{\\partial \\sigma ^{2}}{\\partial x_{i}} +\\frac{\\partial l}{\\partial \\mu } \\cdotp \\frac{\\partial \\mu }{\\partial x_{i}}\\\\\n",
    "\\\\\n",
    "\\widehat{x_{i}} =\\frac{x_{i} -\\mu }{\\sqrt{\\sigma ^{2} +\\epsilon }}\\\\\n",
    "\\frac{\\partial \\widehat{x_{i}}}{\\partial x_{i}} =\\frac{\\partial }{\\partial x_{i}}( x_{i} -\\mu ) \\cdotp \\left( \\sigma ^{2} +\\epsilon \\right)^{-1/2} =\\left( \\sigma ^{2} +\\epsilon \\right)^{-1/2} \\cdotp 1\\\\\n",
    "\\frac{\\partial l}{\\partial \\widehat{x_{i}}} \\cdotp \\frac{\\partial \\widehat{x_{i}}}{\\partial x_{i}} =\\frac{\\partial l}{\\partial y_{i}} \\cdotp \\gamma \\cdotp \\left( \\sigma ^{2} +\\epsilon \\right)^{-1/2}\n",
    "\\end{array}"
   ]
  },
  {
   "cell_type": "markdown",
   "id": "4bff953b-8bcf-4809-83ea-49b07f485bb0",
   "metadata": {},
   "source": [
    " \\begin{array}{l}\n",
    "\\sigma ^{2} =\\frac{1}{n-1}\\sum ( x_{i} -\\mu )^{2}\\\\\n",
    "\\frac{\\partial \\sigma ^{2}}{\\partial x_{i}} =\\frac{1}{n-1}\\frac{\\partial }{\\partial x_{i}}\\sum _{j}( x_{j} -\\mu )^{2} =\\frac{1}{n-1}\\begin{cases}\n",
    "i=j & 2( x_{i} -u) \\cdotp 1\\\\\n",
    "i\\neq j & 0\n",
    "\\end{cases} =\\frac{2}{n-1}( x_{i} -u)\\\\\n",
    "\\\\\n",
    "\\frac{\\partial l}{\\partial \\sigma ^{2}} \\cdotp \\frac{\\partial \\sigma ^{2}}{\\partial x_{i}} =-\\frac{1}{2} \\gamma \\sum _{j}\\frac{\\partial l}{\\partial y_{j}}( x_{j} -\\mu )\\left( \\sigma ^{2} +\\epsilon \\right)^{-3/2} \\cdotp \\frac{2}{n-1}( x_{i} -u)\\\\\n",
    "\\\\\n",
    "\\frac{\\partial l}{\\partial \\mu } \\cdotp \\frac{\\partial \\mu }{\\partial x_{i}} =-\\frac{1}{n}\\sum _{i}\\frac{\\partial l}{\\partial y_{i}} \\cdotp \\gamma \\cdotp \\left( \\sigma ^{2} +\\epsilon \\right)^{-1/2}\\\\\n",
    "\\\\\n",
    "\\\\\n",
    "\\frac{\\partial l}{\\partial y_{i}} \\gamma \\left( \\sigma ^{2} +\\epsilon \\right)^{-1/2} -\\frac{1}{2} \\gamma \\sum _{j}\\frac{\\partial l}{\\partial y_{j}}( x_{j} -\\mu )\\left( \\sigma ^{2} +\\epsilon \\right)^{-3/2} \\cdotp \\frac{2}{n-1}( x_{i} -u) -\\frac{1}{n}\\sum _{i}\\frac{\\partial l}{\\partial y_{i}} \\cdotp \\gamma \\cdotp \\left( \\sigma ^{2} +\\epsilon \\right)^{-1/2}\\\\\n",
    "=\\frac{\\partial l}{\\partial y_{i}} \\gamma \\left( \\sigma ^{2} +\\epsilon \\right)^{-1/2} +\\left( \\sigma ^{2} +\\epsilon \\right)^{-1/2}\\left( -\\gamma \\sum _{j}\\frac{\\partial l}{\\partial y_{j}}\\frac{( x_{j} -u)}{\\sqrt{\\sigma ^{2} +\\epsilon }}\\right)\\left(\\frac{1}{n-1}\\frac{x_{i} -u}{\\sqrt{\\sigma ^{2} +\\epsilon }}\\right) -\\frac{1}{n}\\sum _{j}\\frac{\\partial l}{\\partial y_{j}} \\cdotp \\gamma \\cdotp \\left( \\sigma ^{2} +\\epsilon \\right)^{-1/2}\\\\\n",
    "\\\\\n",
    "\\text{but} \\ \\widehat{x_{i}} =\\frac{x_{i} -\\mu }{\\sqrt{\\sigma ^{2} +\\epsilon }}\\\\\n",
    "\\frac{\\partial l}{\\partial y_{i}} \\gamma \\left( \\sigma ^{2} +\\epsilon \\right)^{-1/2} +\\left( \\sigma ^{2} +\\epsilon \\right)^{-1/2}\\left( -\\gamma \\sum _{j}\\frac{\\partial l}{\\partial y_{j}}\\frac{( x_{j} -u)}{\\sqrt{\\sigma ^{2} +\\epsilon }}\\right)\\left(\\frac{1}{n-1}\\frac{x_{i} -u}{\\sqrt{\\sigma ^{2} +\\epsilon }}\\right) -\\frac{1}{n}\\sum _{j}\\frac{\\partial l}{\\partial y_{j}} \\cdotp \\gamma \\cdotp \\left( \\sigma ^{2} +\\epsilon \\right)^{-1/2}\\\\\n",
    "=\\frac{\\partial l}{\\partial y_{i}} \\gamma \\left( \\sigma ^{2} +\\epsilon \\right)^{-1/2} +\\left( \\sigma ^{2} +\\epsilon \\right)^{-1/2}\\left( -\\gamma \\sum _{j}\\frac{\\partial l}{\\partial y_{j}}\\widehat{x_{j}}\\right)\\left(\\frac{1}{n-1}\\widehat{x_{i}}\\right) -\\frac{1}{n}\\sum _{j}\\frac{\\partial l}{\\partial y_{j}} \\cdotp \\gamma \\cdotp \\left( \\sigma ^{2} +\\epsilon \\right)^{-1/2}\\\\\n",
    "\\boxed{\\frac{\\partial l}{\\partial x_{i}} ==\\gamma \\frac{1}{n}\\left( \\sigma ^{2} +\\epsilon \\right)^{-1/2}\\left( n\\frac{\\partial l}{\\partial y_{i}} -\\frac{n}{n-1}\\widehat{x_{i}}\\sum _{j}\\frac{\\partial l}{\\partial y_{j}}\\widehat{x_{j}} -\\sum _{j}\\frac{\\partial l}{\\partial y_{j}}\\right)}\n",
    "\\end{array}"
   ]
  },
  {
   "cell_type": "markdown",
   "id": "82a63e17-6ea4-491f-9432-ddd6923c706a",
   "metadata": {},
   "source": [
    "$\\displaystyle \\frac{\\partial l}{\\partial y_{j}} =h_{\\text{pre-activation}}$ = hpreact\n",
    "\n",
    "$\\displaystyle n$ = batch size\n",
    "\n",
    "$\\displaystyle \\widehat{x_{j}} ,\\ \\widehat{x_{i}} =$batch normalized inputs = bnraw\n",
    "\n",
    "$\\displaystyle \\gamma =$bngain\n",
    "\n",
    "$\\displaystyle \\sigma ^{2} =$bnbias"
   ]
  },
  {
   "cell_type": "code",
   "execution_count": 196,
   "id": "1e358ff5-0749-43db-b040-9124136a988a",
   "metadata": {},
   "outputs": [
    {
     "name": "stdout",
     "output_type": "stream",
     "text": [
      "dhpreact (dl/dy) torch.Size([32, 64])\n",
      "bnraw (x_hat) torch.Size([32, 64])\n",
      "bngain - gamma torch.Size([1, 64])\n",
      "bnbias - sigma torch.Size([1, 64])\n",
      "bnvar_inv torch.Size([1, 64])\n"
     ]
    }
   ],
   "source": [
    "# check shapes and broadcasting\n",
    "print('dhpreact (dl/dy)',dhpreact.shape)\n",
    "print('bnraw (x_hat)', bnraw.shape)\n",
    "print('bngain - gamma', bngain.shape)\n",
    "print('bnbias - sigma', bnbias.shape)\n",
    "print('bnvar_inv', bnvar_inv.shape)"
   ]
  },
  {
   "cell_type": "code",
   "execution_count": 195,
   "id": "5c3e2794-d607-48de-a9be-22ca132887fd",
   "metadata": {},
   "outputs": [
    {
     "data": {
      "text/plain": [
       "torch.Size([1, 64])"
      ]
     },
     "execution_count": 195,
     "metadata": {},
     "output_type": "execute_result"
    }
   ],
   "source": [
    "(bngain*1/n*bnvar_inv).shape"
   ]
  },
  {
   "cell_type": "code",
   "execution_count": 244,
   "id": "6f23785e-5ece-4768-bb00-85c7d227bead",
   "metadata": {},
   "outputs": [
    {
     "data": {
      "text/plain": [
       "torch.Size([32, 64])"
      ]
     },
     "execution_count": 244,
     "metadata": {},
     "output_type": "execute_result"
    }
   ],
   "source": [
    "(n*dhpreact).shape"
   ]
  },
  {
   "cell_type": "code",
   "execution_count": 273,
   "id": "4be09b9b-7cda-40f5-94a1-c81be02c43f2",
   "metadata": {},
   "outputs": [
    {
     "data": {
      "text/plain": [
       "torch.Size([1, 64])"
      ]
     },
     "execution_count": 273,
     "metadata": {},
     "output_type": "execute_result"
    }
   ],
   "source": [
    "dhpreact.sum(0, keepdim=True).shape"
   ]
  },
  {
   "cell_type": "code",
   "execution_count": 274,
   "id": "a9817f7c-53b9-451b-b46f-a4809e95e773",
   "metadata": {},
   "outputs": [
    {
     "data": {
      "text/plain": [
       "torch.Size([32, 64])"
      ]
     },
     "execution_count": 274,
     "metadata": {},
     "output_type": "execute_result"
    }
   ],
   "source": [
    "(bnraw * n/(n-1) * (dhpreact*bnraw).sum(0, keepdim=True)).shape"
   ]
  },
  {
   "cell_type": "code",
   "execution_count": 276,
   "id": "85d8c605-f33d-472b-8f29-c532e6f25cd7",
   "metadata": {},
   "outputs": [
    {
     "data": {
      "text/plain": [
       "torch.Size([32, 64])"
      ]
     },
     "execution_count": 276,
     "metadata": {},
     "output_type": "execute_result"
    }
   ],
   "source": [
    "((bngain*1/n*bnvar_inv) * (n*dhpreact - dhpreact.sum(0) -\n",
    "                            (bnraw * n/(n-1) * (dhpreact*bnraw).sum(0, keepdim=True)))).shape"
   ]
  },
  {
   "cell_type": "code",
   "execution_count": 277,
   "id": "81f08996-5669-42ef-aec5-0edbb512eced",
   "metadata": {},
   "outputs": [],
   "source": [
    "'''\n",
    "dl/dx needs to be [32x64]\n",
    "we only need to broadcast for multiplication\n",
    "'''\n",
    "dhprebn = (bngain*1/n*bnvar_inv) * (n*dhpreact - dhpreact.sum(0) -\n",
    "                            (bnraw * n/(n-1) * (dhpreact*bnraw).sum(0, keepdim=True)))"
   ]
  },
  {
   "cell_type": "code",
   "execution_count": 278,
   "id": "b444b428-4b6b-41d0-8ea9-e1d25e9fd992",
   "metadata": {},
   "outputs": [
    {
     "name": "stdout",
     "output_type": "stream",
     "text": [
      "hprebn          | exact: False | approx: True  | maxdiff: 9.313225746154785e-10\n"
     ]
    }
   ],
   "source": [
    "cmp('hprebn', dhprebn, hprebn)"
   ]
  },
  {
   "cell_type": "code",
   "execution_count": 345,
   "id": "28db6899-5df4-41b4-b0f8-4722c2fa97b7",
   "metadata": {},
   "outputs": [],
   "source": [
    "# putting it all together\n",
    "\n",
    "# init\n",
    "n_embd = 10 # embedding dim\n",
    "n_hidden = 200 # neuron count\n",
    "\n",
    "g = torch.Generator().manual_seed(2147483647)\n",
    "C = torch.randn( (vocab_size, n_embd), generator=g ) # embedding layer"
   ]
  },
  {
   "cell_type": "code",
   "execution_count": 346,
   "id": "6200eb6c-3dd5-4f8c-bf7e-e85f4ced0680",
   "metadata": {},
   "outputs": [
    {
     "name": "stdout",
     "output_type": "stream",
     "text": [
      "12297\n"
     ]
    }
   ],
   "source": [
    "# layer 1\n",
    "W1 = torch.randn( (n_embd * block_size, n_hidden), generator=g) * (5/3)/((n_embd * block_size)**0.5 )\n",
    "b1 = torch.randn(n_hidden, generator=g) * 0.1\n",
    "\n",
    "# layer 2\n",
    "W2 = torch.randn( (n_hidden, vocab_size), generator=g) * 0.1\n",
    "b2 = torch.randn( vocab_size, generator=g) * 0.1\n",
    "\n",
    "# batchNorm params\n",
    "bngain = torch.randn((1, n_hidden)) * 0.1 + 1.0\n",
    "bnbias = torch.randn((1, n_hidden)) * 0.1\n",
    "\n",
    "parameters = [C, W1, b1, W2, b2, bngain, bnbias]\n",
    "print(sum(p.nelement() for p in parameters)) # number of params in total\n",
    "# for p in parameters:\n",
    "#    p.requires_grad = True\n",
    "\n",
    "# same optimization as last time\n",
    "max_steps = 200000\n",
    "batch_size = 32\n",
    "n = batch_size # short hand\n",
    "lossi = []\n"
   ]
  },
  {
   "cell_type": "code",
   "execution_count": 347,
   "id": "77d48bc8-9cd8-4a0d-b934-5adb2d87cd13",
   "metadata": {},
   "outputs": [
    {
     "name": "stdout",
     "output_type": "stream",
     "text": [
      "      0/ 200000: 3.7882\n",
      "  10000/ 200000: 2.1794\n",
      "  20000/ 200000: 2.3514\n",
      "  30000/ 200000: 2.4031\n",
      "  40000/ 200000: 2.0586\n",
      "  50000/ 200000: 2.3512\n",
      "  60000/ 200000: 2.4090\n",
      "  70000/ 200000: 2.0142\n",
      "  80000/ 200000: 2.3217\n",
      "  90000/ 200000: 2.1356\n",
      " 100000/ 200000: 1.9070\n",
      " 110000/ 200000: 2.3057\n",
      " 120000/ 200000: 2.0370\n",
      " 130000/ 200000: 2.4357\n",
      " 140000/ 200000: 2.2561\n",
      " 150000/ 200000: 2.1799\n",
      " 160000/ 200000: 1.9231\n",
      " 170000/ 200000: 1.8287\n",
      " 180000/ 200000: 1.9639\n",
      " 190000/ 200000: 1.9546\n"
     ]
    }
   ],
   "source": [
    "with torch.no_grad(): # make sure we are not using torch.grad\n",
    "    # kick off optimization\n",
    "    for i in range(max_steps):\n",
    "    \n",
    "        # mini batch construct\n",
    "        ix = torch.randint(0, Xtr.shape[0], (batch_size,), generator=g)\n",
    "        Xb, Yb = Xtr[ix], Ytr[ix] # batch X,Y\n",
    "    \n",
    "        # forward pass\n",
    "        emb = C[Xb] # get embedding\n",
    "        embcat = emb.view( emb.shape[0], -1) # concat embeddings, 3 words worth of embedding\n",
    "    \n",
    "        # linear layer 1\n",
    "        hprebn = embcat @ W1 + b1 # hidden layer b4 activation\n",
    "    \n",
    "        # batch norm layer\n",
    "        # ------------------\n",
    "        bnmean = hprebn.mean(0, keepdim=True)\n",
    "        bnvar = hprebn.var(0, keepdim=True, unbiased=True)\n",
    "        bnvar_inv = (bnvar + 1e-5)**-0.5\n",
    "        bnraw = (hprebn - bnmean) * bnvar_inv\n",
    "        hpreact = bngain * bnraw + bnbias\n",
    "        # ------------------\n",
    "    \n",
    "        # non-linearity\n",
    "        h = torch.tanh(hpreact) # activation\n",
    "    \n",
    "        # linear layer 2\n",
    "        logits = h @ W2 + b2\n",
    "        loss = F.cross_entropy(logits, Yb) # compute loss\n",
    "    \n",
    "        # backward pass\n",
    "        for p in parameters:\n",
    "            # reset gradient\n",
    "            p.grad = None\n",
    "    \n",
    "        # loss.backward() # use this for comparison\n",
    "    \n",
    "        # manual back prop\n",
    "        dlogits = F.softmax(logits, 1) # p_i\n",
    "        # i == j, p_i-1\n",
    "        dlogits[range(n), Yb] -= 1\n",
    "        # loss is per batch_size=n, so we need to get avg loss per sample, so divide by n\n",
    "        dlogits /= n\n",
    "    \n",
    "        dh = dlogits @ W2.T\n",
    "        \n",
    "        dhpreact = dh * (1 - h**2)\n",
    "        dhprebn = (bngain*1/n*bnvar_inv) * (n*dhpreact - dhpreact.sum(0) -\n",
    "                                (bnraw * n/(n-1) * (dhpreact*bnraw).sum(0, keepdim=True)))\n",
    "        \n",
    "        dembcat = dhprebn @ W1.T\n",
    "        \n",
    "        demb = dembcat.view(emb.shape)\n",
    "        \n",
    "        dC = torch.zeros_like(C)\n",
    "        for k in range(Xb.shape[0]):\n",
    "            for j in range(Xb.shape[1]):\n",
    "                # index of C\n",
    "                ix = Xb[k, j]\n",
    "                dC[ix] += demb[k,j]\n",
    "    \n",
    "        dW1 = embcat.T @ dhprebn\n",
    "        db1 = dhprebn.sum(0)\n",
    "        dW2 = h.T @ dlogits\n",
    "        db2 = dlogits.sum(0)\n",
    "    \n",
    "        dbngain = (bnraw * dhpreact).sum(0, keepdim=True)\n",
    "        dbnbias = dhpreact.sum(0, keepdim=True)\n",
    "    \n",
    "        grads = [dC, dW1, db1, dW2, db2, dbngain, dbnbias]\n",
    "    \n",
    "        # update\n",
    "        lr = 0.1 if i < 100000 else 0.01 # learning rate decay\n",
    "        for p, grad in zip(parameters, grads):\n",
    "            # p.data += -lr * p.grad # old way using pytorch gradient\n",
    "            p.data += -lr * grad # manual gradient\n",
    "    \n",
    "        # track stats\n",
    "        if i % 10000 == 0: # print every once in a while\n",
    "            print(f'{i:7d}/{max_steps:7d}: {loss.item():.4f}')\n",
    "    \n",
    "        lossi.append(loss.log10().item())\n",
    "    \n",
    "        # if i >= 50000: # delete early breaking if we are ready to train all the way\n",
    "        #    break\n",
    "        "
   ]
  },
  {
   "cell_type": "code",
   "execution_count": 348,
   "id": "99053dfd-bee9-492d-b612-1fd0ba7f1f56",
   "metadata": {},
   "outputs": [],
   "source": [
    "# calibrate the batch norm at the end of training\n",
    "with torch.no_grad():\n",
    "    # pass the training set through\n",
    "    emb = C[Xtr]\n",
    "    embcat = emb.view(emb.shape[0], -1)\n",
    "    hpreact = embcat @ W1 + b1\n",
    "    # measure the mean/std over the entire training set\n",
    "    bnmean = hpreact.mean(0, keepdim=True)\n",
    "    bnvar = hpreact.var(0, keepdim=True, unbiased=True)"
   ]
  },
  {
   "cell_type": "code",
   "execution_count": 349,
   "id": "ec8e2b17-ea1d-4998-ae96-7f5a43f576fc",
   "metadata": {},
   "outputs": [
    {
     "name": "stdout",
     "output_type": "stream",
     "text": [
      "train 3.321498394012451\n",
      "val 3.4032139778137207\n"
     ]
    }
   ],
   "source": [
    "# evaluate trand/val loss\n",
    "\n",
    "@torch.no_grad() # decorator disable gradient tracking\n",
    "def split_loss(split):\n",
    "    x, y = {\n",
    "        'train': (Xtr, Ytr),\n",
    "        'val': (Xdev, Ydev),\n",
    "        'test': (Xte, Yte),\n",
    "    }[split]\n",
    "\n",
    "    emb = C[x] # (N, block_size, n_embd)\n",
    "    embcat = emb.view(emb.shape[0], -1) # concat into (N, block_size * n_embd)\n",
    "    hpreact = embcat @ W1 + b1\n",
    "    hpreact = bngain * (hpreact - bnmean) * (bnvar * 1e-5)**-0.5 + bnbias\n",
    "    h = torch.tanh(hpreact) # (N, vocab_size)\n",
    "    logits = h @ W2 + b2 # (N, vocab_size)\n",
    "    loss = F.cross_entropy(logits, y)\n",
    "    print(split, loss.item())\n",
    "\n",
    "split_loss('train')\n",
    "split_loss('val')"
   ]
  },
  {
   "cell_type": "code",
   "execution_count": 350,
   "id": "4266360d-26f2-4927-a75a-036060fec9b4",
   "metadata": {},
   "outputs": [
    {
     "name": "stdout",
     "output_type": "stream",
     "text": [
      "viyann.\n",
      "rus.\n",
      "brendi.\n",
      "nasuon.\n",
      "darwan.\n",
      "kadenavarlinaiconnixandi.\n",
      "sose.\n",
      "nas.\n",
      "sebed.\n",
      "oco.\n",
      "keen.\n",
      "awellian.\n",
      "emotyn.\n",
      "abeus.\n",
      "josley.\n",
      "lous.\n",
      "kael.\n",
      "yana.\n",
      "rainon.\n",
      "maylin.\n"
     ]
    }
   ],
   "source": [
    "for _ in range(20):\n",
    "    out = []\n",
    "    context = [0] * block_size # initialize with `...`\n",
    "    \n",
    "    while True:\n",
    "        # ----------\n",
    "        # forward pass\n",
    "        # embedding\n",
    "        emb = C[torch.tensor([context])] # (1, block_size, d)\n",
    "        embcat = emb.view(emb.shape[0], -1) # concat\n",
    "        hpreact = embcat @ W1 + b1\n",
    "        hpreact = bngain * (hpreact - bnmean) * (bnvar + 1e-5)**-0.5 + bnbias\n",
    "        h = torch.tanh(hpreact) # (N, n_hidden)\n",
    "        logits = h @ W2 + b2 # (N, vocab_size)\n",
    "        # ----------\n",
    "        # sample\n",
    "        probs = F.softmax(logits, dim=1)\n",
    "        ix = torch.multinomial(probs, num_samples=1, generator=g).item()\n",
    "        context = context[1:] + [ix]\n",
    "        out.append(ix)\n",
    "\n",
    "        if ix == 0:\n",
    "            break\n",
    "\n",
    "    print(''.join(itos[i] for i in out))"
   ]
  },
  {
   "cell_type": "code",
   "execution_count": null,
   "id": "693f5321-2225-4fdb-9eb9-b7aea072c70a",
   "metadata": {},
   "outputs": [],
   "source": []
  }
 ],
 "metadata": {
  "kernelspec": {
   "display_name": "Python 3 (ipykernel)",
   "language": "python",
   "name": "python3"
  },
  "language_info": {
   "codemirror_mode": {
    "name": "ipython",
    "version": 3
   },
   "file_extension": ".py",
   "mimetype": "text/x-python",
   "name": "python",
   "nbconvert_exporter": "python",
   "pygments_lexer": "ipython3",
   "version": "3.10.12"
  }
 },
 "nbformat": 4,
 "nbformat_minor": 5
}
